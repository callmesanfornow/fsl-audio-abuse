{
 "cells": [
  {
   "cell_type": "markdown",
   "metadata": {},
   "source": [
    "# Visualization Notebook\n",
    "\n",
    "This python notebook contains code for the visualizations.\n",
    "\n",
    "1. Plotting the accuracy scores as heatmap for the classification task\n",
    "2. Plotting the tSNE plot for Whisper L2 Norm (Best Performing)\n",
    "\n",
    "---\n",
    "\n",
    "## Plotting the results table"
   ]
  },
  {
   "cell_type": "code",
   "execution_count": null,
   "metadata": {},
   "outputs": [],
   "source": [
    "import os\n",
    "import pandas as pd\n",
    "import numpy as np\n",
    "from plotly.graph_objs import Figure, Scatter\n",
    "import plotly.graph_objects as go\n",
    "from plotly.subplots import make_subplots\n",
    "import re\n",
    "import plotly.io as pio\n",
    "import plotly.express as px\n",
    "from sklearn.manifold import TSNE"
   ]
  },
  {
   "cell_type": "code",
   "execution_count": 2,
   "metadata": {},
   "outputs": [],
   "source": [
    "def get_k_shot_value(filename):\n",
    "  \"\"\"Extracts the k-shot value from a filename using regular expressions.\n",
    "\n",
    "  Args:\n",
    "    filename: The filename to extract the k-shot value from.\n",
    "\n",
    "  Returns:\n",
    "    The integer k-shot value or None if not found.\n",
    "  \"\"\"\n",
    "  match = re.search(r\"(\\d+)-result\", filename)\n",
    "  if match:\n",
    "    return int(match.group(1))\n",
    "  else:\n",
    "    return None"
   ]
  },
  {
   "cell_type": "code",
   "execution_count": 3,
   "metadata": {},
   "outputs": [],
   "source": [
    "def plot_heatmaps(parent_folder_path, model):\n",
    "    feature_sets = [\"whisper\", \"wav2vec\"]\n",
    "    data = {feature_set: [] for feature_set in feature_sets}\n",
    "    \n",
    "    for feature_set in feature_sets:\n",
    "        folder_path = os.path.join(parent_folder_path, feature_set)\n",
    "        csv_files = sorted(\n",
    "            [f for f in os.listdir(folder_path) if f.endswith(\".csv\")],\n",
    "            key=lambda f: get_k_shot_value(f) or float('inf'))\n",
    "        \n",
    "        for csv_file in csv_files:\n",
    "            df = pd.read_csv(os.path.join(folder_path, csv_file))\n",
    "            k_shot = int(csv_file.split(\"-\")[0])\n",
    "            \n",
    "            for i, language in enumerate(df[\"Unnamed: 0\"].tolist()):\n",
    "                accuracy = df[\"accuracy\"].tolist()[i]\n",
    "                data[feature_set].append({\n",
    "                    \"Language\": language,\n",
    "                    \"Shot Size\": k_shot,\n",
    "                    \"Accuracy\": accuracy\n",
    "                })\n",
    "\n",
    "    # Plot heatmaps for each feature set\n",
    "    for feature_set, rows in data.items():\n",
    "        df = pd.DataFrame(rows)\n",
    "        \n",
    "        # Sort languages alphabetically\n",
    "        df = df.sort_values(by=\"Language\")\n",
    "        \n",
    "        df_pivot = df.pivot(index=\"Language\", columns=\"Shot Size\", values=\"Accuracy\")\n",
    "        \n",
    "        fig = go.Figure(data=go.Heatmap(\n",
    "            z=df_pivot.values,\n",
    "            x=df_pivot.columns,\n",
    "            y=df_pivot.index,\n",
    "            colorscale='blues',\n",
    "            colorbar=dict(title='Accuracy'),\n",
    "            zmin=0.65,  # Set minimum value for color scaling\n",
    "            zmax=0.90,  # Set maximum value for color scaling\n",
    "            text=df_pivot.values,  # Text to display inside heatmap cells\n",
    "            hoverinfo=\"text+z\",\n",
    "            texttemplate=\"%{text:.2f}\",  # Format text to show two decimal places\n",
    "            textfont={\"size\": 16},  # Increase the font size\n",
    "            textfont_color=\"black\"  # Force all text to be black\n",
    "        ))\n",
    "\n",
    "\n",
    "        # Customize layout\n",
    "        fig.update_layout(\n",
    "            # title={\n",
    "            #     'text': f\"{model} - Heatmap of Accuracy for {feature_set.capitalize()}\",\n",
    "            #     'x': 0.5,\n",
    "            #     'xanchor': 'center'\n",
    "            #     },\n",
    "            xaxis_title=\"Shot Size\",\n",
    "            yaxis_title=\"Language\",\n",
    "            yaxis=dict(tickmode='linear'),\n",
    "            autosize=False,\n",
    "            width=600,\n",
    "            height=600,\n",
    "        )\n",
    "\n",
    "        # Show the plot\n",
    "        fig.show()\n",
    "\n",
    "        # Save the plot as a PDF\n",
    "        model_safe = re.sub(r'[\\s:]', '-', model)\n",
    "        output_dir = \"./plots\"\n",
    "        os.makedirs(output_dir, exist_ok=True)  # Create directory if it doesn't exist\n",
    "        pio.write_image(fig, f\"{output_dir}/{model_safe}_{feature_set}_heatmap.pdf\", format=\"pdf\")"
   ]
  },
  {
   "cell_type": "code",
   "execution_count": 4,
   "metadata": {},
   "outputs": [
    {
     "data": {
      "application/vnd.plotly.v1+json": {
       "config": {
        "plotlyServerURL": "https://plot.ly"
       },
       "data": [
        {
         "colorbar": {
          "title": {
           "text": "Accuracy"
          }
         },
         "colorscale": [
          [
           0,
           "rgb(247,251,255)"
          ],
          [
           0.125,
           "rgb(222,235,247)"
          ],
          [
           0.25,
           "rgb(198,219,239)"
          ],
          [
           0.375,
           "rgb(158,202,225)"
          ],
          [
           0.5,
           "rgb(107,174,214)"
          ],
          [
           0.625,
           "rgb(66,146,198)"
          ],
          [
           0.75,
           "rgb(33,113,181)"
          ],
          [
           0.875,
           "rgb(8,81,156)"
          ],
          [
           1,
           "rgb(8,48,107)"
          ]
         ],
         "hoverinfo": "text+z",
         "text": [
          [
           0.7216216216216216,
           0.7324324324324324,
           0.7432432432432432,
           0.6972972972972973
          ],
          [
           0.7172619047619048,
           0.7916666666666666,
           0.7767857142857143,
           0.7440476190476191
          ],
          [
           0.7237569060773481,
           0.7154696132596685,
           0.7044198895027625,
           0.7569060773480663
          ],
          [
           0.7568306010928961,
           0.7814207650273224,
           0.7704918032786885,
           0.7704918032786885
          ],
          [
           0.7127371273712737,
           0.7696476964769647,
           0.7506775067750677,
           0.7642276422764228
          ],
          [
           0.6883468834688347,
           0.7533875338753387,
           0.7046070460704607,
           0.7615176151761518
          ],
          [
           0.7204301075268817,
           0.739247311827957,
           0.7338709677419355,
           0.7876344086021505
          ],
          [
           0.7506849315068493,
           0.7726027397260274,
           0.7671232876712328,
           0.7534246575342466
          ],
          [
           0.7438692098092643,
           0.7656675749318801,
           0.773841961852861,
           0.8038147138964578
          ],
          [
           0.6900269541778976,
           0.692722371967655,
           0.7250673854447439,
           0.7493261455525606
          ]
         ],
         "textfont": {
          "color": "black",
          "size": 16
         },
         "texttemplate": "%{text:.2f}",
         "type": "heatmap",
         "x": [
          50,
          100,
          150,
          200
         ],
         "y": [
          "Bengali",
          "Bhojpuri",
          "Gujarati",
          "Haryanvi",
          "Hindi",
          "Kannada",
          "Malayalam",
          "Odia",
          "Punjabi",
          "Tamil"
         ],
         "z": [
          [
           0.7216216216216216,
           0.7324324324324324,
           0.7432432432432432,
           0.6972972972972973
          ],
          [
           0.7172619047619048,
           0.7916666666666666,
           0.7767857142857143,
           0.7440476190476191
          ],
          [
           0.7237569060773481,
           0.7154696132596685,
           0.7044198895027625,
           0.7569060773480663
          ],
          [
           0.7568306010928961,
           0.7814207650273224,
           0.7704918032786885,
           0.7704918032786885
          ],
          [
           0.7127371273712737,
           0.7696476964769647,
           0.7506775067750677,
           0.7642276422764228
          ],
          [
           0.6883468834688347,
           0.7533875338753387,
           0.7046070460704607,
           0.7615176151761518
          ],
          [
           0.7204301075268817,
           0.739247311827957,
           0.7338709677419355,
           0.7876344086021505
          ],
          [
           0.7506849315068493,
           0.7726027397260274,
           0.7671232876712328,
           0.7534246575342466
          ],
          [
           0.7438692098092643,
           0.7656675749318801,
           0.773841961852861,
           0.8038147138964578
          ],
          [
           0.6900269541778976,
           0.692722371967655,
           0.7250673854447439,
           0.7493261455525606
          ]
         ],
         "zmax": 0.9,
         "zmin": 0.65
        }
       ],
       "layout": {
        "autosize": false,
        "height": 600,
        "template": {
         "data": {
          "bar": [
           {
            "error_x": {
             "color": "#2a3f5f"
            },
            "error_y": {
             "color": "#2a3f5f"
            },
            "marker": {
             "line": {
              "color": "#E5ECF6",
              "width": 0.5
             },
             "pattern": {
              "fillmode": "overlay",
              "size": 10,
              "solidity": 0.2
             }
            },
            "type": "bar"
           }
          ],
          "barpolar": [
           {
            "marker": {
             "line": {
              "color": "#E5ECF6",
              "width": 0.5
             },
             "pattern": {
              "fillmode": "overlay",
              "size": 10,
              "solidity": 0.2
             }
            },
            "type": "barpolar"
           }
          ],
          "carpet": [
           {
            "aaxis": {
             "endlinecolor": "#2a3f5f",
             "gridcolor": "white",
             "linecolor": "white",
             "minorgridcolor": "white",
             "startlinecolor": "#2a3f5f"
            },
            "baxis": {
             "endlinecolor": "#2a3f5f",
             "gridcolor": "white",
             "linecolor": "white",
             "minorgridcolor": "white",
             "startlinecolor": "#2a3f5f"
            },
            "type": "carpet"
           }
          ],
          "choropleth": [
           {
            "colorbar": {
             "outlinewidth": 0,
             "ticks": ""
            },
            "type": "choropleth"
           }
          ],
          "contour": [
           {
            "colorbar": {
             "outlinewidth": 0,
             "ticks": ""
            },
            "colorscale": [
             [
              0,
              "#0d0887"
             ],
             [
              0.1111111111111111,
              "#46039f"
             ],
             [
              0.2222222222222222,
              "#7201a8"
             ],
             [
              0.3333333333333333,
              "#9c179e"
             ],
             [
              0.4444444444444444,
              "#bd3786"
             ],
             [
              0.5555555555555556,
              "#d8576b"
             ],
             [
              0.6666666666666666,
              "#ed7953"
             ],
             [
              0.7777777777777778,
              "#fb9f3a"
             ],
             [
              0.8888888888888888,
              "#fdca26"
             ],
             [
              1,
              "#f0f921"
             ]
            ],
            "type": "contour"
           }
          ],
          "contourcarpet": [
           {
            "colorbar": {
             "outlinewidth": 0,
             "ticks": ""
            },
            "type": "contourcarpet"
           }
          ],
          "heatmap": [
           {
            "colorbar": {
             "outlinewidth": 0,
             "ticks": ""
            },
            "colorscale": [
             [
              0,
              "#0d0887"
             ],
             [
              0.1111111111111111,
              "#46039f"
             ],
             [
              0.2222222222222222,
              "#7201a8"
             ],
             [
              0.3333333333333333,
              "#9c179e"
             ],
             [
              0.4444444444444444,
              "#bd3786"
             ],
             [
              0.5555555555555556,
              "#d8576b"
             ],
             [
              0.6666666666666666,
              "#ed7953"
             ],
             [
              0.7777777777777778,
              "#fb9f3a"
             ],
             [
              0.8888888888888888,
              "#fdca26"
             ],
             [
              1,
              "#f0f921"
             ]
            ],
            "type": "heatmap"
           }
          ],
          "heatmapgl": [
           {
            "colorbar": {
             "outlinewidth": 0,
             "ticks": ""
            },
            "colorscale": [
             [
              0,
              "#0d0887"
             ],
             [
              0.1111111111111111,
              "#46039f"
             ],
             [
              0.2222222222222222,
              "#7201a8"
             ],
             [
              0.3333333333333333,
              "#9c179e"
             ],
             [
              0.4444444444444444,
              "#bd3786"
             ],
             [
              0.5555555555555556,
              "#d8576b"
             ],
             [
              0.6666666666666666,
              "#ed7953"
             ],
             [
              0.7777777777777778,
              "#fb9f3a"
             ],
             [
              0.8888888888888888,
              "#fdca26"
             ],
             [
              1,
              "#f0f921"
             ]
            ],
            "type": "heatmapgl"
           }
          ],
          "histogram": [
           {
            "marker": {
             "pattern": {
              "fillmode": "overlay",
              "size": 10,
              "solidity": 0.2
             }
            },
            "type": "histogram"
           }
          ],
          "histogram2d": [
           {
            "colorbar": {
             "outlinewidth": 0,
             "ticks": ""
            },
            "colorscale": [
             [
              0,
              "#0d0887"
             ],
             [
              0.1111111111111111,
              "#46039f"
             ],
             [
              0.2222222222222222,
              "#7201a8"
             ],
             [
              0.3333333333333333,
              "#9c179e"
             ],
             [
              0.4444444444444444,
              "#bd3786"
             ],
             [
              0.5555555555555556,
              "#d8576b"
             ],
             [
              0.6666666666666666,
              "#ed7953"
             ],
             [
              0.7777777777777778,
              "#fb9f3a"
             ],
             [
              0.8888888888888888,
              "#fdca26"
             ],
             [
              1,
              "#f0f921"
             ]
            ],
            "type": "histogram2d"
           }
          ],
          "histogram2dcontour": [
           {
            "colorbar": {
             "outlinewidth": 0,
             "ticks": ""
            },
            "colorscale": [
             [
              0,
              "#0d0887"
             ],
             [
              0.1111111111111111,
              "#46039f"
             ],
             [
              0.2222222222222222,
              "#7201a8"
             ],
             [
              0.3333333333333333,
              "#9c179e"
             ],
             [
              0.4444444444444444,
              "#bd3786"
             ],
             [
              0.5555555555555556,
              "#d8576b"
             ],
             [
              0.6666666666666666,
              "#ed7953"
             ],
             [
              0.7777777777777778,
              "#fb9f3a"
             ],
             [
              0.8888888888888888,
              "#fdca26"
             ],
             [
              1,
              "#f0f921"
             ]
            ],
            "type": "histogram2dcontour"
           }
          ],
          "mesh3d": [
           {
            "colorbar": {
             "outlinewidth": 0,
             "ticks": ""
            },
            "type": "mesh3d"
           }
          ],
          "parcoords": [
           {
            "line": {
             "colorbar": {
              "outlinewidth": 0,
              "ticks": ""
             }
            },
            "type": "parcoords"
           }
          ],
          "pie": [
           {
            "automargin": true,
            "type": "pie"
           }
          ],
          "scatter": [
           {
            "fillpattern": {
             "fillmode": "overlay",
             "size": 10,
             "solidity": 0.2
            },
            "type": "scatter"
           }
          ],
          "scatter3d": [
           {
            "line": {
             "colorbar": {
              "outlinewidth": 0,
              "ticks": ""
             }
            },
            "marker": {
             "colorbar": {
              "outlinewidth": 0,
              "ticks": ""
             }
            },
            "type": "scatter3d"
           }
          ],
          "scattercarpet": [
           {
            "marker": {
             "colorbar": {
              "outlinewidth": 0,
              "ticks": ""
             }
            },
            "type": "scattercarpet"
           }
          ],
          "scattergeo": [
           {
            "marker": {
             "colorbar": {
              "outlinewidth": 0,
              "ticks": ""
             }
            },
            "type": "scattergeo"
           }
          ],
          "scattergl": [
           {
            "marker": {
             "colorbar": {
              "outlinewidth": 0,
              "ticks": ""
             }
            },
            "type": "scattergl"
           }
          ],
          "scattermapbox": [
           {
            "marker": {
             "colorbar": {
              "outlinewidth": 0,
              "ticks": ""
             }
            },
            "type": "scattermapbox"
           }
          ],
          "scatterpolar": [
           {
            "marker": {
             "colorbar": {
              "outlinewidth": 0,
              "ticks": ""
             }
            },
            "type": "scatterpolar"
           }
          ],
          "scatterpolargl": [
           {
            "marker": {
             "colorbar": {
              "outlinewidth": 0,
              "ticks": ""
             }
            },
            "type": "scatterpolargl"
           }
          ],
          "scatterternary": [
           {
            "marker": {
             "colorbar": {
              "outlinewidth": 0,
              "ticks": ""
             }
            },
            "type": "scatterternary"
           }
          ],
          "surface": [
           {
            "colorbar": {
             "outlinewidth": 0,
             "ticks": ""
            },
            "colorscale": [
             [
              0,
              "#0d0887"
             ],
             [
              0.1111111111111111,
              "#46039f"
             ],
             [
              0.2222222222222222,
              "#7201a8"
             ],
             [
              0.3333333333333333,
              "#9c179e"
             ],
             [
              0.4444444444444444,
              "#bd3786"
             ],
             [
              0.5555555555555556,
              "#d8576b"
             ],
             [
              0.6666666666666666,
              "#ed7953"
             ],
             [
              0.7777777777777778,
              "#fb9f3a"
             ],
             [
              0.8888888888888888,
              "#fdca26"
             ],
             [
              1,
              "#f0f921"
             ]
            ],
            "type": "surface"
           }
          ],
          "table": [
           {
            "cells": {
             "fill": {
              "color": "#EBF0F8"
             },
             "line": {
              "color": "white"
             }
            },
            "header": {
             "fill": {
              "color": "#C8D4E3"
             },
             "line": {
              "color": "white"
             }
            },
            "type": "table"
           }
          ]
         },
         "layout": {
          "annotationdefaults": {
           "arrowcolor": "#2a3f5f",
           "arrowhead": 0,
           "arrowwidth": 1
          },
          "autotypenumbers": "strict",
          "coloraxis": {
           "colorbar": {
            "outlinewidth": 0,
            "ticks": ""
           }
          },
          "colorscale": {
           "diverging": [
            [
             0,
             "#8e0152"
            ],
            [
             0.1,
             "#c51b7d"
            ],
            [
             0.2,
             "#de77ae"
            ],
            [
             0.3,
             "#f1b6da"
            ],
            [
             0.4,
             "#fde0ef"
            ],
            [
             0.5,
             "#f7f7f7"
            ],
            [
             0.6,
             "#e6f5d0"
            ],
            [
             0.7,
             "#b8e186"
            ],
            [
             0.8,
             "#7fbc41"
            ],
            [
             0.9,
             "#4d9221"
            ],
            [
             1,
             "#276419"
            ]
           ],
           "sequential": [
            [
             0,
             "#0d0887"
            ],
            [
             0.1111111111111111,
             "#46039f"
            ],
            [
             0.2222222222222222,
             "#7201a8"
            ],
            [
             0.3333333333333333,
             "#9c179e"
            ],
            [
             0.4444444444444444,
             "#bd3786"
            ],
            [
             0.5555555555555556,
             "#d8576b"
            ],
            [
             0.6666666666666666,
             "#ed7953"
            ],
            [
             0.7777777777777778,
             "#fb9f3a"
            ],
            [
             0.8888888888888888,
             "#fdca26"
            ],
            [
             1,
             "#f0f921"
            ]
           ],
           "sequentialminus": [
            [
             0,
             "#0d0887"
            ],
            [
             0.1111111111111111,
             "#46039f"
            ],
            [
             0.2222222222222222,
             "#7201a8"
            ],
            [
             0.3333333333333333,
             "#9c179e"
            ],
            [
             0.4444444444444444,
             "#bd3786"
            ],
            [
             0.5555555555555556,
             "#d8576b"
            ],
            [
             0.6666666666666666,
             "#ed7953"
            ],
            [
             0.7777777777777778,
             "#fb9f3a"
            ],
            [
             0.8888888888888888,
             "#fdca26"
            ],
            [
             1,
             "#f0f921"
            ]
           ]
          },
          "colorway": [
           "#636efa",
           "#EF553B",
           "#00cc96",
           "#ab63fa",
           "#FFA15A",
           "#19d3f3",
           "#FF6692",
           "#B6E880",
           "#FF97FF",
           "#FECB52"
          ],
          "font": {
           "color": "#2a3f5f"
          },
          "geo": {
           "bgcolor": "white",
           "lakecolor": "white",
           "landcolor": "#E5ECF6",
           "showlakes": true,
           "showland": true,
           "subunitcolor": "white"
          },
          "hoverlabel": {
           "align": "left"
          },
          "hovermode": "closest",
          "mapbox": {
           "style": "light"
          },
          "paper_bgcolor": "white",
          "plot_bgcolor": "#E5ECF6",
          "polar": {
           "angularaxis": {
            "gridcolor": "white",
            "linecolor": "white",
            "ticks": ""
           },
           "bgcolor": "#E5ECF6",
           "radialaxis": {
            "gridcolor": "white",
            "linecolor": "white",
            "ticks": ""
           }
          },
          "scene": {
           "xaxis": {
            "backgroundcolor": "#E5ECF6",
            "gridcolor": "white",
            "gridwidth": 2,
            "linecolor": "white",
            "showbackground": true,
            "ticks": "",
            "zerolinecolor": "white"
           },
           "yaxis": {
            "backgroundcolor": "#E5ECF6",
            "gridcolor": "white",
            "gridwidth": 2,
            "linecolor": "white",
            "showbackground": true,
            "ticks": "",
            "zerolinecolor": "white"
           },
           "zaxis": {
            "backgroundcolor": "#E5ECF6",
            "gridcolor": "white",
            "gridwidth": 2,
            "linecolor": "white",
            "showbackground": true,
            "ticks": "",
            "zerolinecolor": "white"
           }
          },
          "shapedefaults": {
           "line": {
            "color": "#2a3f5f"
           }
          },
          "ternary": {
           "aaxis": {
            "gridcolor": "white",
            "linecolor": "white",
            "ticks": ""
           },
           "baxis": {
            "gridcolor": "white",
            "linecolor": "white",
            "ticks": ""
           },
           "bgcolor": "#E5ECF6",
           "caxis": {
            "gridcolor": "white",
            "linecolor": "white",
            "ticks": ""
           }
          },
          "title": {
           "x": 0.05
          },
          "xaxis": {
           "automargin": true,
           "gridcolor": "white",
           "linecolor": "white",
           "ticks": "",
           "title": {
            "standoff": 15
           },
           "zerolinecolor": "white",
           "zerolinewidth": 2
          },
          "yaxis": {
           "automargin": true,
           "gridcolor": "white",
           "linecolor": "white",
           "ticks": "",
           "title": {
            "standoff": 15
           },
           "zerolinecolor": "white",
           "zerolinewidth": 2
          }
         }
        },
        "width": 600,
        "xaxis": {
         "title": {
          "text": "Shot Size"
         }
        },
        "yaxis": {
         "tickmode": "linear",
         "title": {
          "text": "Language"
         }
        }
       }
      }
     },
     "metadata": {},
     "output_type": "display_data"
    },
    {
     "data": {
      "application/vnd.plotly.v1+json": {
       "config": {
        "plotlyServerURL": "https://plot.ly"
       },
       "data": [
        {
         "colorbar": {
          "title": {
           "text": "Accuracy"
          }
         },
         "colorscale": [
          [
           0,
           "rgb(247,251,255)"
          ],
          [
           0.125,
           "rgb(222,235,247)"
          ],
          [
           0.25,
           "rgb(198,219,239)"
          ],
          [
           0.375,
           "rgb(158,202,225)"
          ],
          [
           0.5,
           "rgb(107,174,214)"
          ],
          [
           0.625,
           "rgb(66,146,198)"
          ],
          [
           0.75,
           "rgb(33,113,181)"
          ],
          [
           0.875,
           "rgb(8,81,156)"
          ],
          [
           1,
           "rgb(8,48,107)"
          ]
         ],
         "hoverinfo": "text+z",
         "text": [
          [
           0.7486486486486487,
           0.754054054054054,
           0.7297297297297297,
           0.7135135135135136
          ],
          [
           0.7172619047619048,
           0.7767857142857143,
           0.75,
           0.7470238095238095
          ],
          [
           0.6408839779005525,
           0.7016574585635359,
           0.6961325966850829,
           0.6961325966850829
          ],
          [
           0.76775956284153,
           0.7349726775956285,
           0.7513661202185792,
           0.7896174863387978
          ],
          [
           0.7127371273712737,
           0.7371273712737128,
           0.7669376693766937,
           0.7289972899728997
          ],
          [
           0.6720867208672087,
           0.7344173441734417,
           0.7100271002710027,
           0.7262872628726287
          ],
          [
           0.739247311827957,
           0.7446236559139785,
           0.7661290322580645,
           0.760752688172043
          ],
          [
           0.7479452054794521,
           0.7424657534246575,
           0.7506849315068493,
           0.7424657534246575
          ],
          [
           0.7602179836512262,
           0.7574931880108992,
           0.7493188010899182,
           0.776566757493188
          ],
          [
           0.738544474393531,
           0.7331536388140162,
           0.7493261455525606,
           0.7304582210242587
          ]
         ],
         "textfont": {
          "color": "black",
          "size": 16
         },
         "texttemplate": "%{text:.2f}",
         "type": "heatmap",
         "x": [
          50,
          100,
          150,
          200
         ],
         "y": [
          "Bengali",
          "Bhojpuri",
          "Gujarati",
          "Haryanvi",
          "Hindi",
          "Kannada",
          "Malayalam",
          "Odia",
          "Punjabi",
          "Tamil"
         ],
         "z": [
          [
           0.7486486486486487,
           0.754054054054054,
           0.7297297297297297,
           0.7135135135135136
          ],
          [
           0.7172619047619048,
           0.7767857142857143,
           0.75,
           0.7470238095238095
          ],
          [
           0.6408839779005525,
           0.7016574585635359,
           0.6961325966850829,
           0.6961325966850829
          ],
          [
           0.76775956284153,
           0.7349726775956285,
           0.7513661202185792,
           0.7896174863387978
          ],
          [
           0.7127371273712737,
           0.7371273712737128,
           0.7669376693766937,
           0.7289972899728997
          ],
          [
           0.6720867208672087,
           0.7344173441734417,
           0.7100271002710027,
           0.7262872628726287
          ],
          [
           0.739247311827957,
           0.7446236559139785,
           0.7661290322580645,
           0.760752688172043
          ],
          [
           0.7479452054794521,
           0.7424657534246575,
           0.7506849315068493,
           0.7424657534246575
          ],
          [
           0.7602179836512262,
           0.7574931880108992,
           0.7493188010899182,
           0.776566757493188
          ],
          [
           0.738544474393531,
           0.7331536388140162,
           0.7493261455525606,
           0.7304582210242587
          ]
         ],
         "zmax": 0.9,
         "zmin": 0.65
        }
       ],
       "layout": {
        "autosize": false,
        "height": 600,
        "template": {
         "data": {
          "bar": [
           {
            "error_x": {
             "color": "#2a3f5f"
            },
            "error_y": {
             "color": "#2a3f5f"
            },
            "marker": {
             "line": {
              "color": "#E5ECF6",
              "width": 0.5
             },
             "pattern": {
              "fillmode": "overlay",
              "size": 10,
              "solidity": 0.2
             }
            },
            "type": "bar"
           }
          ],
          "barpolar": [
           {
            "marker": {
             "line": {
              "color": "#E5ECF6",
              "width": 0.5
             },
             "pattern": {
              "fillmode": "overlay",
              "size": 10,
              "solidity": 0.2
             }
            },
            "type": "barpolar"
           }
          ],
          "carpet": [
           {
            "aaxis": {
             "endlinecolor": "#2a3f5f",
             "gridcolor": "white",
             "linecolor": "white",
             "minorgridcolor": "white",
             "startlinecolor": "#2a3f5f"
            },
            "baxis": {
             "endlinecolor": "#2a3f5f",
             "gridcolor": "white",
             "linecolor": "white",
             "minorgridcolor": "white",
             "startlinecolor": "#2a3f5f"
            },
            "type": "carpet"
           }
          ],
          "choropleth": [
           {
            "colorbar": {
             "outlinewidth": 0,
             "ticks": ""
            },
            "type": "choropleth"
           }
          ],
          "contour": [
           {
            "colorbar": {
             "outlinewidth": 0,
             "ticks": ""
            },
            "colorscale": [
             [
              0,
              "#0d0887"
             ],
             [
              0.1111111111111111,
              "#46039f"
             ],
             [
              0.2222222222222222,
              "#7201a8"
             ],
             [
              0.3333333333333333,
              "#9c179e"
             ],
             [
              0.4444444444444444,
              "#bd3786"
             ],
             [
              0.5555555555555556,
              "#d8576b"
             ],
             [
              0.6666666666666666,
              "#ed7953"
             ],
             [
              0.7777777777777778,
              "#fb9f3a"
             ],
             [
              0.8888888888888888,
              "#fdca26"
             ],
             [
              1,
              "#f0f921"
             ]
            ],
            "type": "contour"
           }
          ],
          "contourcarpet": [
           {
            "colorbar": {
             "outlinewidth": 0,
             "ticks": ""
            },
            "type": "contourcarpet"
           }
          ],
          "heatmap": [
           {
            "colorbar": {
             "outlinewidth": 0,
             "ticks": ""
            },
            "colorscale": [
             [
              0,
              "#0d0887"
             ],
             [
              0.1111111111111111,
              "#46039f"
             ],
             [
              0.2222222222222222,
              "#7201a8"
             ],
             [
              0.3333333333333333,
              "#9c179e"
             ],
             [
              0.4444444444444444,
              "#bd3786"
             ],
             [
              0.5555555555555556,
              "#d8576b"
             ],
             [
              0.6666666666666666,
              "#ed7953"
             ],
             [
              0.7777777777777778,
              "#fb9f3a"
             ],
             [
              0.8888888888888888,
              "#fdca26"
             ],
             [
              1,
              "#f0f921"
             ]
            ],
            "type": "heatmap"
           }
          ],
          "heatmapgl": [
           {
            "colorbar": {
             "outlinewidth": 0,
             "ticks": ""
            },
            "colorscale": [
             [
              0,
              "#0d0887"
             ],
             [
              0.1111111111111111,
              "#46039f"
             ],
             [
              0.2222222222222222,
              "#7201a8"
             ],
             [
              0.3333333333333333,
              "#9c179e"
             ],
             [
              0.4444444444444444,
              "#bd3786"
             ],
             [
              0.5555555555555556,
              "#d8576b"
             ],
             [
              0.6666666666666666,
              "#ed7953"
             ],
             [
              0.7777777777777778,
              "#fb9f3a"
             ],
             [
              0.8888888888888888,
              "#fdca26"
             ],
             [
              1,
              "#f0f921"
             ]
            ],
            "type": "heatmapgl"
           }
          ],
          "histogram": [
           {
            "marker": {
             "pattern": {
              "fillmode": "overlay",
              "size": 10,
              "solidity": 0.2
             }
            },
            "type": "histogram"
           }
          ],
          "histogram2d": [
           {
            "colorbar": {
             "outlinewidth": 0,
             "ticks": ""
            },
            "colorscale": [
             [
              0,
              "#0d0887"
             ],
             [
              0.1111111111111111,
              "#46039f"
             ],
             [
              0.2222222222222222,
              "#7201a8"
             ],
             [
              0.3333333333333333,
              "#9c179e"
             ],
             [
              0.4444444444444444,
              "#bd3786"
             ],
             [
              0.5555555555555556,
              "#d8576b"
             ],
             [
              0.6666666666666666,
              "#ed7953"
             ],
             [
              0.7777777777777778,
              "#fb9f3a"
             ],
             [
              0.8888888888888888,
              "#fdca26"
             ],
             [
              1,
              "#f0f921"
             ]
            ],
            "type": "histogram2d"
           }
          ],
          "histogram2dcontour": [
           {
            "colorbar": {
             "outlinewidth": 0,
             "ticks": ""
            },
            "colorscale": [
             [
              0,
              "#0d0887"
             ],
             [
              0.1111111111111111,
              "#46039f"
             ],
             [
              0.2222222222222222,
              "#7201a8"
             ],
             [
              0.3333333333333333,
              "#9c179e"
             ],
             [
              0.4444444444444444,
              "#bd3786"
             ],
             [
              0.5555555555555556,
              "#d8576b"
             ],
             [
              0.6666666666666666,
              "#ed7953"
             ],
             [
              0.7777777777777778,
              "#fb9f3a"
             ],
             [
              0.8888888888888888,
              "#fdca26"
             ],
             [
              1,
              "#f0f921"
             ]
            ],
            "type": "histogram2dcontour"
           }
          ],
          "mesh3d": [
           {
            "colorbar": {
             "outlinewidth": 0,
             "ticks": ""
            },
            "type": "mesh3d"
           }
          ],
          "parcoords": [
           {
            "line": {
             "colorbar": {
              "outlinewidth": 0,
              "ticks": ""
             }
            },
            "type": "parcoords"
           }
          ],
          "pie": [
           {
            "automargin": true,
            "type": "pie"
           }
          ],
          "scatter": [
           {
            "fillpattern": {
             "fillmode": "overlay",
             "size": 10,
             "solidity": 0.2
            },
            "type": "scatter"
           }
          ],
          "scatter3d": [
           {
            "line": {
             "colorbar": {
              "outlinewidth": 0,
              "ticks": ""
             }
            },
            "marker": {
             "colorbar": {
              "outlinewidth": 0,
              "ticks": ""
             }
            },
            "type": "scatter3d"
           }
          ],
          "scattercarpet": [
           {
            "marker": {
             "colorbar": {
              "outlinewidth": 0,
              "ticks": ""
             }
            },
            "type": "scattercarpet"
           }
          ],
          "scattergeo": [
           {
            "marker": {
             "colorbar": {
              "outlinewidth": 0,
              "ticks": ""
             }
            },
            "type": "scattergeo"
           }
          ],
          "scattergl": [
           {
            "marker": {
             "colorbar": {
              "outlinewidth": 0,
              "ticks": ""
             }
            },
            "type": "scattergl"
           }
          ],
          "scattermapbox": [
           {
            "marker": {
             "colorbar": {
              "outlinewidth": 0,
              "ticks": ""
             }
            },
            "type": "scattermapbox"
           }
          ],
          "scatterpolar": [
           {
            "marker": {
             "colorbar": {
              "outlinewidth": 0,
              "ticks": ""
             }
            },
            "type": "scatterpolar"
           }
          ],
          "scatterpolargl": [
           {
            "marker": {
             "colorbar": {
              "outlinewidth": 0,
              "ticks": ""
             }
            },
            "type": "scatterpolargl"
           }
          ],
          "scatterternary": [
           {
            "marker": {
             "colorbar": {
              "outlinewidth": 0,
              "ticks": ""
             }
            },
            "type": "scatterternary"
           }
          ],
          "surface": [
           {
            "colorbar": {
             "outlinewidth": 0,
             "ticks": ""
            },
            "colorscale": [
             [
              0,
              "#0d0887"
             ],
             [
              0.1111111111111111,
              "#46039f"
             ],
             [
              0.2222222222222222,
              "#7201a8"
             ],
             [
              0.3333333333333333,
              "#9c179e"
             ],
             [
              0.4444444444444444,
              "#bd3786"
             ],
             [
              0.5555555555555556,
              "#d8576b"
             ],
             [
              0.6666666666666666,
              "#ed7953"
             ],
             [
              0.7777777777777778,
              "#fb9f3a"
             ],
             [
              0.8888888888888888,
              "#fdca26"
             ],
             [
              1,
              "#f0f921"
             ]
            ],
            "type": "surface"
           }
          ],
          "table": [
           {
            "cells": {
             "fill": {
              "color": "#EBF0F8"
             },
             "line": {
              "color": "white"
             }
            },
            "header": {
             "fill": {
              "color": "#C8D4E3"
             },
             "line": {
              "color": "white"
             }
            },
            "type": "table"
           }
          ]
         },
         "layout": {
          "annotationdefaults": {
           "arrowcolor": "#2a3f5f",
           "arrowhead": 0,
           "arrowwidth": 1
          },
          "autotypenumbers": "strict",
          "coloraxis": {
           "colorbar": {
            "outlinewidth": 0,
            "ticks": ""
           }
          },
          "colorscale": {
           "diverging": [
            [
             0,
             "#8e0152"
            ],
            [
             0.1,
             "#c51b7d"
            ],
            [
             0.2,
             "#de77ae"
            ],
            [
             0.3,
             "#f1b6da"
            ],
            [
             0.4,
             "#fde0ef"
            ],
            [
             0.5,
             "#f7f7f7"
            ],
            [
             0.6,
             "#e6f5d0"
            ],
            [
             0.7,
             "#b8e186"
            ],
            [
             0.8,
             "#7fbc41"
            ],
            [
             0.9,
             "#4d9221"
            ],
            [
             1,
             "#276419"
            ]
           ],
           "sequential": [
            [
             0,
             "#0d0887"
            ],
            [
             0.1111111111111111,
             "#46039f"
            ],
            [
             0.2222222222222222,
             "#7201a8"
            ],
            [
             0.3333333333333333,
             "#9c179e"
            ],
            [
             0.4444444444444444,
             "#bd3786"
            ],
            [
             0.5555555555555556,
             "#d8576b"
            ],
            [
             0.6666666666666666,
             "#ed7953"
            ],
            [
             0.7777777777777778,
             "#fb9f3a"
            ],
            [
             0.8888888888888888,
             "#fdca26"
            ],
            [
             1,
             "#f0f921"
            ]
           ],
           "sequentialminus": [
            [
             0,
             "#0d0887"
            ],
            [
             0.1111111111111111,
             "#46039f"
            ],
            [
             0.2222222222222222,
             "#7201a8"
            ],
            [
             0.3333333333333333,
             "#9c179e"
            ],
            [
             0.4444444444444444,
             "#bd3786"
            ],
            [
             0.5555555555555556,
             "#d8576b"
            ],
            [
             0.6666666666666666,
             "#ed7953"
            ],
            [
             0.7777777777777778,
             "#fb9f3a"
            ],
            [
             0.8888888888888888,
             "#fdca26"
            ],
            [
             1,
             "#f0f921"
            ]
           ]
          },
          "colorway": [
           "#636efa",
           "#EF553B",
           "#00cc96",
           "#ab63fa",
           "#FFA15A",
           "#19d3f3",
           "#FF6692",
           "#B6E880",
           "#FF97FF",
           "#FECB52"
          ],
          "font": {
           "color": "#2a3f5f"
          },
          "geo": {
           "bgcolor": "white",
           "lakecolor": "white",
           "landcolor": "#E5ECF6",
           "showlakes": true,
           "showland": true,
           "subunitcolor": "white"
          },
          "hoverlabel": {
           "align": "left"
          },
          "hovermode": "closest",
          "mapbox": {
           "style": "light"
          },
          "paper_bgcolor": "white",
          "plot_bgcolor": "#E5ECF6",
          "polar": {
           "angularaxis": {
            "gridcolor": "white",
            "linecolor": "white",
            "ticks": ""
           },
           "bgcolor": "#E5ECF6",
           "radialaxis": {
            "gridcolor": "white",
            "linecolor": "white",
            "ticks": ""
           }
          },
          "scene": {
           "xaxis": {
            "backgroundcolor": "#E5ECF6",
            "gridcolor": "white",
            "gridwidth": 2,
            "linecolor": "white",
            "showbackground": true,
            "ticks": "",
            "zerolinecolor": "white"
           },
           "yaxis": {
            "backgroundcolor": "#E5ECF6",
            "gridcolor": "white",
            "gridwidth": 2,
            "linecolor": "white",
            "showbackground": true,
            "ticks": "",
            "zerolinecolor": "white"
           },
           "zaxis": {
            "backgroundcolor": "#E5ECF6",
            "gridcolor": "white",
            "gridwidth": 2,
            "linecolor": "white",
            "showbackground": true,
            "ticks": "",
            "zerolinecolor": "white"
           }
          },
          "shapedefaults": {
           "line": {
            "color": "#2a3f5f"
           }
          },
          "ternary": {
           "aaxis": {
            "gridcolor": "white",
            "linecolor": "white",
            "ticks": ""
           },
           "baxis": {
            "gridcolor": "white",
            "linecolor": "white",
            "ticks": ""
           },
           "bgcolor": "#E5ECF6",
           "caxis": {
            "gridcolor": "white",
            "linecolor": "white",
            "ticks": ""
           }
          },
          "title": {
           "x": 0.05
          },
          "xaxis": {
           "automargin": true,
           "gridcolor": "white",
           "linecolor": "white",
           "ticks": "",
           "title": {
            "standoff": 15
           },
           "zerolinecolor": "white",
           "zerolinewidth": 2
          },
          "yaxis": {
           "automargin": true,
           "gridcolor": "white",
           "linecolor": "white",
           "ticks": "",
           "title": {
            "standoff": 15
           },
           "zerolinecolor": "white",
           "zerolinewidth": 2
          }
         }
        },
        "width": 600,
        "xaxis": {
         "title": {
          "text": "Shot Size"
         }
        },
        "yaxis": {
         "tickmode": "linear",
         "title": {
          "text": "Language"
         }
        }
       }
      }
     },
     "metadata": {},
     "output_type": "display_data"
    }
   ],
   "source": [
    "plot_heatmaps(\"./results/Temporal-Mean/\", \"Temporal Mean\")"
   ]
  },
  {
   "cell_type": "code",
   "execution_count": 5,
   "metadata": {},
   "outputs": [
    {
     "data": {
      "application/vnd.plotly.v1+json": {
       "config": {
        "plotlyServerURL": "https://plot.ly"
       },
       "data": [
        {
         "colorbar": {
          "title": {
           "text": "Accuracy"
          }
         },
         "colorscale": [
          [
           0,
           "rgb(247,251,255)"
          ],
          [
           0.125,
           "rgb(222,235,247)"
          ],
          [
           0.25,
           "rgb(198,219,239)"
          ],
          [
           0.375,
           "rgb(158,202,225)"
          ],
          [
           0.5,
           "rgb(107,174,214)"
          ],
          [
           0.625,
           "rgb(66,146,198)"
          ],
          [
           0.75,
           "rgb(33,113,181)"
          ],
          [
           0.875,
           "rgb(8,81,156)"
          ],
          [
           1,
           "rgb(8,48,107)"
          ]
         ],
         "hoverinfo": "text+z",
         "text": [
          [
           0.827027027027027,
           0.827027027027027,
           0.8216216216216217,
           0.8054054054054054
          ],
          [
           0.8273809523809523,
           0.7886904761904762,
           0.7857142857142857,
           0.8184523809523809
          ],
          [
           0.8370165745856354,
           0.787292817679558,
           0.7955801104972375,
           0.8011049723756906
          ],
          [
           0.8224043715846995,
           0.8469945355191257,
           0.8442622950819673,
           0.8306010928961749
          ],
          [
           0.8428184281842819,
           0.8238482384823849,
           0.8157181571815718,
           0.8401084010840109
          ],
          [
           0.7886178861788617,
           0.7777777777777778,
           0.7994579945799458,
           0.7967479674796748
          ],
          [
           0.8198924731182796,
           0.8521505376344086,
           0.8118279569892473,
           0.8252688172043011
          ],
          [
           0.8136986301369863,
           0.8027397260273973,
           0.8356164383561644,
           0.8273972602739726
          ],
          [
           0.8147138964577657,
           0.8147138964577657,
           0.8201634877384196,
           0.8147138964577657
          ],
          [
           0.7331536388140162,
           0.7897574123989218,
           0.7574123989218329,
           0.784366576819407
          ]
         ],
         "textfont": {
          "color": "black",
          "size": 16
         },
         "texttemplate": "%{text:.2f}",
         "type": "heatmap",
         "x": [
          50,
          100,
          150,
          200
         ],
         "y": [
          "Bengali",
          "Bhojpuri",
          "Gujarati",
          "Haryanvi",
          "Hindi",
          "Kannada",
          "Malayalam",
          "Odia",
          "Punjabi",
          "Tamil"
         ],
         "z": [
          [
           0.827027027027027,
           0.827027027027027,
           0.8216216216216217,
           0.8054054054054054
          ],
          [
           0.8273809523809523,
           0.7886904761904762,
           0.7857142857142857,
           0.8184523809523809
          ],
          [
           0.8370165745856354,
           0.787292817679558,
           0.7955801104972375,
           0.8011049723756906
          ],
          [
           0.8224043715846995,
           0.8469945355191257,
           0.8442622950819673,
           0.8306010928961749
          ],
          [
           0.8428184281842819,
           0.8238482384823849,
           0.8157181571815718,
           0.8401084010840109
          ],
          [
           0.7886178861788617,
           0.7777777777777778,
           0.7994579945799458,
           0.7967479674796748
          ],
          [
           0.8198924731182796,
           0.8521505376344086,
           0.8118279569892473,
           0.8252688172043011
          ],
          [
           0.8136986301369863,
           0.8027397260273973,
           0.8356164383561644,
           0.8273972602739726
          ],
          [
           0.8147138964577657,
           0.8147138964577657,
           0.8201634877384196,
           0.8147138964577657
          ],
          [
           0.7331536388140162,
           0.7897574123989218,
           0.7574123989218329,
           0.784366576819407
          ]
         ],
         "zmax": 0.9,
         "zmin": 0.65
        }
       ],
       "layout": {
        "autosize": false,
        "height": 600,
        "template": {
         "data": {
          "bar": [
           {
            "error_x": {
             "color": "#2a3f5f"
            },
            "error_y": {
             "color": "#2a3f5f"
            },
            "marker": {
             "line": {
              "color": "#E5ECF6",
              "width": 0.5
             },
             "pattern": {
              "fillmode": "overlay",
              "size": 10,
              "solidity": 0.2
             }
            },
            "type": "bar"
           }
          ],
          "barpolar": [
           {
            "marker": {
             "line": {
              "color": "#E5ECF6",
              "width": 0.5
             },
             "pattern": {
              "fillmode": "overlay",
              "size": 10,
              "solidity": 0.2
             }
            },
            "type": "barpolar"
           }
          ],
          "carpet": [
           {
            "aaxis": {
             "endlinecolor": "#2a3f5f",
             "gridcolor": "white",
             "linecolor": "white",
             "minorgridcolor": "white",
             "startlinecolor": "#2a3f5f"
            },
            "baxis": {
             "endlinecolor": "#2a3f5f",
             "gridcolor": "white",
             "linecolor": "white",
             "minorgridcolor": "white",
             "startlinecolor": "#2a3f5f"
            },
            "type": "carpet"
           }
          ],
          "choropleth": [
           {
            "colorbar": {
             "outlinewidth": 0,
             "ticks": ""
            },
            "type": "choropleth"
           }
          ],
          "contour": [
           {
            "colorbar": {
             "outlinewidth": 0,
             "ticks": ""
            },
            "colorscale": [
             [
              0,
              "#0d0887"
             ],
             [
              0.1111111111111111,
              "#46039f"
             ],
             [
              0.2222222222222222,
              "#7201a8"
             ],
             [
              0.3333333333333333,
              "#9c179e"
             ],
             [
              0.4444444444444444,
              "#bd3786"
             ],
             [
              0.5555555555555556,
              "#d8576b"
             ],
             [
              0.6666666666666666,
              "#ed7953"
             ],
             [
              0.7777777777777778,
              "#fb9f3a"
             ],
             [
              0.8888888888888888,
              "#fdca26"
             ],
             [
              1,
              "#f0f921"
             ]
            ],
            "type": "contour"
           }
          ],
          "contourcarpet": [
           {
            "colorbar": {
             "outlinewidth": 0,
             "ticks": ""
            },
            "type": "contourcarpet"
           }
          ],
          "heatmap": [
           {
            "colorbar": {
             "outlinewidth": 0,
             "ticks": ""
            },
            "colorscale": [
             [
              0,
              "#0d0887"
             ],
             [
              0.1111111111111111,
              "#46039f"
             ],
             [
              0.2222222222222222,
              "#7201a8"
             ],
             [
              0.3333333333333333,
              "#9c179e"
             ],
             [
              0.4444444444444444,
              "#bd3786"
             ],
             [
              0.5555555555555556,
              "#d8576b"
             ],
             [
              0.6666666666666666,
              "#ed7953"
             ],
             [
              0.7777777777777778,
              "#fb9f3a"
             ],
             [
              0.8888888888888888,
              "#fdca26"
             ],
             [
              1,
              "#f0f921"
             ]
            ],
            "type": "heatmap"
           }
          ],
          "heatmapgl": [
           {
            "colorbar": {
             "outlinewidth": 0,
             "ticks": ""
            },
            "colorscale": [
             [
              0,
              "#0d0887"
             ],
             [
              0.1111111111111111,
              "#46039f"
             ],
             [
              0.2222222222222222,
              "#7201a8"
             ],
             [
              0.3333333333333333,
              "#9c179e"
             ],
             [
              0.4444444444444444,
              "#bd3786"
             ],
             [
              0.5555555555555556,
              "#d8576b"
             ],
             [
              0.6666666666666666,
              "#ed7953"
             ],
             [
              0.7777777777777778,
              "#fb9f3a"
             ],
             [
              0.8888888888888888,
              "#fdca26"
             ],
             [
              1,
              "#f0f921"
             ]
            ],
            "type": "heatmapgl"
           }
          ],
          "histogram": [
           {
            "marker": {
             "pattern": {
              "fillmode": "overlay",
              "size": 10,
              "solidity": 0.2
             }
            },
            "type": "histogram"
           }
          ],
          "histogram2d": [
           {
            "colorbar": {
             "outlinewidth": 0,
             "ticks": ""
            },
            "colorscale": [
             [
              0,
              "#0d0887"
             ],
             [
              0.1111111111111111,
              "#46039f"
             ],
             [
              0.2222222222222222,
              "#7201a8"
             ],
             [
              0.3333333333333333,
              "#9c179e"
             ],
             [
              0.4444444444444444,
              "#bd3786"
             ],
             [
              0.5555555555555556,
              "#d8576b"
             ],
             [
              0.6666666666666666,
              "#ed7953"
             ],
             [
              0.7777777777777778,
              "#fb9f3a"
             ],
             [
              0.8888888888888888,
              "#fdca26"
             ],
             [
              1,
              "#f0f921"
             ]
            ],
            "type": "histogram2d"
           }
          ],
          "histogram2dcontour": [
           {
            "colorbar": {
             "outlinewidth": 0,
             "ticks": ""
            },
            "colorscale": [
             [
              0,
              "#0d0887"
             ],
             [
              0.1111111111111111,
              "#46039f"
             ],
             [
              0.2222222222222222,
              "#7201a8"
             ],
             [
              0.3333333333333333,
              "#9c179e"
             ],
             [
              0.4444444444444444,
              "#bd3786"
             ],
             [
              0.5555555555555556,
              "#d8576b"
             ],
             [
              0.6666666666666666,
              "#ed7953"
             ],
             [
              0.7777777777777778,
              "#fb9f3a"
             ],
             [
              0.8888888888888888,
              "#fdca26"
             ],
             [
              1,
              "#f0f921"
             ]
            ],
            "type": "histogram2dcontour"
           }
          ],
          "mesh3d": [
           {
            "colorbar": {
             "outlinewidth": 0,
             "ticks": ""
            },
            "type": "mesh3d"
           }
          ],
          "parcoords": [
           {
            "line": {
             "colorbar": {
              "outlinewidth": 0,
              "ticks": ""
             }
            },
            "type": "parcoords"
           }
          ],
          "pie": [
           {
            "automargin": true,
            "type": "pie"
           }
          ],
          "scatter": [
           {
            "fillpattern": {
             "fillmode": "overlay",
             "size": 10,
             "solidity": 0.2
            },
            "type": "scatter"
           }
          ],
          "scatter3d": [
           {
            "line": {
             "colorbar": {
              "outlinewidth": 0,
              "ticks": ""
             }
            },
            "marker": {
             "colorbar": {
              "outlinewidth": 0,
              "ticks": ""
             }
            },
            "type": "scatter3d"
           }
          ],
          "scattercarpet": [
           {
            "marker": {
             "colorbar": {
              "outlinewidth": 0,
              "ticks": ""
             }
            },
            "type": "scattercarpet"
           }
          ],
          "scattergeo": [
           {
            "marker": {
             "colorbar": {
              "outlinewidth": 0,
              "ticks": ""
             }
            },
            "type": "scattergeo"
           }
          ],
          "scattergl": [
           {
            "marker": {
             "colorbar": {
              "outlinewidth": 0,
              "ticks": ""
             }
            },
            "type": "scattergl"
           }
          ],
          "scattermapbox": [
           {
            "marker": {
             "colorbar": {
              "outlinewidth": 0,
              "ticks": ""
             }
            },
            "type": "scattermapbox"
           }
          ],
          "scatterpolar": [
           {
            "marker": {
             "colorbar": {
              "outlinewidth": 0,
              "ticks": ""
             }
            },
            "type": "scatterpolar"
           }
          ],
          "scatterpolargl": [
           {
            "marker": {
             "colorbar": {
              "outlinewidth": 0,
              "ticks": ""
             }
            },
            "type": "scatterpolargl"
           }
          ],
          "scatterternary": [
           {
            "marker": {
             "colorbar": {
              "outlinewidth": 0,
              "ticks": ""
             }
            },
            "type": "scatterternary"
           }
          ],
          "surface": [
           {
            "colorbar": {
             "outlinewidth": 0,
             "ticks": ""
            },
            "colorscale": [
             [
              0,
              "#0d0887"
             ],
             [
              0.1111111111111111,
              "#46039f"
             ],
             [
              0.2222222222222222,
              "#7201a8"
             ],
             [
              0.3333333333333333,
              "#9c179e"
             ],
             [
              0.4444444444444444,
              "#bd3786"
             ],
             [
              0.5555555555555556,
              "#d8576b"
             ],
             [
              0.6666666666666666,
              "#ed7953"
             ],
             [
              0.7777777777777778,
              "#fb9f3a"
             ],
             [
              0.8888888888888888,
              "#fdca26"
             ],
             [
              1,
              "#f0f921"
             ]
            ],
            "type": "surface"
           }
          ],
          "table": [
           {
            "cells": {
             "fill": {
              "color": "#EBF0F8"
             },
             "line": {
              "color": "white"
             }
            },
            "header": {
             "fill": {
              "color": "#C8D4E3"
             },
             "line": {
              "color": "white"
             }
            },
            "type": "table"
           }
          ]
         },
         "layout": {
          "annotationdefaults": {
           "arrowcolor": "#2a3f5f",
           "arrowhead": 0,
           "arrowwidth": 1
          },
          "autotypenumbers": "strict",
          "coloraxis": {
           "colorbar": {
            "outlinewidth": 0,
            "ticks": ""
           }
          },
          "colorscale": {
           "diverging": [
            [
             0,
             "#8e0152"
            ],
            [
             0.1,
             "#c51b7d"
            ],
            [
             0.2,
             "#de77ae"
            ],
            [
             0.3,
             "#f1b6da"
            ],
            [
             0.4,
             "#fde0ef"
            ],
            [
             0.5,
             "#f7f7f7"
            ],
            [
             0.6,
             "#e6f5d0"
            ],
            [
             0.7,
             "#b8e186"
            ],
            [
             0.8,
             "#7fbc41"
            ],
            [
             0.9,
             "#4d9221"
            ],
            [
             1,
             "#276419"
            ]
           ],
           "sequential": [
            [
             0,
             "#0d0887"
            ],
            [
             0.1111111111111111,
             "#46039f"
            ],
            [
             0.2222222222222222,
             "#7201a8"
            ],
            [
             0.3333333333333333,
             "#9c179e"
            ],
            [
             0.4444444444444444,
             "#bd3786"
            ],
            [
             0.5555555555555556,
             "#d8576b"
            ],
            [
             0.6666666666666666,
             "#ed7953"
            ],
            [
             0.7777777777777778,
             "#fb9f3a"
            ],
            [
             0.8888888888888888,
             "#fdca26"
            ],
            [
             1,
             "#f0f921"
            ]
           ],
           "sequentialminus": [
            [
             0,
             "#0d0887"
            ],
            [
             0.1111111111111111,
             "#46039f"
            ],
            [
             0.2222222222222222,
             "#7201a8"
            ],
            [
             0.3333333333333333,
             "#9c179e"
            ],
            [
             0.4444444444444444,
             "#bd3786"
            ],
            [
             0.5555555555555556,
             "#d8576b"
            ],
            [
             0.6666666666666666,
             "#ed7953"
            ],
            [
             0.7777777777777778,
             "#fb9f3a"
            ],
            [
             0.8888888888888888,
             "#fdca26"
            ],
            [
             1,
             "#f0f921"
            ]
           ]
          },
          "colorway": [
           "#636efa",
           "#EF553B",
           "#00cc96",
           "#ab63fa",
           "#FFA15A",
           "#19d3f3",
           "#FF6692",
           "#B6E880",
           "#FF97FF",
           "#FECB52"
          ],
          "font": {
           "color": "#2a3f5f"
          },
          "geo": {
           "bgcolor": "white",
           "lakecolor": "white",
           "landcolor": "#E5ECF6",
           "showlakes": true,
           "showland": true,
           "subunitcolor": "white"
          },
          "hoverlabel": {
           "align": "left"
          },
          "hovermode": "closest",
          "mapbox": {
           "style": "light"
          },
          "paper_bgcolor": "white",
          "plot_bgcolor": "#E5ECF6",
          "polar": {
           "angularaxis": {
            "gridcolor": "white",
            "linecolor": "white",
            "ticks": ""
           },
           "bgcolor": "#E5ECF6",
           "radialaxis": {
            "gridcolor": "white",
            "linecolor": "white",
            "ticks": ""
           }
          },
          "scene": {
           "xaxis": {
            "backgroundcolor": "#E5ECF6",
            "gridcolor": "white",
            "gridwidth": 2,
            "linecolor": "white",
            "showbackground": true,
            "ticks": "",
            "zerolinecolor": "white"
           },
           "yaxis": {
            "backgroundcolor": "#E5ECF6",
            "gridcolor": "white",
            "gridwidth": 2,
            "linecolor": "white",
            "showbackground": true,
            "ticks": "",
            "zerolinecolor": "white"
           },
           "zaxis": {
            "backgroundcolor": "#E5ECF6",
            "gridcolor": "white",
            "gridwidth": 2,
            "linecolor": "white",
            "showbackground": true,
            "ticks": "",
            "zerolinecolor": "white"
           }
          },
          "shapedefaults": {
           "line": {
            "color": "#2a3f5f"
           }
          },
          "ternary": {
           "aaxis": {
            "gridcolor": "white",
            "linecolor": "white",
            "ticks": ""
           },
           "baxis": {
            "gridcolor": "white",
            "linecolor": "white",
            "ticks": ""
           },
           "bgcolor": "#E5ECF6",
           "caxis": {
            "gridcolor": "white",
            "linecolor": "white",
            "ticks": ""
           }
          },
          "title": {
           "x": 0.05
          },
          "xaxis": {
           "automargin": true,
           "gridcolor": "white",
           "linecolor": "white",
           "ticks": "",
           "title": {
            "standoff": 15
           },
           "zerolinecolor": "white",
           "zerolinewidth": 2
          },
          "yaxis": {
           "automargin": true,
           "gridcolor": "white",
           "linecolor": "white",
           "ticks": "",
           "title": {
            "standoff": 15
           },
           "zerolinecolor": "white",
           "zerolinewidth": 2
          }
         }
        },
        "width": 600,
        "xaxis": {
         "title": {
          "text": "Shot Size"
         }
        },
        "yaxis": {
         "tickmode": "linear",
         "title": {
          "text": "Language"
         }
        }
       }
      }
     },
     "metadata": {},
     "output_type": "display_data"
    },
    {
     "data": {
      "application/vnd.plotly.v1+json": {
       "config": {
        "plotlyServerURL": "https://plot.ly"
       },
       "data": [
        {
         "colorbar": {
          "title": {
           "text": "Accuracy"
          }
         },
         "colorscale": [
          [
           0,
           "rgb(247,251,255)"
          ],
          [
           0.125,
           "rgb(222,235,247)"
          ],
          [
           0.25,
           "rgb(198,219,239)"
          ],
          [
           0.375,
           "rgb(158,202,225)"
          ],
          [
           0.5,
           "rgb(107,174,214)"
          ],
          [
           0.625,
           "rgb(66,146,198)"
          ],
          [
           0.75,
           "rgb(33,113,181)"
          ],
          [
           0.875,
           "rgb(8,81,156)"
          ],
          [
           1,
           "rgb(8,48,107)"
          ]
         ],
         "hoverinfo": "text+z",
         "text": [
          [
           0.7405405405405405,
           0.7108108108108108,
           0.7378378378378379,
           0.7297297297297297
          ],
          [
           0.7261904761904762,
           0.75,
           0.75,
           0.7321428571428571
          ],
          [
           0.6740331491712708,
           0.6988950276243094,
           0.6878453038674033,
           0.7403314917127072
          ],
          [
           0.7814207650273224,
           0.7431693989071039,
           0.7459016393442623,
           0.7759562841530054
          ],
          [
           0.7046070460704607,
           0.7344173441734417,
           0.7425474254742548,
           0.7398373983739838
          ],
          [
           0.6666666666666666,
           0.7344173441734417,
           0.7289972899728997,
           0.7371273712737128
          ],
          [
           0.7553763440860215,
           0.7553763440860215,
           0.7473118279569892,
           0.7526881720430108
          ],
          [
           0.7698630136986301,
           0.7616438356164383,
           0.7616438356164383,
           0.7123287671232876
          ],
          [
           0.7302452316076294,
           0.7574931880108992,
           0.7629427792915532,
           0.776566757493188
          ],
          [
           0.738544474393531,
           0.7223719676549866,
           0.7304582210242587,
           0.7250673854447439
          ]
         ],
         "textfont": {
          "color": "black",
          "size": 16
         },
         "texttemplate": "%{text:.2f}",
         "type": "heatmap",
         "x": [
          50,
          100,
          150,
          200
         ],
         "y": [
          "Bengali",
          "Bhojpuri",
          "Gujarati",
          "Haryanvi",
          "Hindi",
          "Kannada",
          "Malayalam",
          "Odia",
          "Punjabi",
          "Tamil"
         ],
         "z": [
          [
           0.7405405405405405,
           0.7108108108108108,
           0.7378378378378379,
           0.7297297297297297
          ],
          [
           0.7261904761904762,
           0.75,
           0.75,
           0.7321428571428571
          ],
          [
           0.6740331491712708,
           0.6988950276243094,
           0.6878453038674033,
           0.7403314917127072
          ],
          [
           0.7814207650273224,
           0.7431693989071039,
           0.7459016393442623,
           0.7759562841530054
          ],
          [
           0.7046070460704607,
           0.7344173441734417,
           0.7425474254742548,
           0.7398373983739838
          ],
          [
           0.6666666666666666,
           0.7344173441734417,
           0.7289972899728997,
           0.7371273712737128
          ],
          [
           0.7553763440860215,
           0.7553763440860215,
           0.7473118279569892,
           0.7526881720430108
          ],
          [
           0.7698630136986301,
           0.7616438356164383,
           0.7616438356164383,
           0.7123287671232876
          ],
          [
           0.7302452316076294,
           0.7574931880108992,
           0.7629427792915532,
           0.776566757493188
          ],
          [
           0.738544474393531,
           0.7223719676549866,
           0.7304582210242587,
           0.7250673854447439
          ]
         ],
         "zmax": 0.9,
         "zmin": 0.65
        }
       ],
       "layout": {
        "autosize": false,
        "height": 600,
        "template": {
         "data": {
          "bar": [
           {
            "error_x": {
             "color": "#2a3f5f"
            },
            "error_y": {
             "color": "#2a3f5f"
            },
            "marker": {
             "line": {
              "color": "#E5ECF6",
              "width": 0.5
             },
             "pattern": {
              "fillmode": "overlay",
              "size": 10,
              "solidity": 0.2
             }
            },
            "type": "bar"
           }
          ],
          "barpolar": [
           {
            "marker": {
             "line": {
              "color": "#E5ECF6",
              "width": 0.5
             },
             "pattern": {
              "fillmode": "overlay",
              "size": 10,
              "solidity": 0.2
             }
            },
            "type": "barpolar"
           }
          ],
          "carpet": [
           {
            "aaxis": {
             "endlinecolor": "#2a3f5f",
             "gridcolor": "white",
             "linecolor": "white",
             "minorgridcolor": "white",
             "startlinecolor": "#2a3f5f"
            },
            "baxis": {
             "endlinecolor": "#2a3f5f",
             "gridcolor": "white",
             "linecolor": "white",
             "minorgridcolor": "white",
             "startlinecolor": "#2a3f5f"
            },
            "type": "carpet"
           }
          ],
          "choropleth": [
           {
            "colorbar": {
             "outlinewidth": 0,
             "ticks": ""
            },
            "type": "choropleth"
           }
          ],
          "contour": [
           {
            "colorbar": {
             "outlinewidth": 0,
             "ticks": ""
            },
            "colorscale": [
             [
              0,
              "#0d0887"
             ],
             [
              0.1111111111111111,
              "#46039f"
             ],
             [
              0.2222222222222222,
              "#7201a8"
             ],
             [
              0.3333333333333333,
              "#9c179e"
             ],
             [
              0.4444444444444444,
              "#bd3786"
             ],
             [
              0.5555555555555556,
              "#d8576b"
             ],
             [
              0.6666666666666666,
              "#ed7953"
             ],
             [
              0.7777777777777778,
              "#fb9f3a"
             ],
             [
              0.8888888888888888,
              "#fdca26"
             ],
             [
              1,
              "#f0f921"
             ]
            ],
            "type": "contour"
           }
          ],
          "contourcarpet": [
           {
            "colorbar": {
             "outlinewidth": 0,
             "ticks": ""
            },
            "type": "contourcarpet"
           }
          ],
          "heatmap": [
           {
            "colorbar": {
             "outlinewidth": 0,
             "ticks": ""
            },
            "colorscale": [
             [
              0,
              "#0d0887"
             ],
             [
              0.1111111111111111,
              "#46039f"
             ],
             [
              0.2222222222222222,
              "#7201a8"
             ],
             [
              0.3333333333333333,
              "#9c179e"
             ],
             [
              0.4444444444444444,
              "#bd3786"
             ],
             [
              0.5555555555555556,
              "#d8576b"
             ],
             [
              0.6666666666666666,
              "#ed7953"
             ],
             [
              0.7777777777777778,
              "#fb9f3a"
             ],
             [
              0.8888888888888888,
              "#fdca26"
             ],
             [
              1,
              "#f0f921"
             ]
            ],
            "type": "heatmap"
           }
          ],
          "heatmapgl": [
           {
            "colorbar": {
             "outlinewidth": 0,
             "ticks": ""
            },
            "colorscale": [
             [
              0,
              "#0d0887"
             ],
             [
              0.1111111111111111,
              "#46039f"
             ],
             [
              0.2222222222222222,
              "#7201a8"
             ],
             [
              0.3333333333333333,
              "#9c179e"
             ],
             [
              0.4444444444444444,
              "#bd3786"
             ],
             [
              0.5555555555555556,
              "#d8576b"
             ],
             [
              0.6666666666666666,
              "#ed7953"
             ],
             [
              0.7777777777777778,
              "#fb9f3a"
             ],
             [
              0.8888888888888888,
              "#fdca26"
             ],
             [
              1,
              "#f0f921"
             ]
            ],
            "type": "heatmapgl"
           }
          ],
          "histogram": [
           {
            "marker": {
             "pattern": {
              "fillmode": "overlay",
              "size": 10,
              "solidity": 0.2
             }
            },
            "type": "histogram"
           }
          ],
          "histogram2d": [
           {
            "colorbar": {
             "outlinewidth": 0,
             "ticks": ""
            },
            "colorscale": [
             [
              0,
              "#0d0887"
             ],
             [
              0.1111111111111111,
              "#46039f"
             ],
             [
              0.2222222222222222,
              "#7201a8"
             ],
             [
              0.3333333333333333,
              "#9c179e"
             ],
             [
              0.4444444444444444,
              "#bd3786"
             ],
             [
              0.5555555555555556,
              "#d8576b"
             ],
             [
              0.6666666666666666,
              "#ed7953"
             ],
             [
              0.7777777777777778,
              "#fb9f3a"
             ],
             [
              0.8888888888888888,
              "#fdca26"
             ],
             [
              1,
              "#f0f921"
             ]
            ],
            "type": "histogram2d"
           }
          ],
          "histogram2dcontour": [
           {
            "colorbar": {
             "outlinewidth": 0,
             "ticks": ""
            },
            "colorscale": [
             [
              0,
              "#0d0887"
             ],
             [
              0.1111111111111111,
              "#46039f"
             ],
             [
              0.2222222222222222,
              "#7201a8"
             ],
             [
              0.3333333333333333,
              "#9c179e"
             ],
             [
              0.4444444444444444,
              "#bd3786"
             ],
             [
              0.5555555555555556,
              "#d8576b"
             ],
             [
              0.6666666666666666,
              "#ed7953"
             ],
             [
              0.7777777777777778,
              "#fb9f3a"
             ],
             [
              0.8888888888888888,
              "#fdca26"
             ],
             [
              1,
              "#f0f921"
             ]
            ],
            "type": "histogram2dcontour"
           }
          ],
          "mesh3d": [
           {
            "colorbar": {
             "outlinewidth": 0,
             "ticks": ""
            },
            "type": "mesh3d"
           }
          ],
          "parcoords": [
           {
            "line": {
             "colorbar": {
              "outlinewidth": 0,
              "ticks": ""
             }
            },
            "type": "parcoords"
           }
          ],
          "pie": [
           {
            "automargin": true,
            "type": "pie"
           }
          ],
          "scatter": [
           {
            "fillpattern": {
             "fillmode": "overlay",
             "size": 10,
             "solidity": 0.2
            },
            "type": "scatter"
           }
          ],
          "scatter3d": [
           {
            "line": {
             "colorbar": {
              "outlinewidth": 0,
              "ticks": ""
             }
            },
            "marker": {
             "colorbar": {
              "outlinewidth": 0,
              "ticks": ""
             }
            },
            "type": "scatter3d"
           }
          ],
          "scattercarpet": [
           {
            "marker": {
             "colorbar": {
              "outlinewidth": 0,
              "ticks": ""
             }
            },
            "type": "scattercarpet"
           }
          ],
          "scattergeo": [
           {
            "marker": {
             "colorbar": {
              "outlinewidth": 0,
              "ticks": ""
             }
            },
            "type": "scattergeo"
           }
          ],
          "scattergl": [
           {
            "marker": {
             "colorbar": {
              "outlinewidth": 0,
              "ticks": ""
             }
            },
            "type": "scattergl"
           }
          ],
          "scattermapbox": [
           {
            "marker": {
             "colorbar": {
              "outlinewidth": 0,
              "ticks": ""
             }
            },
            "type": "scattermapbox"
           }
          ],
          "scatterpolar": [
           {
            "marker": {
             "colorbar": {
              "outlinewidth": 0,
              "ticks": ""
             }
            },
            "type": "scatterpolar"
           }
          ],
          "scatterpolargl": [
           {
            "marker": {
             "colorbar": {
              "outlinewidth": 0,
              "ticks": ""
             }
            },
            "type": "scatterpolargl"
           }
          ],
          "scatterternary": [
           {
            "marker": {
             "colorbar": {
              "outlinewidth": 0,
              "ticks": ""
             }
            },
            "type": "scatterternary"
           }
          ],
          "surface": [
           {
            "colorbar": {
             "outlinewidth": 0,
             "ticks": ""
            },
            "colorscale": [
             [
              0,
              "#0d0887"
             ],
             [
              0.1111111111111111,
              "#46039f"
             ],
             [
              0.2222222222222222,
              "#7201a8"
             ],
             [
              0.3333333333333333,
              "#9c179e"
             ],
             [
              0.4444444444444444,
              "#bd3786"
             ],
             [
              0.5555555555555556,
              "#d8576b"
             ],
             [
              0.6666666666666666,
              "#ed7953"
             ],
             [
              0.7777777777777778,
              "#fb9f3a"
             ],
             [
              0.8888888888888888,
              "#fdca26"
             ],
             [
              1,
              "#f0f921"
             ]
            ],
            "type": "surface"
           }
          ],
          "table": [
           {
            "cells": {
             "fill": {
              "color": "#EBF0F8"
             },
             "line": {
              "color": "white"
             }
            },
            "header": {
             "fill": {
              "color": "#C8D4E3"
             },
             "line": {
              "color": "white"
             }
            },
            "type": "table"
           }
          ]
         },
         "layout": {
          "annotationdefaults": {
           "arrowcolor": "#2a3f5f",
           "arrowhead": 0,
           "arrowwidth": 1
          },
          "autotypenumbers": "strict",
          "coloraxis": {
           "colorbar": {
            "outlinewidth": 0,
            "ticks": ""
           }
          },
          "colorscale": {
           "diverging": [
            [
             0,
             "#8e0152"
            ],
            [
             0.1,
             "#c51b7d"
            ],
            [
             0.2,
             "#de77ae"
            ],
            [
             0.3,
             "#f1b6da"
            ],
            [
             0.4,
             "#fde0ef"
            ],
            [
             0.5,
             "#f7f7f7"
            ],
            [
             0.6,
             "#e6f5d0"
            ],
            [
             0.7,
             "#b8e186"
            ],
            [
             0.8,
             "#7fbc41"
            ],
            [
             0.9,
             "#4d9221"
            ],
            [
             1,
             "#276419"
            ]
           ],
           "sequential": [
            [
             0,
             "#0d0887"
            ],
            [
             0.1111111111111111,
             "#46039f"
            ],
            [
             0.2222222222222222,
             "#7201a8"
            ],
            [
             0.3333333333333333,
             "#9c179e"
            ],
            [
             0.4444444444444444,
             "#bd3786"
            ],
            [
             0.5555555555555556,
             "#d8576b"
            ],
            [
             0.6666666666666666,
             "#ed7953"
            ],
            [
             0.7777777777777778,
             "#fb9f3a"
            ],
            [
             0.8888888888888888,
             "#fdca26"
            ],
            [
             1,
             "#f0f921"
            ]
           ],
           "sequentialminus": [
            [
             0,
             "#0d0887"
            ],
            [
             0.1111111111111111,
             "#46039f"
            ],
            [
             0.2222222222222222,
             "#7201a8"
            ],
            [
             0.3333333333333333,
             "#9c179e"
            ],
            [
             0.4444444444444444,
             "#bd3786"
            ],
            [
             0.5555555555555556,
             "#d8576b"
            ],
            [
             0.6666666666666666,
             "#ed7953"
            ],
            [
             0.7777777777777778,
             "#fb9f3a"
            ],
            [
             0.8888888888888888,
             "#fdca26"
            ],
            [
             1,
             "#f0f921"
            ]
           ]
          },
          "colorway": [
           "#636efa",
           "#EF553B",
           "#00cc96",
           "#ab63fa",
           "#FFA15A",
           "#19d3f3",
           "#FF6692",
           "#B6E880",
           "#FF97FF",
           "#FECB52"
          ],
          "font": {
           "color": "#2a3f5f"
          },
          "geo": {
           "bgcolor": "white",
           "lakecolor": "white",
           "landcolor": "#E5ECF6",
           "showlakes": true,
           "showland": true,
           "subunitcolor": "white"
          },
          "hoverlabel": {
           "align": "left"
          },
          "hovermode": "closest",
          "mapbox": {
           "style": "light"
          },
          "paper_bgcolor": "white",
          "plot_bgcolor": "#E5ECF6",
          "polar": {
           "angularaxis": {
            "gridcolor": "white",
            "linecolor": "white",
            "ticks": ""
           },
           "bgcolor": "#E5ECF6",
           "radialaxis": {
            "gridcolor": "white",
            "linecolor": "white",
            "ticks": ""
           }
          },
          "scene": {
           "xaxis": {
            "backgroundcolor": "#E5ECF6",
            "gridcolor": "white",
            "gridwidth": 2,
            "linecolor": "white",
            "showbackground": true,
            "ticks": "",
            "zerolinecolor": "white"
           },
           "yaxis": {
            "backgroundcolor": "#E5ECF6",
            "gridcolor": "white",
            "gridwidth": 2,
            "linecolor": "white",
            "showbackground": true,
            "ticks": "",
            "zerolinecolor": "white"
           },
           "zaxis": {
            "backgroundcolor": "#E5ECF6",
            "gridcolor": "white",
            "gridwidth": 2,
            "linecolor": "white",
            "showbackground": true,
            "ticks": "",
            "zerolinecolor": "white"
           }
          },
          "shapedefaults": {
           "line": {
            "color": "#2a3f5f"
           }
          },
          "ternary": {
           "aaxis": {
            "gridcolor": "white",
            "linecolor": "white",
            "ticks": ""
           },
           "baxis": {
            "gridcolor": "white",
            "linecolor": "white",
            "ticks": ""
           },
           "bgcolor": "#E5ECF6",
           "caxis": {
            "gridcolor": "white",
            "linecolor": "white",
            "ticks": ""
           }
          },
          "title": {
           "x": 0.05
          },
          "xaxis": {
           "automargin": true,
           "gridcolor": "white",
           "linecolor": "white",
           "ticks": "",
           "title": {
            "standoff": 15
           },
           "zerolinecolor": "white",
           "zerolinewidth": 2
          },
          "yaxis": {
           "automargin": true,
           "gridcolor": "white",
           "linecolor": "white",
           "ticks": "",
           "title": {
            "standoff": 15
           },
           "zerolinecolor": "white",
           "zerolinewidth": 2
          }
         }
        },
        "width": 600,
        "xaxis": {
         "title": {
          "text": "Shot Size"
         }
        },
        "yaxis": {
         "tickmode": "linear",
         "title": {
          "text": "Language"
         }
        }
       }
      }
     },
     "metadata": {},
     "output_type": "display_data"
    }
   ],
   "source": [
    "plot_heatmaps(\"./results/L2-Norm/\", \"L2-Norm\")"
   ]
  },
  {
   "cell_type": "markdown",
   "metadata": {},
   "source": [
    "---\n",
    "## Plotting the tSNE Plot"
   ]
  },
  {
   "cell_type": "code",
   "execution_count": null,
   "metadata": {},
   "outputs": [],
   "source": [
    "df = pd.read_csv(\"./data/whisper-l2-feats.csv\").drop(['Unnamed: 0'], axis=1)\n",
    "df = df[df['train_test']=='test'].drop(['train_test'], axis=1)\n",
    "\n",
    "features = df.drop(['language', 'abuse'], axis=1)"
   ]
  },
  {
   "cell_type": "code",
   "execution_count": null,
   "metadata": {},
   "outputs": [],
   "source": [
    "tsne = TSNE(n_components=2, random_state=42)\n",
    "tsne_result = tsne.fit_transform(features)\n",
    "\n",
    "\n",
    "df['tsne1'] = tsne_result[:, 0]\n",
    "df['tsne2'] = tsne_result[:, 1]"
   ]
  },
  {
   "cell_type": "code",
   "execution_count": null,
   "metadata": {},
   "outputs": [
    {
     "data": {
      "application/vnd.plotly.v1+json": {
       "config": {
        "plotlyServerURL": "https://plot.ly"
       },
       "data": [
        {
         "hovertemplate": "language=Bengali<br>tsne1=%{x}<br>tsne2=%{y}<extra></extra>",
         "legendgroup": "Bengali",
         "marker": {
          "color": "#636efa",
          "symbol": "circle"
         },
         "mode": "markers",
         "name": "Bengali",
         "showlegend": true,
         "type": "scattergl",
         "x": [
          35.90865707397461,
          -35.60280227661133,
          24.880491256713867,
          8.645256042480469,
          48.529075622558594,
          8.762657165527344,
          -11.068315505981445,
          -12.967560768127441,
          -60.27484893798828,
          -2.781935453414917,
          2.5059938430786133,
          32.238433837890625,
          18.3242244720459,
          -0.4547802805900574,
          9.873113632202148,
          22.156949996948242,
          -11.566872596740723,
          -58.11185073852539,
          5.2252655029296875,
          -15.398011207580566,
          13.993159294128418,
          42.477046966552734,
          3.641469717025757,
          13.141908645629883,
          12.054658889770508,
          -20.570571899414062,
          8.157224655151367,
          -20.186023712158203,
          44.76655578613281,
          -2.154505968093872,
          7.6404008865356445,
          -15.451115608215332,
          -42.29508590698242,
          -1.6919045448303223,
          16.034757614135742,
          -1.6962188482284546,
          5.16046142578125,
          44.977664947509766,
          35.4603157043457,
          15.548675537109375,
          9.951038360595703,
          -51.137943267822266,
          8.25832748413086,
          39.41918182373047,
          -39.90678024291992,
          4.994364261627197,
          -14.9347505569458,
          -2.471709728240967,
          -21.081701278686523,
          1.1950068473815918,
          -18.32630729675293,
          7.800597190856934,
          -46.58452606201172,
          -13.320053100585938,
          28.407100677490234,
          -16.329267501831055,
          -41.047420501708984,
          8.245765686035156,
          17.220932006835938,
          -58.00446319580078,
          12.771929740905762,
          -25.494735717773438,
          4.971404552459717,
          24.807239532470703,
          4.620076656341553,
          4.686530113220215,
          17.953031539916992,
          0.8398883938789368,
          14.760659217834473,
          31.2514591217041,
          33.97335433959961,
          40.372318267822266,
          41.93239974975586,
          -15.835345268249512,
          -55.503726959228516,
          -3.7285802364349365,
          11.158096313476562,
          40.4905891418457,
          35.06070327758789,
          50.24549865722656,
          1.8093743324279785,
          45.43940353393555,
          5.434887886047363,
          -39.82419204711914,
          -16.827686309814453,
          -1.4336497783660889,
          -61.03083801269531,
          -41.879150390625,
          44.62114334106445,
          7.029545783996582,
          0.02693304419517517,
          9.89737606048584,
          49.069881439208984,
          4.239437103271484,
          -18.672008514404297,
          31.16503143310547,
          -15.213425636291504,
          -34.964359283447266,
          35.85930633544922,
          4.878133773803711,
          4.227403163909912,
          32.838294982910156,
          4.427835941314697,
          -30.12650489807129,
          24.52202033996582,
          3.246532917022705,
          48.017635345458984,
          1.90155827999115,
          -2.919616222381592,
          -46.75251007080078,
          1.266443133354187,
          8.122299194335938,
          17.9841365814209,
          18.84549331665039,
          27.012964248657227,
          -6.139728546142578,
          0.6672604084014893,
          0.329067200422287,
          -41.53300857543945,
          13.504626274108887,
          12.85173511505127,
          -20.552207946777344,
          7.347292900085449,
          1.9077869653701782,
          5.873291015625,
          2.7321982383728027,
          49.96566390991211,
          34.59020233154297,
          40.246952056884766,
          0.6745803356170654,
          12.354568481445312,
          1.864134430885315,
          45.581912994384766,
          38.3286247253418,
          -23.914756774902344,
          9.769305229187012,
          20.042129516601562,
          36.551849365234375,
          -39.6229248046875,
          19.111268997192383,
          22.72905921936035,
          -22.677135467529297,
          -46.26801300048828,
          -23.997949600219727,
          1.6051265001296997,
          -19.00227165222168,
          -17.128969192504883,
          -40.29280471801758,
          -46.679588317871094,
          2.933349370956421,
          -18.256772994995117,
          -38.24604797363281,
          3.1670284271240234,
          9.910417556762695,
          0.7840750217437744,
          -3.325319766998291,
          17.089187622070312,
          0.874295175075531,
          7.9303507804870605,
          8.211447715759277,
          1.9750059843063354,
          15.31075382232666,
          -59.5010986328125,
          -24.789064407348633,
          7.777557373046875,
          9.919750213623047,
          41.74388885498047,
          -22.54829216003418,
          21.774389266967773,
          7.845338821411133,
          13.085724830627441,
          11.52904224395752,
          15.785492897033691,
          -24.28276824951172,
          0.2173227220773697,
          -49.89592742919922,
          17.691650390625,
          46.81751251220703,
          7.249683856964111,
          6.444070816040039,
          -0.15739203989505768,
          4.111303806304932,
          15.090303421020508,
          -19.88773536682129,
          38.40530776977539,
          2.634650468826294,
          24.608489990234375,
          46.49375534057617,
          -26.599552154541016,
          -0.6318995952606201,
          9.131255149841309,
          15.290023803710938,
          -17.342187881469727,
          2.7244555950164795,
          1.7706013917922974,
          1.478561282157898,
          16.34832000732422,
          18.12611198425293,
          49.03982925415039,
          1.181910753250122,
          17.09345245361328,
          2.9394032955169678,
          46.692405700683594,
          23.917917251586914,
          0.041055772453546524,
          33.01287078857422,
          9.851739883422852,
          15.046379089355469,
          11.141312599182129,
          -48.812198638916016,
          42.52231216430664,
          9.894634246826172,
          39.49981689453125,
          26.786405563354492,
          13.093986511230469,
          19.355289459228516,
          12.820357322692871,
          4.417635440826416,
          -45.980045318603516,
          6.823897838592529,
          28.104917526245117,
          24.183971405029297,
          4.226616859436035,
          25.429401397705078,
          13.332275390625,
          5.658050537109375,
          -15.486326217651367,
          40.98967742919922,
          47.860782623291016,
          9.29405689239502,
          46.26115798950195,
          18.317724227905273,
          10.579482078552246,
          -8.296733856201172,
          16.371164321899414,
          35.14521026611328,
          -0.11122483760118484,
          -21.078960418701172,
          36.305973052978516,
          -6.490842342376709,
          24.042133331298828,
          -8.999432563781738,
          -0.11314769089221954,
          33.18833541870117,
          14.444890975952148,
          9.23210620880127,
          4.77136754989624,
          39.0219841003418,
          7.606017112731934,
          -18.888296127319336,
          8.587297439575195,
          -45.834571838378906,
          36.73798751831055,
          4.0871262550354,
          16.77617645263672,
          22.081405639648438,
          11.73961353302002,
          -14.78482437133789,
          16.52459716796875,
          17.599050521850586,
          16.706377029418945,
          0.009159073233604431,
          16.858736038208008,
          -22.764877319335938,
          -1.3260343074798584,
          -21.331069946289062,
          5.409454345703125,
          39.83993148803711,
          48.56097412109375,
          14.200359344482422,
          6.18469762802124,
          36.25584030151367,
          20.300830841064453,
          28.6163330078125,
          18.022674560546875,
          1.585675835609436,
          3.492548704147339,
          -45.70180892944336,
          -0.2138049453496933,
          7.5487213134765625,
          29.435850143432617,
          37.2820930480957,
          12.961299896240234,
          -12.433198928833008,
          10.97042465209961,
          4.281338214874268,
          8.140876770019531,
          9.463558197021484,
          37.98137283325195,
          19.028825759887695,
          47.60371398925781,
          31.135658264160156,
          -23.755290985107422,
          52.257530212402344,
          5.880744934082031,
          -42.980186462402344,
          15.033525466918945,
          43.0009651184082,
          2.13710618019104,
          10.004783630371094,
          -4.613347053527832,
          8.850282669067383,
          -22.50185203552246,
          39.73566436767578,
          12.17465877532959,
          40.595619201660156,
          12.33734130859375,
          47.685325622558594,
          49.599185943603516,
          43.551177978515625,
          9.683792114257812,
          -48.27582931518555,
          -47.59792709350586,
          15.613141059875488,
          2.7373828887939453,
          6.883202075958252,
          38.30857849121094,
          5.246364116668701,
          -36.17778396606445,
          13.50965404510498,
          -56.932655334472656,
          19.67096710205078,
          -1.9443329572677612,
          29.55765151977539,
          28.110713958740234,
          8.402374267578125,
          -41.6684684753418,
          37.55194854736328,
          30.174219131469727,
          17.736303329467773,
          -18.534395217895508,
          45.48143005371094,
          -57.19065856933594,
          -56.0656623840332,
          8.229204177856445,
          3.24619460105896,
          12.61217212677002,
          -62.90593719482422,
          6.253979682922363,
          -6.282411575317383,
          36.69420623779297,
          27.964824676513672,
          7.964864253997803,
          1.25327730178833,
          8.541519165039062,
          48.51286697387695,
          9.074419975280762,
          44.8930778503418,
          -31.66150665283203,
          -46.490943908691406,
          49.860626220703125,
          -14.268617630004883,
          3.156623363494873,
          41.56212615966797,
          -0.2706204652786255,
          -34.95185470581055,
          -36.0215950012207,
          7.9203267097473145,
          25.488101959228516,
          37.24679183959961,
          4.346679210662842,
          26.338329315185547,
          39.89989471435547,
          6.916303634643555,
          9.941679000854492,
          16.34033966064453,
          34.8433723449707,
          -42.5733528137207,
          1.0260567665100098,
          15.752617835998535
         ],
         "xaxis": "x",
         "y": [
          24.633766174316406,
          30.595314025878906,
          28.086517333984375,
          36.206424713134766,
          8.510107040405273,
          23.86575698852539,
          12.142874717712402,
          -23.23659324645996,
          1.7758235931396484,
          32.30188751220703,
          30.35044288635254,
          29.3430118560791,
          11.292701721191406,
          33.07203674316406,
          29.04692268371582,
          21.081819534301758,
          11.552521705627441,
          4.5709943771362305,
          -6.952394485473633,
          0.26146262884140015,
          21.961332321166992,
          21.51249885559082,
          15.092012405395508,
          1.753734827041626,
          31.88332748413086,
          -11.080617904663086,
          31.600950241088867,
          6.999500751495361,
          -4.041348457336426,
          -4.972936153411865,
          21.81682586669922,
          5.78308629989624,
          5.130252838134766,
          25.778539657592773,
          16.751317977905273,
          9.888206481933594,
          -6.3358025550842285,
          -8.596895217895508,
          15.883163452148438,
          26.519603729248047,
          -20.78969383239746,
          14.912668228149414,
          30.712398529052734,
          -19.341434478759766,
          24.089508056640625,
          31.47939682006836,
          10.494359970092773,
          32.18560791015625,
          -2.504157543182373,
          32.5329704284668,
          -18.631284713745117,
          21.772293090820312,
          2.5236074924468994,
          17.552942276000977,
          29.025226593017578,
          1.3250162601470947,
          16.666902542114258,
          31.426301956176758,
          31.78505516052246,
          26.551828384399414,
          -1.0977721214294434,
          13.943634986877441,
          29.6822566986084,
          21.356908798217773,
          -2.2383627891540527,
          28.409353256225586,
          -4.802716255187988,
          26.86573028564453,
          21.308862686157227,
          -21.54191780090332,
          -15.378791809082031,
          -15.661003112792969,
          32.43170928955078,
          -23.657480239868164,
          28.67268943786621,
          27.574281692504883,
          27.011289596557617,
          17.739377975463867,
          35.93599319458008,
          5.646928787231445,
          29.9522705078125,
          0.21862353384494781,
          30.15726661682129,
          -0.4057634174823761,
          -11.72457218170166,
          34.02451705932617,
          1.9841684103012085,
          4.97803258895874,
          27.975980758666992,
          30.885778427124023,
          8.321046829223633,
          30.3997802734375,
          30.259815216064453,
          27.155656814575195,
          -1.6543771028518677,
          22.169912338256836,
          0.47718527913093567,
          25.850509643554688,
          25.731903076171875,
          35.99863815307617,
          30.39649772644043,
          20.771203994750977,
          30.240100860595703,
          -13.670177459716797,
          17.984041213989258,
          28.711576461791992,
          7.051185131072998,
          33.401485443115234,
          32.10491943359375,
          16.905906677246094,
          27.501344680786133,
          23.643075942993164,
          29.639432907104492,
          25.9153995513916,
          -10.454221725463867,
          -3.457817792892456,
          35.1348876953125,
          32.062721252441406,
          14.482181549072266,
          20.73997688293457,
          28.19841194152832,
          -9.379284858703613,
          35.145084381103516,
          32.935462951660156,
          29.054887771606445,
          27.763980865478516,
          1.6250330209732056,
          24.363924026489258,
          20.181995391845703,
          35.69562911987305,
          24.3995361328125,
          22.535703659057617,
          -13.55381965637207,
          25.546459197998047,
          11.745888710021973,
          33.41300582885742,
          15.45490837097168,
          -20.029935836791992,
          13.463899612426758,
          -6.33363676071167,
          -19.090200424194336,
          12.281720161437988,
          30.31301498413086,
          -3.5757975578308105,
          33.674076080322266,
          -9.546372413635254,
          0.8145952224731445,
          23.92237091064453,
          11.181764602661133,
          22.345901489257812,
          -19.027341842651367,
          -0.6082314252853394,
          29.226428985595703,
          29.161733627319336,
          30.632919311523438,
          28.528118133544922,
          31.86707305908203,
          33.67955017089844,
          23.587812423706055,
          24.8868350982666,
          35.10563278198242,
          20.198293685913086,
          26.23392677307129,
          16.30091667175293,
          35.5916633605957,
          27.828889846801758,
          27.78611183166504,
          6.608098983764648,
          -7.537045955657959,
          35.62931823730469,
          22.79451560974121,
          -23.375782012939453,
          19.322683334350586,
          12.398374557495117,
          -21.415193557739258,
          29.427791595458984,
          24.951919555664062,
          -1.1511586904525757,
          34.13331985473633,
          9.194982528686523,
          30.66892433166504,
          29.809940338134766,
          34.24644088745117,
          17.862640380859375,
          29.93017578125,
          20.75050163269043,
          25.846641540527344,
          10.224814414978027,
          7.176107883453369,
          29.119661331176758,
          29.396942138671875,
          7.181825160980225,
          -22.88561248779297,
          33.83513259887695,
          34.58378601074219,
          33.62445068359375,
          -13.92496109008789,
          -2.002445936203003,
          10.216025352478027,
          28.39296531677246,
          -11.259899139404297,
          26.09235954284668,
          18.288236618041992,
          -29.098848342895508,
          30.83972930908203,
          21.314586639404297,
          27.44796371459961,
          -1.878946304321289,
          9.68214225769043,
          30.684865951538086,
          19.951204299926758,
          25.740962982177734,
          -18.988868713378906,
          -9.756427764892578,
          4.717133045196533,
          29.048789978027344,
          28.276859283447266,
          31.95532989501953,
          25.113298416137695,
          23.514663696289062,
          8.221181869506836,
          28.11386489868164,
          32.77067565917969,
          -5.5379319190979,
          4.641626834869385,
          -0.8738880753517151,
          19.048381805419922,
          16.731971740722656,
          34.30133819580078,
          -13.942461967468262,
          6.355409145355225,
          14.721627235412598,
          -7.606801509857178,
          11.51353931427002,
          27.844745635986328,
          20.0342960357666,
          34.312339782714844,
          13.836041450500488,
          -20.030616760253906,
          -4.004608154296875,
          25.707252502441406,
          12.33940315246582,
          25.495649337768555,
          22.42563247680664,
          21.153160095214844,
          0.7359910011291504,
          36.168846130371094,
          21.056482315063477,
          26.462467193603516,
          3.6779119968414307,
          28.39964485168457,
          22.648311614990234,
          -20.185779571533203,
          31.574443817138672,
          6.567720413208008,
          11.352428436279297,
          30.682992935180664,
          -18.788114547729492,
          31.397510528564453,
          -4.09578275680542,
          25.974124908447266,
          31.882858276367188,
          16.5721378326416,
          14.281804084777832,
          33.97614288330078,
          -7.769420623779297,
          30.61917495727539,
          33.627811431884766,
          0.2840362787246704,
          -20.407672882080078,
          -1.745166301727295,
          14.880428314208984,
          32.51118850708008,
          19.929250717163086,
          27.038299560546875,
          8.824921607971191,
          32.012996673583984,
          4.587240695953369,
          33.84025955200195,
          24.470027923583984,
          26.008176803588867,
          15.405620574951172,
          21.39320945739746,
          -24.007177352905273,
          1.9544333219528198,
          34.39127731323242,
          29.223161697387695,
          28.526676177978516,
          18.76057243347168,
          18.06285858154297,
          33.426544189453125,
          -17.248647689819336,
          -3.4102978706359863,
          0.26648616790771484,
          27.075159072875977,
          4.78267240524292,
          28.385665893554688,
          -20.591323852539062,
          23.818641662597656,
          22.135080337524414,
          30.683523178100586,
          32.018253326416016,
          4.124387741088867,
          25.489700317382812,
          20.4887638092041,
          -17.165611267089844,
          21.407835006713867,
          -3.022228240966797,
          4.169147968292236,
          18.959096908569336,
          23.72698402404785,
          29.842477798461914,
          11.648712158203125,
          8.32774829864502,
          25.969636917114258,
          -26.08552360534668,
          30.004798889160156,
          32.65681838989258,
          -6.502457618713379,
          21.741498947143555,
          28.89457893371582,
          11.07866382598877,
          26.524993896484375,
          25.23809051513672,
          8.389749526977539,
          -12.245050430297852,
          21.537817001342773,
          17.59917640686035,
          8.498156547546387,
          24.9971866607666,
          11.507220268249512,
          -1.4597755670547485,
          26.854524612426758,
          27.20065689086914,
          9.925676345825195,
          33.882484436035156,
          19.323036193847656,
          15.99495792388916,
          32.85301208496094,
          -4.023794651031494,
          21.604267120361328,
          17.229795455932617,
          30.999338150024414,
          33.415443420410156,
          24.667877197265625,
          3.778217315673828,
          30.053918838500977,
          -1.9972562789916992,
          25.571372985839844,
          18.829919815063477,
          -3.940096855163574,
          -17.83275032043457,
          32.112247467041016,
          18.918107986450195,
          24.866683959960938,
          4.195750713348389,
          8.382286071777344,
          29.915603637695312,
          7.3077826499938965,
          23.06063461303711,
          27.606931686401367,
          -31.597576141357422,
          18.50536346435547,
          23.35503578186035,
          3.520885705947876,
          31.773208618164062,
          22.1387996673584,
          30.358516693115234,
          29.60773277282715,
          5.806766510009766
         ],
         "yaxis": "y"
        },
        {
         "hovertemplate": "language=Bhojpuri<br>tsne1=%{x}<br>tsne2=%{y}<extra></extra>",
         "legendgroup": "Bhojpuri",
         "marker": {
          "color": "#EF553B",
          "symbol": "circle"
         },
         "mode": "markers",
         "name": "Bhojpuri",
         "showlegend": true,
         "type": "scattergl",
         "x": [
          -60.28828811645508,
          -42.11910629272461,
          20.524024963378906,
          12.766999244689941,
          14.828585624694824,
          28.01371192932129,
          16.97443962097168,
          23.58080291748047,
          9.690719604492188,
          -41.831695556640625,
          -38.17356872558594,
          47.2655143737793,
          -43.735877990722656,
          36.483543395996094,
          -37.07807540893555,
          30.004961013793945,
          15.369115829467773,
          7.016517639160156,
          7.472853660583496,
          -32.32706832885742,
          5.106847286224365,
          -10.618390083312988,
          -25.061189651489258,
          31.142669677734375,
          7.526505470275879,
          7.440149784088135,
          12.9152250289917,
          25.264230728149414,
          12.942166328430176,
          -3.8903188705444336,
          -41.616275787353516,
          30.8804931640625,
          -2.3408122062683105,
          -28.924245834350586,
          -36.470970153808594,
          36.866878509521484,
          -5.119006156921387,
          11.541633605957031,
          0.1251412332057953,
          14.153848648071289,
          10.989059448242188,
          36.31736755371094,
          0.8974913954734802,
          29.952754974365234,
          18.2727108001709,
          -7.849958419799805,
          -24.259727478027344,
          2.1066980361938477,
          55.228702545166016,
          -40.689849853515625,
          39.49018859863281,
          -30.37750816345215,
          48.939414978027344,
          -15.65159797668457,
          -52.7325439453125,
          36.41489791870117,
          -5.903083324432373,
          21.943601608276367,
          47.61423873901367,
          24.11094856262207,
          -57.354888916015625,
          24.181764602661133,
          -47.48282241821289,
          2.7992019653320312,
          16.737062454223633,
          19.173532485961914,
          -7.837868690490723,
          -60.529232025146484,
          -4.247885227203369,
          1.7606236934661865,
          46.61552047729492,
          26.930952072143555,
          37.093135833740234,
          41.595069885253906,
          26.745418548583984,
          -42.98444747924805,
          15.495599746704102,
          17.404529571533203,
          34.77249526977539,
          -43.564788818359375,
          3.0675504207611084,
          8.847475051879883,
          -47.34580612182617,
          -9.985939979553223,
          16.053266525268555,
          -55.8409309387207,
          16.384645462036133,
          44.904930114746094,
          6.722494125366211,
          12.742979049682617,
          25.54275131225586,
          23.3480167388916,
          -26.8101749420166,
          10.15103816986084,
          13.779495239257812,
          -13.027935028076172,
          25.837167739868164,
          9.9320068359375,
          29.900821685791016,
          18.653560638427734,
          6.598567008972168,
          2.9458768367767334,
          28.419599533081055,
          2.5518906116485596,
          18.26419448852539,
          -11.944178581237793,
          10.003840446472168,
          -10.992959976196289,
          13.652820587158203,
          -59.28041076660156,
          36.72709274291992,
          42.555362701416016,
          10.913799285888672,
          35.86481475830078,
          41.580928802490234,
          33.60905075073242,
          21.669395446777344,
          24.882001876831055,
          11.485692977905273,
          -47.2115364074707,
          -0.3468276858329773,
          22.8585147857666,
          -3.219099998474121,
          20.411914825439453,
          48.262447357177734,
          13.804023742675781,
          4.351172924041748,
          17.794677734375,
          3.5240635871887207,
          3.174809455871582,
          5.995427131652832,
          -12.49006462097168,
          -53.55192947387695,
          -3.378105878829956,
          -44.309181213378906,
          -35.19218063354492,
          -24.398826599121094,
          5.350130558013916,
          -14.502509117126465,
          25.939558029174805,
          11.644052505493164,
          34.325889587402344,
          -8.611563682556152,
          11.287189483642578,
          12.205893516540527,
          20.824129104614258,
          8.041274070739746,
          -10.810355186462402,
          14.29621410369873,
          10.212359428405762,
          48.89087677001953,
          50.26492691040039,
          -49.06788635253906,
          -0.2516430914402008,
          -53.95473861694336,
          -57.42256164550781,
          -57.01667404174805,
          -9.803166389465332,
          -13.118841171264648,
          20.596691131591797,
          -0.5589914917945862,
          23.574735641479492,
          46.6354866027832,
          37.19672775268555,
          6.845211982727051,
          19.770944595336914,
          3.304312229156494,
          -11.852487564086914,
          -16.45571517944336,
          -46.88863754272461,
          12.418787002563477,
          9.45472240447998,
          19.207509994506836,
          22.017593383789062,
          -0.6441214680671692,
          9.29898738861084,
          41.99739456176758,
          52.529727935791016,
          17.74616050720215,
          11.490270614624023,
          9.037126541137695,
          32.3177375793457,
          -35.7238883972168,
          -40.52963638305664,
          -5.439695835113525,
          -0.1523771733045578,
          2.280163049697876,
          -0.10986819863319397,
          19.975074768066406,
          -6.311450004577637,
          34.10152816772461,
          35.373634338378906,
          33.549652099609375,
          39.462581634521484,
          9.242182731628418,
          13.499500274658203,
          35.971893310546875,
          43.73283004760742,
          24.758499145507812,
          1.4577754735946655,
          22.362808227539062,
          15.807483673095703,
          -36.37610626220703,
          21.466936111450195,
          42.721473693847656,
          11.283414840698242,
          5.57444429397583,
          19.17627716064453,
          -31.817562103271484,
          27.502473831176758,
          0.009143820963799953,
          6.027547836303711,
          -17.31403923034668,
          -42.24137878417969,
          9.025203704833984,
          -0.48557910323143005,
          13.684854507446289,
          -0.23596620559692383,
          29.57003402709961,
          25.543970108032227,
          1.6392884254455566,
          48.30599594116211,
          -2.662724018096924,
          -21.316509246826172,
          7.855180263519287,
          7.772149562835693,
          2.6793582439422607,
          -36.360321044921875,
          7.106650352478027,
          -0.005641240160912275,
          14.551888465881348,
          21.951295852661133,
          -28.33538055419922,
          8.045058250427246,
          28.98368263244629,
          -31.663232803344727,
          22.113710403442383,
          -2.0336174964904785,
          39.32530212402344,
          5.9426116943359375,
          10.081859588623047,
          32.031494140625,
          -21.36208152770996,
          27.225061416625977,
          16.44287872314453,
          31.28882598876953,
          17.869356155395508,
          27.02442169189453,
          34.37934494018555,
          12.192060470581055,
          26.478883743286133,
          -23.67254638671875,
          -12.153575897216797,
          13.284868240356445,
          33.98918533325195,
          -12.080774307250977,
          -17.236650466918945,
          40.78466796875,
          24.665424346923828,
          -10.842062950134277,
          31.218719482421875,
          4.5001935958862305,
          10.940508842468262,
          -41.9830436706543,
          7.358782768249512,
          39.787349700927734,
          23.299203872680664,
          7.358654975891113,
          -13.912130355834961,
          -6.095755100250244,
          44.31938934326172,
          3.353524923324585,
          -55.15755844116211,
          -28.29349136352539,
          34.83570098876953,
          2.6028950214385986,
          55.43559646606445,
          27.984891891479492,
          20.719913482666016,
          5.852909564971924,
          26.839174270629883,
          10.738834381103516,
          42.56477737426758,
          7.8542094230651855,
          -43.43832015991211,
          3.5870792865753174,
          7.776236534118652,
          7.92161750793457,
          5.4547319412231445,
          6.422341346740723,
          12.392321586608887,
          -22.465181350708008,
          5.6951727867126465,
          1.1346083879470825,
          6.3987579345703125,
          22.502845764160156,
          11.299578666687012,
          31.002521514892578,
          12.610018730163574,
          43.8502311706543,
          35.764503479003906,
          19.01557159423828,
          50.13574981689453,
          -27.371334075927734,
          -9.586604118347168,
          -10.388921737670898,
          24.00136947631836,
          10.677104949951172,
          18.488506317138672,
          -4.631999969482422,
          18.209596633911133,
          -49.33390426635742,
          2.543362617492676,
          6.354129791259766,
          -19.8496036529541,
          8.707657814025879,
          -16.23259162902832,
          -0.992003858089447,
          21.5794677734375,
          24.34608268737793,
          -39.106597900390625,
          31.46708869934082,
          44.443111419677734,
          14.981061935424805,
          -1.3417611122131348,
          11.329967498779297,
          -0.7693129777908325,
          -0.9877141714096069,
          5.934418678283691,
          23.365278244018555,
          5.98765754699707,
          -5.00447940826416,
          4.390554904937744,
          25.8861026763916,
          14.17011833190918,
          -0.42246896028518677
         ],
         "xaxis": "x",
         "y": [
          1.8117696046829224,
          30.950899124145508,
          -5.385228157043457,
          26.118572235107422,
          -11.865423202514648,
          6.357072353363037,
          -15.249691009521484,
          -28.001314163208008,
          -9.203716278076172,
          26.635509490966797,
          -36.269203186035156,
          5.712891578674316,
          25.387744903564453,
          13.535219192504883,
          3.4523415565490723,
          14.199870109558105,
          -0.12425701320171356,
          -5.702544689178467,
          -21.553010940551758,
          29.980045318603516,
          2.8920388221740723,
          -11.508212089538574,
          -11.23955249786377,
          -29.96480369567871,
          0.6077272295951843,
          -13.221855163574219,
          0.646079421043396,
          0.4005903899669647,
          -7.89362907409668,
          -2.564418077468872,
          11.526697158813477,
          15.553916931152344,
          -5.12681770324707,
          19.07119369506836,
          -36.43376541137695,
          26.190685272216797,
          -9.686360359191895,
          -10.869874000549316,
          -7.344534873962402,
          8.094945907592773,
          -25.776634216308594,
          -11.2903413772583,
          -10.936263084411621,
          11.489923477172852,
          8.537138938903809,
          7.773055553436279,
          9.798788070678711,
          -0.8402472138404846,
          -13.707213401794434,
          -0.5612331628799438,
          -14.219637870788574,
          16.414737701416016,
          3.9054086208343506,
          3.423727035522461,
          19.550716400146484,
          13.43172550201416,
          -1.2814664840698242,
          -20.089580535888672,
          31.22722816467285,
          4.262143135070801,
          1.3771840333938599,
          7.70738410949707,
          9.81911849975586,
          -5.244765758514404,
          0.6789513230323792,
          -5.463438510894775,
          -9.932757377624512,
          2.072230815887451,
          -9.28126049041748,
          -4.531833171844482,
          30.734346389770508,
          -4.270876407623291,
          26.003143310546875,
          19.600234985351562,
          -4.448552131652832,
          16.542829513549805,
          0.5317771434783936,
          0.8480017781257629,
          31.505985260009766,
          28.981523513793945,
          3.1038804054260254,
          -5.522399425506592,
          2.667401075363159,
          -7.919265270233154,
          -9.392557144165039,
          28.398954391479492,
          11.108720779418945,
          28.380111694335938,
          -4.320507526397705,
          -0.0507504977285862,
          -7.482691287994385,
          12.706055641174316,
          12.307751655578613,
          -3.9291305541992188,
          -6.577871799468994,
          -16.449726104736328,
          10.530012130737305,
          -26.382579803466797,
          11.422013282775879,
          2.705718994140625,
          -8.313546180725098,
          -11.04413890838623,
          -14.633670806884766,
          -13.233080863952637,
          -1.093997836112976,
          18.074705123901367,
          -29.762821197509766,
          8.307013511657715,
          -0.01013887394219637,
          17.10797119140625,
          20.8880558013916,
          6.865880966186523,
          2.164473295211792,
          30.56945037841797,
          16.804729461669922,
          22.125843048095703,
          13.115184783935547,
          -6.48790979385376,
          6.268751621246338,
          16.17174530029297,
          7.8914031982421875,
          8.234455108642578,
          -8.392226219177246,
          11.08320426940918,
          32.18157958984375,
          16.462060928344727,
          -7.963587760925293,
          3.1217429637908936,
          2.966355562210083,
          2.982961416244507,
          -10.483182907104492,
          -3.411937952041626,
          21.946367263793945,
          -2.123353958129883,
          34.349281311035156,
          16.252368927001953,
          16.417818069458008,
          -5.363715648651123,
          -10.758451461791992,
          8.007501602172852,
          -6.469715118408203,
          5.015096187591553,
          10.805313110351562,
          -12.500480651855469,
          8.64824104309082,
          29.310163497924805,
          -1.720493197441101,
          1.2653536796569824,
          -18.9151668548584,
          -8.149928092956543,
          9.811004638671875,
          14.50836181640625,
          10.12653636932373,
          -1.721632480621338,
          22.01698875427246,
          14.161033630371094,
          11.540480613708496,
          4.950655460357666,
          -2.3161323070526123,
          2.235525131225586,
          0.8352501392364502,
          1.5878912210464478,
          32.19954299926758,
          21.171051025390625,
          -8.01475715637207,
          12.27810001373291,
          -8.758453369140625,
          11.636320114135742,
          16.771615982055664,
          23.631088256835938,
          8.064323425292969,
          14.901237487792969,
          -8.285896301269531,
          0.9494022130966187,
          6.693077087402344,
          9.547931671142578,
          11.45419692993164,
          9.691256523132324,
          -0.0355960987508297,
          -11.138376235961914,
          -2.5208547115325928,
          6.000208854675293,
          15.312373161315918,
          31.57794189453125,
          -8.968263626098633,
          -6.77367639541626,
          -7.238065719604492,
          13.004486083984375,
          5.199806213378906,
          -3.8465030193328857,
          15.254463195800781,
          10.044342994689941,
          15.908470153808594,
          11.87410831451416,
          -8.120790481567383,
          -5.318603992462158,
          -13.267656326293945,
          -21.476051330566406,
          -6.7092976570129395,
          6.212837219238281,
          5.599943161010742,
          -3.107746124267578,
          10.072157859802246,
          0.40177905559539795,
          33.512699127197266,
          9.697076797485352,
          -13.250130653381348,
          -8.325567245483398,
          -31.931303024291992,
          -10.715049743652344,
          -5.566860198974609,
          8.907907485961914,
          15.157155990600586,
          -27.04499053955078,
          4.385075569152832,
          -4.370730400085449,
          11.156709671020508,
          -0.5601356625556946,
          15.561956405639648,
          -1.7841086387634277,
          6.303826808929443,
          20.279573440551758,
          -2.8366382122039795,
          1.2410229444503784,
          27.797348022460938,
          6.401169300079346,
          -9.885346412658691,
          -31.41759490966797,
          -5.634887218475342,
          0.9933751821517944,
          6.325773239135742,
          4.182216644287109,
          19.52146339416504,
          2.216203451156616,
          -16.289480209350586,
          6.419117450714111,
          11.45281982421875,
          -8.656551361083984,
          3.753560781478882,
          4.112606525421143,
          -1.831529140472412,
          10.18220043182373,
          5.918757438659668,
          23.61444091796875,
          -6.598354816436768,
          -13.245147705078125,
          -9.263822555541992,
          -6.724239349365234,
          -12.54849624633789,
          1.6353013515472412,
          -0.4094156324863434,
          16.594404220581055,
          10.638833999633789,
          -24.007413864135742,
          1.6364368200302124,
          13.818073272705078,
          -11.769820213317871,
          27.61880111694336,
          -1.92144775390625,
          -11.819549560546875,
          -15.223039627075195,
          20.5852108001709,
          -4.521385669708252,
          21.698606491088867,
          13.434578895568848,
          6.241612911224365,
          7.2458062171936035,
          -2.0475072860717773,
          17.59126091003418,
          -9.058204650878906,
          33.24060821533203,
          -5.215943336486816,
          23.237810134887695,
          7.454997539520264,
          -0.7937906980514526,
          -13.160330772399902,
          -9.065482139587402,
          -2.383945941925049,
          -19.62363624572754,
          -13.246866226196289,
          -10.635834693908691,
          12.178146362304688,
          2.0841078758239746,
          -13.295538902282715,
          9.634129524230957,
          32.59851837158203,
          -5.713961124420166,
          16.433801651000977,
          4.280722141265869,
          -3.7527620792388916,
          -6.052577495574951,
          16.077394485473633,
          -13.289416313171387,
          -7.326303005218506,
          3.352864980697632,
          2.56040620803833,
          0.8013627529144287,
          -15.437777519226074,
          2.9333245754241943,
          19.353116989135742,
          15.022565841674805,
          6.264195442199707,
          13.753719329833984,
          -15.68505859375,
          -2.4023609161376953,
          -16.500572204589844,
          6.006711959838867,
          -3.061055898666382,
          -0.05024131014943123,
          -6.0681586265563965,
          2.005502939224243,
          15.405221939086914,
          -13.815668106079102,
          -3.2223522663116455,
          -8.601143836975098,
          24.787492752075195,
          -23.37965202331543,
          2.1865079402923584,
          -3.0531368255615234,
          5.599642753601074,
          15.371068954467773,
          22.229536056518555,
          -1.6129356622695923,
          -24.09656524658203,
          -10.252096176147461,
          5.1374287605285645,
          2.3259975910186768,
          -7.36993932723999,
          32.95783615112305,
          -6.1295881271362305,
          29.778961181640625,
          -9.687392234802246,
          -11.190523147583008,
          6.202365398406982,
          2.804093599319458,
          -3.5163064002990723
         ],
         "yaxis": "y"
        },
        {
         "hovertemplate": "language=Gujarati<br>tsne1=%{x}<br>tsne2=%{y}<extra></extra>",
         "legendgroup": "Gujarati",
         "marker": {
          "color": "#00cc96",
          "symbol": "circle"
         },
         "mode": "markers",
         "name": "Gujarati",
         "showlegend": true,
         "type": "scattergl",
         "x": [
          55.54383087158203,
          -48.32371139526367,
          14.807044982910156,
          30.422243118286133,
          -20.25393295288086,
          -55.34385299682617,
          -61.332542419433594,
          -64.81349182128906,
          46.13343811035156,
          18.957260131835938,
          44.81001663208008,
          -56.94422912597656,
          -37.767215728759766,
          -58.16776657104492,
          -32.02268600463867,
          53.22789001464844,
          49.55574417114258,
          -37.765045166015625,
          41.78947448730469,
          41.92477035522461,
          47.65676498413086,
          56.950645446777344,
          -43.6777229309082,
          36.66252517700195,
          51.9525146484375,
          53.25458526611328,
          31.577922821044922,
          -47.4722900390625,
          40.007564544677734,
          54.74590301513672,
          40.095237731933594,
          -22.02707290649414,
          57.07048797607422,
          -46.81706237792969,
          -23.491411209106445,
          21.302879333496094,
          48.77973556518555,
          57.68061065673828,
          28.80634880065918,
          -21.434999465942383,
          11.351799964904785,
          48.33095932006836,
          58.08970260620117,
          -3.1280925273895264,
          18.42761993408203,
          1.929889440536499,
          45.255516052246094,
          -22.52497100830078,
          51.21742630004883,
          19.300779342651367,
          43.12106704711914,
          24.728342056274414,
          -39.90849685668945,
          -3.0198724269866943,
          16.55845069885254,
          17.88974952697754,
          39.81120300292969,
          30.17827033996582,
          53.90606689453125,
          -9.93292236328125,
          12.96058177947998,
          54.93080139160156,
          -51.05070495605469,
          -52.52233123779297,
          42.6285400390625,
          -29.328493118286133,
          2.029047727584839,
          -19.734384536743164,
          -25.984731674194336,
          2.5635159015655518,
          -20.031381607055664,
          -46.692779541015625,
          52.576332092285156,
          52.51634216308594,
          37.31888961791992,
          2.2005598545074463,
          -53.236934661865234,
          3.6033971309661865,
          39.0145263671875,
          -49.734561920166016,
          -41.81942367553711,
          -35.3702507019043,
          45.71567153930664,
          44.59554672241211,
          -47.082645416259766,
          -39.21760559082031,
          37.7086067199707,
          -37.70417785644531,
          53.045352935791016,
          45.39609146118164,
          36.13874053955078,
          17.509857177734375,
          -1.6365044116973877,
          -9.306730270385742,
          -42.24810791015625,
          1.5729098320007324,
          55.10256576538086,
          -46.264732360839844,
          40.18953323364258,
          44.63630676269531,
          14.938321113586426,
          -12.808978080749512,
          16.765583038330078,
          -21.40134048461914,
          3.441987991333008,
          -60.70109558105469,
          45.85498046875,
          50.39622116088867,
          29.84130096435547,
          -49.76680374145508,
          29.832536697387695,
          33.4338264465332,
          -34.31757354736328,
          1.876870036125183,
          44.70859909057617,
          44.83879089355469,
          55.53249740600586,
          -0.5011047720909119,
          53.491111755371094,
          41.09401321411133,
          -55.389591217041016,
          43.534114837646484,
          -29.28518295288086,
          46.23527526855469,
          -20.545257568359375,
          31.696701049804688,
          42.36431121826172,
          22.599876403808594,
          16.538097381591797,
          -47.83510208129883,
          -41.9632453918457,
          -44.4436149597168,
          47.73371124267578,
          -12.031906127929688,
          46.55935287475586,
          -24.487260818481445,
          40.92225646972656,
          42.71755599975586,
          27.380008697509766,
          52.470733642578125,
          30.19814682006836,
          57.9720573425293,
          -36.07141876220703,
          -25.944353103637695,
          14.604732513427734,
          -0.1139860525727272,
          -27.462940216064453,
          -21.050857543945312,
          50.8806266784668,
          15.766753196716309,
          35.179012298583984,
          43.407501220703125,
          56.79255294799805,
          -46.187400817871094,
          47.22064971923828,
          50.67665100097656,
          -18.551801681518555,
          -64.50830841064453,
          -22.116931915283203,
          5.684082508087158,
          -19.21243667602539,
          34.180511474609375,
          -14.437994956970215,
          53.296539306640625,
          46.352352142333984,
          0.8200315237045288,
          -21.476116180419922,
          53.3050422668457,
          28.660593032836914,
          44.979820251464844,
          49.2354736328125,
          20.15500259399414,
          44.77429962158203,
          49.43592834472656,
          -37.409461975097656,
          54.94350051879883,
          43.20785903930664,
          35.164283752441406,
          51.486751556396484,
          43.859310150146484,
          52.49132537841797,
          47.35618591308594,
          38.81718826293945,
          -28.11525535583496,
          -17.90403938293457,
          41.86516571044922,
          -62.19857406616211,
          42.131805419921875,
          52.875125885009766,
          54.98390197753906,
          46.35006332397461,
          -2.047398805618286,
          -65.98521423339844,
          -31.279340744018555,
          46.40576171875,
          55.89511489868164,
          -38.59486389160156,
          -58.62804412841797,
          -39.65828323364258,
          17.746631622314453,
          56.38444519042969,
          53.506446838378906,
          53.17845153808594,
          -64.18951416015625,
          -45.10494613647461,
          43.14344787597656,
          -52.61167526245117,
          44.978477478027344,
          43.2550048828125,
          33.66578674316406,
          -49.05877685546875,
          24.65578269958496,
          -46.39116668701172,
          -57.71984100341797,
          0.5537098050117493,
          38.61302947998047,
          24.252805709838867,
          51.6234245300293,
          -47.00273895263672,
          43.160396575927734,
          -19.657602310180664,
          2.4478135108947754,
          46.857357025146484,
          -36.700279235839844,
          -41.97370910644531,
          -43.91972732543945,
          56.92634963989258,
          33.37594223022461,
          44.33363342285156,
          -60.75611114501953,
          32.72425842285156,
          50.74409103393555,
          10.110641479492188,
          42.53636932373047,
          43.34258270263672,
          19.122173309326172,
          33.52798843383789,
          -43.596397399902344,
          53.40402603149414,
          24.522945404052734,
          -15.315237045288086,
          36.53829574584961,
          25.43691635131836,
          -40.579097747802734,
          42.04423141479492,
          -60.843772888183594,
          44.66462326049805,
          -38.39152908325195,
          54.216644287109375,
          45.5117301940918,
          -9.82831859588623,
          12.313151359558105,
          -0.8312116265296936,
          -40.41065216064453,
          -33.66836929321289,
          40.0073127746582,
          24.138946533203125,
          -44.63734436035156,
          17.91434097290039,
          -26.890426635742188,
          -3.1836135387420654,
          55.06656265258789,
          19.30968475341797,
          46.921974182128906,
          -10.532523155212402,
          55.87172317504883,
          46.34973907470703,
          -27.033832550048828,
          -53.117454528808594,
          -47.6257209777832,
          30.019533157348633,
          -54.71422576904297,
          29.53091049194336,
          45.200103759765625,
          -48.03412628173828,
          17.8465576171875,
          -51.29978942871094,
          55.5040168762207,
          -24.372982025146484,
          -51.64612579345703,
          -5.846883773803711,
          45.09254455566406,
          57.896324157714844,
          8.5783109664917,
          50.89179992675781,
          -40.99770736694336,
          -42.35913848876953,
          46.188106536865234,
          -37.38480758666992,
          13.912308692932129,
          43.66248321533203,
          6.564302921295166,
          35.86945343017578,
          -43.60209655761719,
          -46.89271926879883,
          52.46107482910156,
          -12.361440658569336,
          41.84331512451172,
          -21.666128158569336,
          46.945133209228516,
          38.97042465209961,
          46.899314880371094,
          58.058074951171875,
          7.216886520385742,
          25.885419845581055,
          57.842796325683594,
          -57.00706481933594,
          -54.46607208251953,
          -27.174623489379883,
          43.566497802734375,
          -66.42289733886719,
          42.87614059448242,
          58.30431365966797,
          -49.43796157836914,
          54.55348205566406,
          50.21351623535156,
          32.459468841552734,
          -24.88686180114746,
          -30.282312393188477,
          49.61376953125,
          47.56306076049805,
          -5.562950611114502,
          -20.48885726928711,
          -14.900911331176758,
          48.757408142089844,
          -37.25051498413086,
          12.048649787902832,
          -3.3632731437683105,
          46.30555725097656,
          -18.290334701538086,
          -40.1395263671875,
          -9.181684494018555,
          47.121604919433594,
          -2.343982696533203,
          41.158138275146484,
          -52.334205627441406,
          -34.91611099243164,
          44.96517562866211,
          30.85264015197754,
          54.49229431152344,
          -16.980207443237305,
          20.025081634521484,
          53.67363357543945,
          26.396108627319336,
          46.926231384277344,
          47.74246597290039,
          -40.0156135559082,
          -0.7278275489807129,
          49.779083251953125,
          10.40789794921875,
          28.221778869628906,
          53.47345733642578,
          36.41679763793945,
          57.516357421875,
          19.433496475219727,
          46.15514373779297,
          -42.06452560424805,
          -19.133522033691406,
          -58.88937759399414,
          -30.434309005737305,
          -51.748897552490234,
          53.95512390136719
         ],
         "xaxis": "x",
         "y": [
          3.744189977645874,
          31.147661209106445,
          25.191213607788086,
          31.178237915039062,
          3.8031322956085205,
          22.329004287719727,
          8.260322570800781,
          16.3665714263916,
          21.50283432006836,
          -4.063238620758057,
          30.224637985229492,
          8.906646728515625,
          -2.02461838722229,
          22.21341896057129,
          8.813163757324219,
          -1.4933784008026123,
          -18.78391456604004,
          32.49692153930664,
          -0.5820387005805969,
          -4.790672302246094,
          9.546427726745605,
          -9.337310791015625,
          19.345386505126953,
          -15.807228088378906,
          3.90289044380188,
          5.407461643218994,
          26.802915573120117,
          17.003389358520508,
          32.57109069824219,
          4.5388617515563965,
          32.31789779663086,
          17.779844284057617,
          5.255341053009033,
          15.11920166015625,
          -2.6399545669555664,
          21.22563934326172,
          29.500141143798828,
          8.599101066589355,
          -8.52685832977295,
          13.765237808227539,
          -23.336589813232422,
          -15.310081481933594,
          7.675417900085449,
          -10.716334342956543,
          -23.93596076965332,
          10.419839859008789,
          26.257081985473633,
          10.66861629486084,
          6.75367546081543,
          18.17660903930664,
          32.01018142700195,
          12.043328285217285,
          4.123239517211914,
          5.922618389129639,
          -1.1057777404785156,
          -12.654866218566895,
          33.709232330322266,
          -8.955501556396484,
          8.712060928344727,
          16.612424850463867,
          -26.24139404296875,
          5.228334903717041,
          4.243927478790283,
          18.97456169128418,
          -19.25887107849121,
          -4.597250938415527,
          1.6394881010055542,
          14.24032974243164,
          15.35142707824707,
          -19.85635757446289,
          -15.16031551361084,
          19.3975830078125,
          -9.070266723632812,
          11.044154167175293,
          27.465015411376953,
          9.164555549621582,
          22.533344268798828,
          -5.391568183898926,
          33.39604187011719,
          16.969812393188477,
          19.3472900390625,
          25.887859344482422,
          -15.817269325256348,
          11.226850509643555,
          28.893936157226562,
          27.069137573242188,
          26.986207962036133,
          26.039304733276367,
          -1.2464970350265503,
          -4.793736934661865,
          -8.498578071594238,
          -24.497514724731445,
          3.0295283794403076,
          2.8340349197387695,
          16.385263442993164,
          22.968923568725586,
          1.6927282810211182,
          1.3781538009643555,
          32.19780731201172,
          -16.5515193939209,
          -42.33232498168945,
          -18.48780632019043,
          -0.8861570954322815,
          -9.054327011108398,
          14.669190406799316,
          13.225828170776367,
          -21.600805282592773,
          -8.839125633239746,
          37.5247802734375,
          14.034049034118652,
          -18.568641662597656,
          30.85721206665039,
          26.65631866455078,
          13.854026794433594,
          33.007286071777344,
          -20.824386596679688,
          4.974273681640625,
          24.203832626342773,
          7.288098335266113,
          22.9857177734375,
          2.661872625350952,
          -6.548232555389404,
          6.784216403961182,
          23.639406204223633,
          -6.137484550476074,
          -15.12765121459961,
          -2.794069290161133,
          5.546409606933594,
          16.114856719970703,
          30.264883041381836,
          18.186798095703125,
          18.807592391967773,
          -14.47663402557373,
          17.979400634765625,
          21.478797912597656,
          17.69713020324707,
          13.381317138671875,
          -14.361971855163574,
          11.011258125305176,
          -2.0123956203460693,
          37.41725540161133,
          7.902034282684326,
          14.05836009979248,
          15.541881561279297,
          30.185821533203125,
          -3.0460941791534424,
          11.823176383972168,
          -6.595956802368164,
          -2.383673906326294,
          2.6097495555877686,
          -25.6405086517334,
          -20.007030487060547,
          4.015623092651367,
          17.109325408935547,
          9.017417907714844,
          8.357477188110352,
          18.286806106567383,
          17.081371307373047,
          -18.653362274169922,
          -34.29077911376953,
          19.976245880126953,
          25.118106842041016,
          -5.376009941101074,
          6.67206335067749,
          -17.705881118774414,
          -10.945590019226074,
          -9.451322555541992,
          8.328001022338867,
          37.73887634277344,
          -20.632158279418945,
          25.64525032043457,
          -38.447601318359375,
          -8.62426471710205,
          -1.5327879190444946,
          16.780651092529297,
          9.422877311706543,
          -14.957413673400879,
          -25.694311141967773,
          3.472951889038086,
          33.06150436401367,
          4.255924224853516,
          -7.554549217224121,
          22.61760711669922,
          12.674216270446777,
          -20.048315048217773,
          -20.850858688354492,
          18.642940521240234,
          27.82187271118164,
          -6.900376319885254,
          6.48901891708374,
          -21.249082565307617,
          5.776444435119629,
          18.00165367126465,
          27.99677276611328,
          -17.765512466430664,
          5.380465507507324,
          21.669645309448242,
          3.9028165340423584,
          13.889305114746094,
          20.814733505249023,
          -5.702047824859619,
          7.036581039428711,
          -5.337610244750977,
          17.84699821472168,
          14.533890724182129,
          10.830863952636719,
          21.29683494567871,
          5.477025985717773,
          30.57756996154785,
          14.552268028259277,
          1.8075865507125854,
          18.38237190246582,
          20.055208206176758,
          19.557512283325195,
          14.92757511138916,
          24.56987190246582,
          19.706924438476562,
          5.287710666656494,
          -0.21156840026378632,
          -18.672998428344727,
          13.941557884216309,
          13.923064231872559,
          3.3123714923858643,
          12.265165328979492,
          -0.21602703630924225,
          29.944242477416992,
          4.130176067352295,
          -13.4398775100708,
          33.52567672729492,
          19.64067268371582,
          -22.512964248657227,
          9.543472290039062,
          4.354445934295654,
          32.170833587646484,
          -17.74256134033203,
          -3.2768301963806152,
          -13.686539649963379,
          34.19708251953125,
          3.922980785369873,
          0.9702222943305969,
          24.12255859375,
          -13.305376052856445,
          -21.352197647094727,
          0.9809461832046509,
          -17.4213924407959,
          17.475688934326172,
          -16.643762588500977,
          3.8251960277557373,
          15.07437801361084,
          -15.20130443572998,
          8.111052513122559,
          31.022478103637695,
          10.920320510864258,
          20.216102600097656,
          30.086383819580078,
          -22.12225341796875,
          28.101943969726562,
          16.628162384033203,
          -4.979896068572998,
          17.22913932800293,
          -10.309881210327148,
          5.647850036621094,
          -14.305414199829102,
          -20.213281631469727,
          8.363698959350586,
          0.2937637269496918,
          32.66652297973633,
          13.054152488708496,
          9.836410522460938,
          24.26275062561035,
          29.575403213500977,
          27.26824378967285,
          -9.411948204040527,
          -18.377471923828125,
          14.65009593963623,
          15.36363697052002,
          3.3247315883636475,
          3.9628689289093018,
          13.175888061523438,
          16.97954559326172,
          15.89822769165039,
          -18.415895462036133,
          6.733643531799316,
          -6.690450668334961,
          27.015586853027344,
          30.649185180664062,
          4.888426303863525,
          -14.902946472167969,
          8.899187088012695,
          16.1062068939209,
          -14.810312271118164,
          15.363137245178223,
          35.32429885864258,
          13.947070121765137,
          0.6499693989753723,
          11.13949203491211,
          13.168444633483887,
          -2.5329806804656982,
          -7.993978977203369,
          1.3213307857513428,
          23.44144058227539,
          -20.37030792236328,
          8.975600242614746,
          16.494792938232422,
          -18.151351928710938,
          -5.490749835968018,
          20.224496841430664,
          19.959989547729492,
          -25.139381408691406,
          11.444857597351074,
          17.09351348876953,
          -16.285282135009766,
          -1.5890381336212158,
          32.2420768737793,
          5.074833869934082,
          7.610174179077148,
          -21.91956901550293,
          12.223726272583008,
          9.356956481933594,
          -5.011824607849121,
          24.957965850830078,
          -3.4502358436584473,
          14.54915714263916,
          21.36025619506836,
          7.0514936447143555,
          29.269542694091797,
          -23.79197120666504,
          -11.412261009216309,
          24.450395584106445,
          -18.586483001708984,
          9.465950012207031,
          -5.839360237121582,
          30.401193618774414,
          -12.186321258544922,
          -4.625951766967773,
          25.801830291748047,
          11.080958366394043,
          25.135465621948242,
          31.6887264251709,
          -0.20905479788780212,
          17.435579299926758,
          21.148828506469727,
          -10.43438720703125,
          -23.048513412475586,
          -5.93431282043457,
          8.69855785369873,
          -0.4577248990535736,
          15.560029029846191,
          4.36998987197876,
          25.974958419799805,
          -6.071908950805664,
          8.412965774536133,
          -17.132017135620117,
          5.345012187957764,
          0.22218723595142365,
          4.572234153747559,
          33.37334060668945,
          7.434168815612793,
          9.934192657470703,
          4.894395351409912,
          28.46603012084961,
          3.9916226863861084
         ],
         "yaxis": "y"
        },
        {
         "hovertemplate": "language=Haryanvi<br>tsne1=%{x}<br>tsne2=%{y}<extra></extra>",
         "legendgroup": "Haryanvi",
         "marker": {
          "color": "#ab63fa",
          "symbol": "circle"
         },
         "mode": "markers",
         "name": "Haryanvi",
         "showlegend": true,
         "type": "scattergl",
         "x": [
          22.43878936767578,
          49.688232421875,
          36.407833099365234,
          -43.738128662109375,
          43.55097579956055,
          -43.595035552978516,
          -57.04371643066406,
          54.3507080078125,
          -37.02878952026367,
          -21.393260955810547,
          -9.84534740447998,
          -44.17783737182617,
          -13.422423362731934,
          22.44974708557129,
          56.91683578491211,
          42.128379821777344,
          39.41119384765625,
          35.386009216308594,
          -38.72929000854492,
          22.695573806762695,
          45.87713623046875,
          32.978694915771484,
          18.999143600463867,
          -39.44300079345703,
          43.962242126464844,
          58.03679275512695,
          27.357891082763672,
          -51.966514587402344,
          -66.5823745727539,
          -47.30093002319336,
          -2.3670363426208496,
          32.63239288330078,
          44.00701141357422,
          28.40261459350586,
          -44.552364349365234,
          12.72487735748291,
          45.9745979309082,
          37.76701736450195,
          15.95466423034668,
          3.8159422874450684,
          32.45451354980469,
          14.512669563293457,
          16.06007194519043,
          -55.26900100708008,
          43.403472900390625,
          -61.122283935546875,
          -7.56210470199585,
          -6.182400226593018,
          37.63885498046875,
          35.87362289428711,
          41.468406677246094,
          29.94328498840332,
          30.64404296875,
          21.077177047729492,
          50.1580696105957,
          -12.86020278930664,
          37.52454376220703,
          37.44032669067383,
          -45.03211212158203,
          30.115936279296875,
          -13.140432357788086,
          4.503854751586914,
          28.765798568725586,
          41.35664367675781,
          23.748445510864258,
          10.57504653930664,
          28.393709182739258,
          -33.888797760009766,
          46.640560150146484,
          45.393367767333984,
          12.249465942382812,
          -41.62050247192383,
          -20.62655258178711,
          -32.70606994628906,
          -31.474084854125977,
          36.13512420654297,
          -8.928827285766602,
          41.94147872924805,
          -13.630090713500977,
          -1.6162000894546509,
          57.06513977050781,
          23.128305435180664,
          -8.267525672912598,
          -60.529205322265625,
          -39.829437255859375,
          22.676958084106445,
          21.6278018951416,
          28.306550979614258,
          -4.938387870788574,
          40.6414680480957,
          49.72508239746094,
          58.974029541015625,
          -29.943565368652344,
          -15.506078720092773,
          -53.5002555847168,
          29.048322677612305,
          23.251855850219727,
          19.563310623168945,
          0.10442455112934113,
          -12.06783390045166,
          -60.565616607666016,
          28.532054901123047,
          -45.235782623291016,
          43.442535400390625,
          53.509117126464844,
          57.51625061035156,
          -19.497190475463867,
          -9.213959693908691,
          -56.49101638793945,
          55.84316635131836,
          31.689434051513672,
          14.652359008789062,
          9.10088062286377,
          -17.981773376464844,
          35.57611083984375,
          24.286712646484375,
          38.8561897277832,
          39.34946060180664,
          -11.853432655334473,
          22.93960952758789,
          18.599605560302734,
          38.77822494506836,
          44.95197296142578,
          1.5901890993118286,
          1.697859525680542,
          -17.704086303710938,
          9.150904655456543,
          16.822757720947266,
          53.189476013183594,
          6.03564453125,
          34.14533996582031,
          36.91801834106445,
          -0.48615050315856934,
          28.774105072021484,
          1.6130512952804565,
          -59.92536163330078,
          50.123382568359375,
          13.05758285522461,
          -49.16183853149414,
          36.83464813232422,
          23.5985050201416,
          26.591514587402344,
          27.59388542175293,
          10.11434268951416,
          -20.947683334350586,
          47.22543716430664,
          -44.65413284301758,
          58.28022003173828,
          38.43703842163086,
          55.9140739440918,
          0.15853939950466156,
          54.94805145263672,
          -36.75904083251953,
          -39.47789764404297,
          43.57960891723633,
          38.01781463623047,
          -39.93429183959961,
          -29.300827026367188,
          9.92566967010498,
          -29.69761848449707,
          43.75947570800781,
          31.726459503173828,
          1.1361809968948364,
          -25.019744873046875,
          44.79528045654297,
          38.885780334472656,
          56.461952209472656,
          40.676780700683594,
          -43.21928787231445,
          30.30116081237793,
          16.233369827270508,
          -57.28982162475586,
          21.03955841064453,
          37.80720520019531,
          -9.109928131103516,
          -29.48821449279785,
          12.809188842773438,
          50.45048522949219,
          -40.44217300415039,
          26.715015411376953,
          29.576047897338867,
          -0.20462027192115784,
          38.425174713134766,
          17.345333099365234,
          -55.88473129272461,
          40.55231857299805,
          25.170074462890625,
          44.912452697753906,
          25.04401969909668,
          -32.692867279052734,
          24.34040069580078,
          -34.29063034057617,
          33.536380767822266,
          -33.055641174316406,
          50.82051467895508,
          -31.907672882080078,
          17.6767578125,
          43.0899543762207,
          24.2889461517334,
          14.569501876831055,
          41.53949737548828,
          24.66231346130371,
          -3.603119134902954,
          -46.81756591796875,
          43.155765533447266,
          20.97141456604004,
          42.19168472290039,
          -37.65952682495117,
          -66.44662475585938,
          -25.85598373413086,
          9.010493278503418,
          22.451608657836914,
          36.08207702636719,
          15.970545768737793,
          -42.02235412597656,
          25.551488876342773,
          -20.000083923339844,
          43.02146911621094,
          -28.022762298583984,
          -1.1532635688781738,
          41.21678161621094,
          26.76354217529297,
          -9.661723136901855,
          -7.9660749435424805,
          21.83835792541504,
          49.81258010864258,
          4.212768077850342,
          27.162153244018555,
          -14.737272262573242,
          -28.48642349243164,
          -14.989399909973145,
          55.122833251953125,
          -38.114112854003906,
          47.2800178527832,
          -31.360807418823242,
          19.086071014404297,
          -43.78098678588867,
          11.465019226074219,
          2.5482120513916016,
          30.308055877685547,
          17.916074752807617,
          -50.532684326171875,
          23.415035247802734,
          1.521628499031067,
          -5.714862823486328,
          40.270809173583984,
          -34.8280029296875,
          23.567211151123047,
          54.38616180419922,
          54.83198928833008,
          -24.679351806640625,
          11.849369049072266,
          -22.705209732055664,
          27.84071922302246,
          -57.10316467285156,
          44.051639556884766,
          31.113401412963867,
          41.80699920654297,
          7.677131175994873,
          -62.46742248535156,
          20.858341217041016,
          6.003416538238525,
          45.57240676879883,
          36.40318298339844,
          48.10784149169922,
          -13.871415138244629,
          25.685379028320312,
          37.82477951049805,
          42.05231857299805,
          43.74680709838867,
          22.493186950683594,
          -25.614669799804688,
          0.14318333566188812,
          11.764098167419434,
          22.905927658081055,
          10.481083869934082,
          19.5932559967041,
          56.4566535949707,
          35.37873458862305,
          -64.03101348876953,
          9.974543571472168,
          25.795759201049805,
          43.50984573364258,
          34.97887420654297,
          46.40934753417969,
          -52.85911178588867,
          46.47500228881836,
          -50.883766174316406,
          -13.83101749420166,
          43.404666900634766,
          4.380800724029541,
          -3.274867296218872,
          37.864864349365234,
          58.65176773071289,
          -59.58440399169922,
          29.882816314697266,
          51.93669128417969,
          38.345123291015625,
          28.87245750427246,
          37.03784942626953,
          -45.41468811035156,
          10.924474716186523,
          30.49431610107422,
          -65.93042755126953,
          17.23491859436035,
          -5.7897186279296875,
          51.91205596923828,
          31.869426727294922,
          56.541133880615234,
          52.583980560302734,
          -1.160637617111206,
          -38.711265563964844,
          43.73194885253906,
          -17.635595321655273,
          38.70064163208008,
          29.172218322753906,
          -32.754268646240234,
          28.870100021362305,
          21.71748924255371,
          -13.73742389678955,
          53.60482406616211,
          39.765342712402344,
          -46.609500885009766,
          48.08412551879883,
          29.03989601135254,
          24.857494354248047,
          11.534289360046387,
          44.356746673583984,
          56.00577163696289,
          22.870027542114258,
          28.6842098236084,
          35.908721923828125,
          26.909326553344727,
          17.315025329589844,
          -41.72246551513672,
          -56.89109420776367,
          37.48491287231445,
          -46.06230926513672,
          52.975101470947266,
          19.390220642089844,
          46.93463134765625,
          31.237628936767578,
          44.64973831176758,
          38.28131866455078,
          17.231271743774414,
          15.38595962524414,
          16.447349548339844,
          8.519425392150879,
          42.399085998535156,
          7.472412109375,
          -52.09139633178711,
          45.28654098510742,
          28.644691467285156,
          -21.21988868713379,
          37.50922775268555,
          28.626480102539062,
          13.947371482849121,
          -18.05413818359375,
          -43.16606521606445,
          -14.73937702178955,
          10.579330444335938,
          42.027339935302734,
          25.444570541381836,
          -4.890862941741943,
          37.74104690551758,
          37.740135192871094
         ],
         "xaxis": "x",
         "y": [
          3.391181468963623,
          -5.860601425170898,
          12.588418960571289,
          11.372962951660156,
          16.87965202331543,
          15.02970027923584,
          26.066070556640625,
          2.528322696685791,
          31.879209518432617,
          13.664335250854492,
          -22.141254425048828,
          10.648763656616211,
          17.64163589477539,
          -6.1324005126953125,
          0.3043811619281769,
          3.009622097015381,
          3.3871009349823,
          -15.699849128723145,
          0.5756031274795532,
          -12.651324272155762,
          -11.200408935546875,
          -11.22475528717041,
          13.57070255279541,
          17.368600845336914,
          21.433868408203125,
          1.067756175994873,
          -4.671970844268799,
          29.274782180786133,
          16.188289642333984,
          29.758237838745117,
          -5.8628249168396,
          -3.3983206748962402,
          0.855427086353302,
          -3.2852370738983154,
          10.822951316833496,
          -10.398234367370605,
          -3.1987457275390625,
          1.7918486595153809,
          -24.41916847229004,
          0.6317006349563599,
          -3.620148181915283,
          18.860374450683594,
          1.241325855255127,
          8.973584175109863,
          5.819648742675781,
          1.597187876701355,
          7.509647846221924,
          -12.933493614196777,
          4.694194793701172,
          -10.797767639160156,
          -8.094160079956055,
          -16.83855438232422,
          -5.843611240386963,
          -11.31974983215332,
          -5.985375881195068,
          -11.472489356994629,
          17.261653900146484,
          -6.639420986175537,
          28.849538803100586,
          13.915044784545898,
          11.797372817993164,
          -8.257079124450684,
          -6.5359086990356445,
          7.912952423095703,
          -8.54919147491455,
          4.6095290184021,
          38.033851623535156,
          26.810443878173828,
          -12.126769065856934,
          30.93916893005371,
          -1.5731695890426636,
          5.761112213134766,
          12.090171813964844,
          30.989276885986328,
          29.082101821899414,
          -10.842192649841309,
          -4.611542701721191,
          3.134104013442993,
          7.390155792236328,
          5.360517501831055,
          0.5079497694969177,
          -2.8670287132263184,
          4.968174457550049,
          2.073779582977295,
          12.15594482421875,
          -3.694242477416992,
          7.650389671325684,
          -0.6046724319458008,
          -11.222325325012207,
          4.98436164855957,
          -11.117359161376953,
          -0.38350552320480347,
          -24.273483276367188,
          11.884900093078613,
          20.989809036254883,
          -6.02163028717041,
          -12.84014892578125,
          -13.772499084472656,
          -22.610689163208008,
          9.654253005981445,
          13.1130952835083,
          -7.8845906257629395,
          11.140451431274414,
          -12.116476058959961,
          1.6550633907318115,
          2.2146389484405518,
          -1.2289618253707886,
          -20.02948570251465,
          17.87856101989746,
          0.14299166202545166,
          -27.68720054626465,
          -19.677732467651367,
          -37.46683883666992,
          8.75924301147461,
          3.1119883060455322,
          -17.057619094848633,
          0.5288408398628235,
          -4.802702903747559,
          9.662174224853516,
          -3.6710124015808105,
          -17.05829620361328,
          34.35236740112305,
          3.660329818725586,
          -3.6428184509277344,
          -1.4466389417648315,
          15.29970645904541,
          -3.901796579360962,
          -44.49769973754883,
          1.8796509504318237,
          11.357887268066406,
          -10.679917335510254,
          5.24605655670166,
          -9.04137897491455,
          15.271211624145508,
          -23.796443939208984,
          21.6494083404541,
          15.18368911743164,
          -7.992128849029541,
          23.524755477905273,
          5.739672660827637,
          -5.562264442443848,
          7.504369735717773,
          3.767181158065796,
          -2.963334560394287,
          11.875049591064453,
          32.058616638183594,
          31.606887817382812,
          -0.8807709813117981,
          5.600010395050049,
          -5.785783767700195,
          12.706281661987305,
          -13.317139625549316,
          8.833514213562012,
          7.591363906860352,
          17.478330612182617,
          31.85115623474121,
          15.257545471191406,
          -28.796920776367188,
          -29.878475189208984,
          19.079078674316406,
          19.985111236572266,
          -2.742694854736328,
          -13.729923248291016,
          -10.312520980834961,
          -11.366927146911621,
          -7.217051029205322,
          6.907866477966309,
          -4.442653656005859,
          23.223276138305664,
          -22.45854949951172,
          9.491819381713867,
          1.3117636442184448,
          3.172955274581909,
          16.89531898498535,
          -20.10045051574707,
          -14.663766860961914,
          -10.3323392868042,
          -5.92149543762207,
          18.243452072143555,
          -15.721912384033203,
          -17.40374755859375,
          -22.312597274780273,
          -4.3467488288879395,
          7.062578201293945,
          23.506866455078125,
          1.4857407808303833,
          -8.810178756713867,
          -4.292674541473389,
          -19.334150314331055,
          9.15257453918457,
          17.606800079345703,
          24.944141387939453,
          4.918029308319092,
          7.327322483062744,
          0.6981238126754761,
          6.1927056312561035,
          -24.44501304626465,
          12.466093063354492,
          10.307032585144043,
          -20.20526695251465,
          35.52421569824219,
          8.567460060119629,
          -1.1008968353271484,
          1.3611345291137695,
          16.131093978881836,
          7.8448004722595215,
          -8.895098686218262,
          32.7802734375,
          16.19274139404297,
          -29.055631637573242,
          -23.93313980102539,
          -19.64752197265625,
          -17.258224487304688,
          -25.292686462402344,
          15.572250366210938,
          5.399557590484619,
          17.840057373046875,
          26.253868103027344,
          13.280789375305176,
          13.717080116271973,
          -3.539607048034668,
          -7.01188850402832,
          -16.246158599853516,
          11.664329528808594,
          -29.345640182495117,
          8.5006742477417,
          -3.0850939750671387,
          5.3903727531433105,
          -10.718999862670898,
          20.969329833984375,
          21.37679672241211,
          -1.662034273147583,
          25.425983428955078,
          -15.030169486999512,
          8.177999496459961,
          -11.322803497314453,
          25.02683448791504,
          -21.988679885864258,
          9.323939323425293,
          -22.428556442260742,
          -9.568233489990234,
          1.5630475282669067,
          -19.900056838989258,
          16.077945709228516,
          6.237637996673584,
          1.7495431900024414,
          -21.680734634399414,
          9.497465133666992,
          -3.044973373413086,
          9.640949249267578,
          11.481817245483398,
          -27.931081771850586,
          -17.063888549804688,
          17.06069564819336,
          17.941757202148438,
          -12.27073860168457,
          5.832738399505615,
          -3.6872775554656982,
          -30.859140396118164,
          18.40131378173828,
          -26.504867553710938,
          -1.6002367734909058,
          7.018796443939209,
          -0.5221512913703918,
          30.228961944580078,
          24.85181999206543,
          -4.883331298828125,
          -12.335348129272461,
          -1.501539945602417,
          8.093131065368652,
          -12.494112014770508,
          5.467480659484863,
          5.19205379486084,
          -0.4773389995098114,
          -0.5137133598327637,
          17.493871688842773,
          -4.139442443847656,
          6.61652135848999,
          -6.177402496337891,
          17.01151466369629,
          -2.711555004119873,
          5.576959133148193,
          3.097425937652588,
          13.731581687927246,
          31.63141441345215,
          13.747065544128418,
          -13.76318073272705,
          15.136460304260254,
          -6.895432949066162,
          27.053504943847656,
          17.261873245239258,
          -11.738056182861328,
          -12.42965030670166,
          -0.6377314329147339,
          12.026540756225586,
          -20.743066787719727,
          -12.189674377441406,
          -4.469816207885742,
          -14.625028610229492,
          5.063715934753418,
          0.6846357583999634,
          -7.718881130218506,
          1.0514194965362549,
          17.470422744750977,
          -2.9734556674957275,
          -12.565991401672363,
          -8.714401245117188,
          -21.139570236206055,
          10.603158950805664,
          -10.327552795410156,
          13.651239395141602,
          15.452363967895508,
          -3.504817247390747,
          -12.744359970092773,
          2.2145543098449707,
          -4.481707572937012,
          9.622834205627441,
          31.66171646118164,
          -8.960094451904297,
          -15.292377471923828,
          -5.040833473205566,
          -1.1385763883590698,
          9.781562805175781,
          -6.848997592926025,
          -2.3740248680114746,
          8.424495697021484,
          -6.817456245422363,
          -11.710256576538086,
          -0.7861780524253845,
          13.626655578613281,
          9.827471733093262,
          -6.106085777282715,
          3.261540412902832,
          15.430116653442383,
          32.155120849609375,
          9.389598846435547,
          6.653371810913086,
          32.2086181640625,
          -2.7594850063323975,
          19.489715576171875,
          30.01195526123047,
          15.152810096740723,
          -3.9919302463531494,
          -6.8910813331604,
          14.015016555786133,
          -4.420868873596191,
          -23.51715850830078,
          -27.649024963378906,
          17.684730529785156,
          7.754807472229004,
          12.614540100097656,
          4.0729169845581055,
          8.861519813537598,
          8.350406646728516,
          4.4201154708862305,
          -3.267116069793701,
          -3.1570181846618652,
          -6.65624475479126,
          -0.7430799007415771,
          -28.198810577392578,
          -24.952476501464844,
          9.418876647949219,
          -19.183002471923828,
          -6.734111309051514,
          2.4675660133361816,
          -3.1530704498291016
         ],
         "yaxis": "y"
        },
        {
         "hovertemplate": "language=Hindi<br>tsne1=%{x}<br>tsne2=%{y}<extra></extra>",
         "legendgroup": "Hindi",
         "marker": {
          "color": "#FFA15A",
          "symbol": "circle"
         },
         "mode": "markers",
         "name": "Hindi",
         "showlegend": true,
         "type": "scattergl",
         "x": [
          11.747709274291992,
          -10.507925033569336,
          -34.0992546081543,
          11.636034965515137,
          40.518028259277344,
          17.468406677246094,
          9.185049057006836,
          -63.35517501831055,
          4.448061466217041,
          -31.25282859802246,
          19.384693145751953,
          31.352352142333984,
          13.275554656982422,
          0.8854257464408875,
          22.564472198486328,
          -9.800180435180664,
          20.663480758666992,
          5.6550397872924805,
          21.504684448242188,
          33.861595153808594,
          -42.282073974609375,
          11.997693061828613,
          30.740455627441406,
          4.501760005950928,
          1.11126708984375,
          21.205352783203125,
          12.492990493774414,
          -48.92456817626953,
          -5.349728107452393,
          8.609567642211914,
          -10.598933219909668,
          11.144746780395508,
          28.733266830444336,
          19.010984420776367,
          19.116636276245117,
          -23.68062973022461,
          -20.001890182495117,
          6.221282005310059,
          27.64228630065918,
          20.561941146850586,
          5.0364861488342285,
          16.47874641418457,
          20.278894424438477,
          27.536582946777344,
          24.03999137878418,
          -5.110136985778809,
          28.134193420410156,
          -0.4550328254699707,
          11.112533569335938,
          -8.129900932312012,
          -10.24499797821045,
          27.90043830871582,
          8.12539291381836,
          45.47313690185547,
          22.70830726623535,
          -0.799652636051178,
          -1.6915189027786255,
          13.441478729248047,
          17.930978775024414,
          21.530746459960938,
          28.792667388916016,
          17.870586395263672,
          27.838855743408203,
          -25.965816497802734,
          -35.256587982177734,
          15.110136032104492,
          13.227276802062988,
          -65.2200927734375,
          16.9488582611084,
          9.178322792053223,
          13.899921417236328,
          16.123716354370117,
          -43.850860595703125,
          7.880839824676514,
          5.712320327758789,
          6.928906440734863,
          -60.040733337402344,
          10.903175354003906,
          22.17806053161621,
          13.004304885864258,
          14.328533172607422,
          -59.100074768066406,
          -34.51301956176758,
          -14.484734535217285,
          4.345128059387207,
          38.26223373413086,
          25.157241821289062,
          5.402648448944092,
          3.050431251525879,
          -47.237545013427734,
          13.099160194396973,
          -54.73480224609375,
          -9.993978500366211,
          23.05379295349121,
          14.131288528442383,
          20.562654495239258,
          -0.6575918197631836,
          -10.229381561279297,
          4.715333938598633,
          -11.726703643798828,
          -36.56768798828125,
          39.49610137939453,
          8.292705535888672,
          31.283958435058594,
          32.7882080078125,
          -0.506680428981781,
          3.3493294715881348,
          14.8546724319458,
          -1.0889052152633667,
          45.26111602783203,
          -53.792266845703125,
          4.784145355224609,
          8.1465482711792,
          45.382408142089844,
          -41.18230056762695,
          -12.606492042541504,
          -4.393340110778809,
          -14.060386657714844,
          26.303455352783203,
          -5.7494072914123535,
          15.736505508422852,
          24.40791893005371,
          15.668063163757324,
          7.690554141998291,
          41.66453552246094,
          -39.901397705078125,
          -39.99946594238281,
          -14.665955543518066,
          17.854049682617188,
          -2.912893772125244,
          -36.448665618896484,
          9.430033683776855,
          17.14337921142578,
          -11.790464401245117,
          16.443248748779297,
          21.546653747558594,
          -1.7884591817855835,
          -39.02519226074219,
          19.50734519958496,
          2.0797863006591797,
          -46.2717399597168,
          9.610774040222168,
          -4.7617082595825195,
          16.66436004638672,
          -0.5246137380599976,
          24.46880340576172,
          -10.875140190124512,
          -23.458938598632812,
          7.496882915496826,
          -32.55115509033203,
          -45.743804931640625,
          47.11771774291992,
          -2.1447603702545166,
          4.925687313079834,
          25.050003051757812,
          -3.6193385124206543,
          38.92629623413086,
          -47.95990753173828,
          17.027132034301758,
          23.25446128845215,
          23.833919525146484,
          -47.815433502197266,
          43.75914001464844,
          20.051124572753906,
          17.75664520263672,
          30.080904006958008,
          -66.75511932373047,
          -25.278226852416992,
          17.623863220214844,
          -15.141283988952637,
          32.33225631713867,
          26.18817901611328,
          23.784774780273438,
          -13.539944648742676,
          18.46969223022461,
          28.70818328857422,
          4.661380767822266,
          -31.45182991027832,
          -16.069791793823242,
          5.0652289390563965,
          7.910669803619385,
          21.66251564025879,
          -14.041640281677246,
          13.697467803955078,
          19.525196075439453,
          -45.40201950073242,
          15.978407859802246,
          16.21887969970703,
          -30.059009552001953,
          23.53490447998047,
          10.40880298614502,
          12.983009338378906,
          -48.284141540527344,
          26.539165496826172,
          -2.1902754306793213,
          -30.406057357788086,
          -3.773723602294922,
          -59.533199310302734,
          37.726131439208984,
          -21.8812198638916,
          43.03879165649414,
          6.821808815002441,
          -2.09706449508667,
          9.784804344177246,
          -15.12922191619873,
          -3.0199217796325684,
          12.670048713684082,
          14.38540267944336,
          -40.434364318847656,
          -48.40900802612305,
          1.0756462812423706,
          10.682830810546875,
          2.9288806915283203,
          -37.628665924072266,
          -2.7063522338867188,
          4.064004898071289,
          4.090928554534912,
          12.32470417022705,
          0.3248523473739624,
          13.52379035949707,
          2.0267255306243896,
          52.148616790771484,
          -4.291445255279541,
          -61.38264846801758,
          49.343780517578125,
          44.262115478515625,
          1.5420860052108765,
          -57.891666412353516,
          3.8004369735717773,
          -5.340846061706543,
          44.287261962890625,
          -9.824833869934082,
          -4.162385940551758,
          18.691743850708008,
          24.13217544555664,
          16.683372497558594,
          1.6157275438308716,
          -24.09145164489746,
          -20.482158660888672,
          -56.756744384765625,
          13.713845252990723,
          -35.881675720214844,
          3.2065560817718506,
          -4.438638687133789,
          29.139646530151367,
          -5.996606826782227,
          7.778175354003906,
          22.926401138305664,
          21.820615768432617,
          2.324357271194458,
          12.03495979309082,
          45.12468338012695,
          19.190462112426758,
          34.66371536254883,
          -16.202611923217773,
          6.91571044921875,
          8.856274604797363,
          -17.460613250732422,
          -14.863770484924316,
          -18.479293823242188,
          42.77043533325195,
          40.82270812988281,
          -3.4526171684265137,
          -29.950376510620117,
          9.96900463104248,
          36.05329132080078,
          -25.997352600097656,
          -17.094430923461914,
          -7.257639408111572,
          10.089866638183594,
          13.750907897949219,
          -3.078981876373291,
          19.603797912597656,
          26.942697525024414,
          39.84122085571289,
          0.248298779129982,
          -44.41254425048828,
          -1.525173544883728,
          24.62211036682129,
          24.351337432861328,
          -2.389457941055298,
          9.338003158569336,
          -42.251522064208984,
          25.071365356445312,
          0.0892031192779541,
          14.47580623626709,
          1.8548182249069214,
          -59.752159118652344,
          -45.541988372802734,
          -60.299129486083984,
          4.302309513092041,
          -50.73007583618164,
          -42.97043991088867,
          20.05819320678711,
          0.33489856123924255,
          1.490728497505188,
          14.747162818908691,
          -62.532386779785156,
          3.910398006439209,
          20.861520767211914,
          25.371047973632812,
          7.071575164794922,
          -24.246967315673828,
          9.916304588317871,
          14.98083209991455,
          42.5401611328125,
          14.06657886505127,
          -3.932708740234375,
          -15.45123291015625,
          19.003267288208008,
          -18.97536849975586,
          21.146869659423828,
          14.586956977844238,
          17.388917922973633,
          -0.3400003910064697,
          3.4603524208068848,
          -47.03446960449219,
          -27.33999252319336,
          25.116003036499023,
          28.327714920043945,
          3.881006956100464,
          -10.432987213134766,
          14.989248275756836,
          34.92683029174805,
          -21.274267196655273,
          -10.101792335510254,
          2.61592435836792,
          -3.525089979171753,
          -16.550275802612305,
          2.5546059608459473,
          17.896236419677734,
          41.913997650146484,
          27.10424041748047,
          -25.57841682434082,
          36.91242599487305,
          -4.090364933013916,
          9.409993171691895,
          41.388919830322266,
          25.896574020385742,
          -1.2476907968521118,
          -6.2966742515563965,
          11.203169822692871,
          20.572158813476562,
          24.436494827270508,
          9.584599494934082,
          14.319110870361328,
          20.530033111572266,
          -35.118892669677734,
          -0.3426467776298523,
          -40.705955505371094,
          31.79891014099121,
          20.155899047851562,
          2.7055282592773438,
          13.02660846710205,
          0.7924895286560059,
          21.868501663208008,
          29.86682891845703,
          2.476041078567505,
          10.75102710723877,
          -2.2284393310546875,
          -1.851189374923706,
          -39.01090621948242,
          -6.0429534912109375,
          21.56181526184082,
          6.606664657592773,
          -21.2236270904541,
          12.764012336730957,
          14.233936309814453,
          -40.032081604003906
         ],
         "xaxis": "x",
         "y": [
          -0.9494892358779907,
          -8.09462833404541,
          15.501289367675781,
          -7.061343193054199,
          27.628068923950195,
          -5.8057780265808105,
          0.702154815196991,
          17.09657096862793,
          4.540618896484375,
          26.485187530517578,
          -0.16888003051280975,
          -14.919462203979492,
          -12.5015869140625,
          -7.485554218292236,
          -10.4984130859375,
          -2.9451589584350586,
          -17.18610954284668,
          -3.2497525215148926,
          8.713415145874023,
          5.048971652984619,
          33.523048400878906,
          -3.0137479305267334,
          -0.7960717678070068,
          3.0243167877197266,
          -13.785764694213867,
          9.40638542175293,
          1.1252765655517578,
          22.581283569335938,
          -27.9992733001709,
          13.723437309265137,
          1.2418793439865112,
          12.477936744689941,
          8.736675262451172,
          6.446245193481445,
          8.98608112335205,
          8.103742599487305,
          -9.000164985656738,
          -8.390435218811035,
          0.8219841122627258,
          -16.59359359741211,
          5.7092061042785645,
          -12.8278169631958,
          5.428985118865967,
          -11.915645599365234,
          -22.10166358947754,
          -7.656329154968262,
          6.521390914916992,
          -12.1085844039917,
          0.5703601241111755,
          -10.084025382995605,
          14.82003402709961,
          -16.360652923583984,
          -21.201446533203125,
          1.7858941555023193,
          3.3831043243408203,
          -8.245257377624512,
          9.713032722473145,
          9.398305892944336,
          -12.203712463378906,
          -20.811248779296875,
          6.559903144836426,
          -0.17167919874191284,
          -16.449111938476562,
          19.16748046875,
          31.027755737304688,
          -7.841008186340332,
          -12.615530967712402,
          19.04297637939453,
          6.075460910797119,
          12.81861400604248,
          -2.0480453968048096,
          1.200878620147705,
          23.049907684326172,
          6.155952453613281,
          4.633559226989746,
          1.099393606185913,
          10.395895004272461,
          -7.393945693969727,
          12.204118728637695,
          -7.9026336669921875,
          -0.27936112880706787,
          15.799500465393066,
          -1.3552547693252563,
          0.7377133965492249,
          -5.010285377502441,
          11.735416412353516,
          -7.514425754547119,
          -14.984490394592285,
          8.576788902282715,
          18.296756744384766,
          -12.173720359802246,
          25.7081241607666,
          9.971516609191895,
          3.5832531452178955,
          7.135349750518799,
          -14.431248664855957,
          -0.7918564081192017,
          1.3272719383239746,
          -9.020403861999512,
          3.6141607761383057,
          31.910202026367188,
          17.90997886657715,
          -6.106602191925049,
          14.943283081054688,
          -11.03647518157959,
          -8.200692176818848,
          -12.22774887084961,
          -10.721779823303223,
          -3.952540874481201,
          2.4573798179626465,
          29.900754928588867,
          -4.661065101623535,
          -4.519749641418457,
          26.980327606201172,
          24.03436851501465,
          -11.230746269226074,
          -5.150295734405518,
          14.471208572387695,
          13.336413383483887,
          -9.394845962524414,
          5.515124320983887,
          3.2467758655548096,
          14.727346420288086,
          -3.9146158695220947,
          -17.430368423461914,
          3.455617904663086,
          26.47444725036621,
          13.810139656066895,
          -2.274981737136841,
          -4.203560829162598,
          19.681400299072266,
          -1.2180603742599487,
          -6.624270439147949,
          15.184959411621094,
          -12.902194023132324,
          -18.551156997680664,
          -0.8638498783111572,
          -3.046327829360962,
          -9.853691101074219,
          -4.699291706085205,
          15.092216491699219,
          -10.124532699584961,
          -6.842317581176758,
          -9.142309188842773,
          -11.228967666625977,
          19.756240844726562,
          -11.596075057983398,
          4.085541248321533,
          -3.5673227310180664,
          7.2373552322387695,
          30.22899627685547,
          29.970476150512695,
          -1.6230422258377075,
          -5.793269634246826,
          7.601870536804199,
          -1.0124382972717285,
          4.507323741912842,
          30.531946182250977,
          -11.46714973449707,
          -6.1056976318359375,
          -0.05394371226429939,
          14.433114051818848,
          19.143630981445312,
          5.185693740844727,
          -4.040574550628662,
          3.9469711780548096,
          16.755081176757812,
          3.008702516555786,
          5.251108646392822,
          11.693353652954102,
          -18.833721160888672,
          -20.69069480895996,
          -7.168767929077148,
          25.309755325317383,
          2.9762566089630127,
          15.256197929382324,
          9.511761665344238,
          29.624752044677734,
          13.952475547790527,
          -7.820141315460205,
          -1.4811303615570068,
          -1.7198737859725952,
          -17.411067962646484,
          -4.155436038970947,
          19.392494201660156,
          24.292564392089844,
          -8.671307563781738,
          12.235967636108398,
          16.015392303466797,
          7.980419158935547,
          7.761870861053467,
          9.359464645385742,
          20.38266372680664,
          6.957988739013672,
          -11.840677261352539,
          10.430837631225586,
          -11.939762115478516,
          12.157174110412598,
          15.263425827026367,
          4.906622886657715,
          12.642857551574707,
          -10.554458618164062,
          -0.20658032596111298,
          -0.28913310170173645,
          -19.67069435119629,
          -4.093071937561035,
          -12.920219421386719,
          -10.006549835205078,
          1.0225067138671875,
          23.797698974609375,
          -5.461947917938232,
          -1.5808924436569214,
          -2.6263859272003174,
          17.390335083007812,
          -9.973541259765625,
          -9.417000770568848,
          0.9129633903503418,
          -3.523930788040161,
          0.8132165670394897,
          -5.11651611328125,
          -10.101922988891602,
          8.202692031860352,
          -8.134261131286621,
          14.320837020874023,
          2.164029121398926,
          34.55360794067383,
          2.81246018409729,
          23.12587547302246,
          -7.769043922424316,
          -10.482396125793457,
          27.229127883911133,
          16.007034301757812,
          -13.08580207824707,
          11.754871368408203,
          3.749018430709839,
          -6.201889514923096,
          -3.039823055267334,
          11.522690773010254,
          6.702186584472656,
          27.942031860351562,
          11.508753776550293,
          29.566314697265625,
          -4.342284679412842,
          -8.090660095214844,
          -21.476394653320312,
          -3.134826183319092,
          -2.39402437210083,
          -20.311330795288086,
          -3.5885543823242188,
          -7.176692485809326,
          -2.0619237422943115,
          30.394208908081055,
          8.962468147277832,
          17.67998695373535,
          9.486127853393555,
          -14.26242446899414,
          -3.2423505783081055,
          -23.205936431884766,
          -4.885047912597656,
          -2.6500489711761475,
          5.347696781158447,
          17.679296493530273,
          -9.465462684631348,
          12.464715003967285,
          -5.143855571746826,
          22.91379165649414,
          7.018755912780762,
          2.4463024139404297,
          -5.312497615814209,
          6.8470330238342285,
          9.472651481628418,
          -2.293814182281494,
          6.761275291442871,
          -3.624398946762085,
          4.633747577667236,
          9.068975448608398,
          18.05748176574707,
          1.7092515230178833,
          -10.425868034362793,
          -3.814643383026123,
          -10.190258979797363,
          -8.904414176940918,
          24.700321197509766,
          -23.008668899536133,
          1.0435192584991455,
          -12.343369483947754,
          15.659969329833984,
          6.6952080726623535,
          16.59800148010254,
          20.311006546020508,
          -10.945391654968262,
          30.76192855834961,
          21.596527099609375,
          2.5335960388183594,
          -2.10288143157959,
          -8.547628402709961,
          14.1165132522583,
          18.337892532348633,
          -14.89846420288086,
          2.002152442932129,
          -8.677433967590332,
          16.403297424316406,
          18.07891082763672,
          11.984484672546387,
          14.199650764465332,
          29.175506591796875,
          1.1291861534118652,
          9.672597885131836,
          -20.283815383911133,
          2.51819109916687,
          -15.90164852142334,
          -20.940109252929688,
          -26.23653793334961,
          -9.837105751037598,
          -5.444277286529541,
          -3.8805525302886963,
          18.772329330444336,
          17.38410186767578,
          0.3418312966823578,
          6.767757892608643,
          -6.723987579345703,
          11.837363243103027,
          -1.9780343770980835,
          15.902815818786621,
          -7.900704383850098,
          8.168258666992188,
          -7.9239678382873535,
          -6.667586803436279,
          16.40680694580078,
          1.4713691473007202,
          4.732800006866455,
          2.799738645553589,
          9.087479591369629,
          -8.772584915161133,
          22.77621841430664,
          9.687934875488281,
          3.4174275398254395,
          -19.428918838500977,
          4.215719223022461,
          -0.0855279415845871,
          -6.834562301635742,
          4.466094970703125,
          3.2869746685028076,
          -0.4246065020561218,
          13.038724899291992,
          3.1383490562438965,
          -7.515650749206543,
          27.051334381103516,
          -9.829248428344727,
          29.922273635864258,
          10.198785781860352,
          11.257729530334473,
          13.615556716918945,
          -0.36818721890449524,
          -1.9573193788528442,
          0.8036738634109497,
          13.726682662963867,
          4.151987552642822,
          17.450952529907227,
          -8.120497703552246,
          -1.1501209735870361,
          33.899532318115234,
          -9.992486953735352,
          -20.748695373535156,
          -14.89344310760498,
          4.725937843322754,
          -0.787290632724762,
          8.10754108428955,
          23.49832534790039
         ],
         "yaxis": "y"
        },
        {
         "hovertemplate": "language=Kannada<br>tsne1=%{x}<br>tsne2=%{y}<extra></extra>",
         "legendgroup": "Kannada",
         "marker": {
          "color": "#19d3f3",
          "symbol": "circle"
         },
         "mode": "markers",
         "name": "Kannada",
         "showlegend": true,
         "type": "scattergl",
         "x": [
          25.62238121032715,
          -26.162508010864258,
          12.659780502319336,
          43.28743362426758,
          23.305957794189453,
          33.087799072265625,
          16.463563919067383,
          52.71940231323242,
          24.245243072509766,
          22.929441452026367,
          16.71672248840332,
          -15.075589179992676,
          -23.448144912719727,
          12.792058944702148,
          -14.625652313232422,
          13.957886695861816,
          -34.33784484863281,
          -41.19572830200195,
          14.724259376525879,
          12.922401428222656,
          -49.09621810913086,
          50.76378631591797,
          -26.54553985595703,
          -39.589393615722656,
          -25.481454849243164,
          13.965712547302246,
          -15.914685249328613,
          12.413717269897461,
          -52.23358154296875,
          12.888195037841797,
          8.240592002868652,
          15.526397705078125,
          -25.55071258544922,
          -17.568294525146484,
          23.505651473999023,
          -14.119632720947266,
          -58.333465576171875,
          23.460765838623047,
          35.057064056396484,
          4.796511650085449,
          13.146015167236328,
          -63.73329162597656,
          -47.135501861572266,
          18.74034309387207,
          -49.97096633911133,
          -15.559438705444336,
          27.487340927124023,
          14.757147789001465,
          -65.51741027832031,
          -11.053252220153809,
          -54.05064010620117,
          -7.207721710205078,
          24.68219757080078,
          23.246192932128906,
          -32.750911712646484,
          -37.06255340576172,
          19.228456497192383,
          13.911502838134766,
          9.993762016296387,
          -58.74407958984375,
          25.09698486328125,
          -48.985530853271484,
          18.174331665039062,
          14.916349411010742,
          14.986530303955078,
          16.64866828918457,
          13.653032302856445,
          48.731536865234375,
          -52.043800354003906,
          45.6467399597168,
          2.529742479324341,
          21.3365478515625,
          -47.652252197265625,
          18.25330924987793,
          12.347352981567383,
          -45.41591262817383,
          15.938531875610352,
          11.769193649291992,
          20.80782127380371,
          16.703203201293945,
          -22.766252517700195,
          -15.878287315368652,
          27.18101692199707,
          -44.48691177368164,
          27.162670135498047,
          -28.320751190185547,
          15.079267501831055,
          -13.725637435913086,
          21.310415267944336,
          26.771257400512695,
          -54.29560089111328,
          -51.65577697753906,
          14.621562004089355,
          -8.667486190795898,
          -10.07308578491211,
          -1.2871290445327759,
          20.50312614440918,
          12.560898780822754,
          -57.78597640991211,
          -7.199968338012695,
          14.036389350891113,
          18.891765594482422,
          -58.5016975402832,
          -66.15576934814453,
          17.650508880615234,
          -7.398278713226318,
          24.178627014160156,
          39.55613327026367,
          -6.18136739730835,
          19.204696655273438,
          23.992490768432617,
          -41.74873352050781,
          -39.07319641113281,
          22.010223388671875,
          25.341697692871094,
          -31.652273178100586,
          51.55207824707031,
          45.14982986450195,
          -11.739766120910645,
          15.322977066040039,
          -11.10934829711914,
          -48.64203643798828,
          -25.41788673400879,
          55.526885986328125,
          -41.89649963378906,
          -21.539541244506836,
          -19.190143585205078,
          -17.320201873779297,
          19.763336181640625,
          13.397637367248535,
          10.09346866607666,
          18.722143173217773,
          22.681835174560547,
          25.82144546508789,
          0.41991734504699707,
          19.921018600463867,
          -6.49255895614624,
          16.02810287475586,
          24.147762298583984,
          -35.615318298339844,
          58.102352142333984,
          14.539958953857422,
          15.87348461151123,
          -30.812854766845703,
          17.78553581237793,
          11.499716758728027,
          -7.102444648742676,
          12.069488525390625,
          18.427671432495117,
          -34.464962005615234,
          38.75839614868164,
          17.64447021484375,
          27.165517807006836,
          42.989234924316406,
          31.605329513549805,
          13.590705871582031,
          22.19931983947754,
          -35.166160583496094,
          22.259904861450195,
          15.566153526306152,
          24.430818557739258,
          6.773059844970703,
          -48.16357421875,
          21.69491958618164,
          -9.643464088439941,
          -43.22698211669922,
          -22.833667755126953,
          -55.64383316040039,
          19.854440689086914,
          11.883913040161133,
          21.161998748779297,
          21.77248191833496,
          20.389060974121094,
          -9.5621976852417,
          56.8739013671875,
          -8.903552055358887,
          7.889988422393799,
          24.313791275024414,
          -55.421142578125,
          -30.22288703918457,
          12.738618850708008,
          6.987843036651611,
          -38.6425666809082,
          6.9124531745910645,
          17.541593551635742,
          -6.298572540283203,
          -28.73172950744629,
          18.04898452758789,
          -56.11719512939453,
          17.987716674804688,
          -32.77726364135742,
          22.260257720947266,
          -8.83338737487793,
          -59.73695373535156,
          22.878822326660156,
          -23.794118881225586,
          17.752710342407227,
          19.008129119873047,
          -47.719261169433594,
          18.86787986755371,
          -61.840904235839844,
          -56.80768966674805,
          -14.629094123840332,
          -0.25232434272766113,
          11.818138122558594,
          17.78227996826172,
          19.01557731628418,
          -14.632281303405762,
          -9.034025192260742,
          19.966535568237305,
          31.519424438476562,
          26.95578956604004,
          22.600257873535156,
          -52.37990951538086,
          -33.938838958740234,
          -59.722957611083984,
          21.706546783447266,
          43.431522369384766,
          14.54328441619873,
          53.8900146484375,
          17.258804321289062,
          19.869617462158203,
          10.911124229431152,
          -38.84516906738281,
          14.867934226989746,
          20.19398307800293,
          -50.4165153503418,
          23.52585220336914,
          -27.983413696289062,
          17.440099716186523,
          16.496915817260742,
          12.336716651916504,
          -48.02176284790039,
          15.76743221282959,
          -34.70671081542969,
          3.4432339668273926,
          -12.285479545593262,
          10.656050682067871,
          8.518129348754883,
          16.127552032470703,
          25.398889541625977,
          -47.62130355834961,
          25.325395584106445,
          24.95646858215332,
          5.759493827819824,
          23.595548629760742,
          15.856565475463867,
          -17.44721031188965,
          20.44645881652832,
          19.5488224029541,
          -30.455663681030273,
          20.021066665649414,
          14.029345512390137,
          17.33474349975586,
          13.328203201293945,
          12.546695709228516,
          -60.860267639160156,
          22.73210334777832,
          24.99586296081543,
          12.624397277832031,
          23.04823875427246,
          15.254029273986816,
          16.974807739257812,
          19.113525390625,
          -6.343535423278809,
          -57.29290771484375,
          23.491191864013672,
          19.30299186706543,
          17.382064819335938,
          57.21714401245117,
          41.31854248046875,
          18.910629272460938,
          -24.298688888549805,
          -38.91796112060547,
          14.86255168914795,
          16.68114471435547,
          11.546144485473633,
          23.195648193359375,
          23.372390747070312,
          17.49787712097168,
          17.570222854614258,
          22.7744083404541,
          12.481557846069336,
          -15.520416259765625,
          -35.82666015625,
          -42.62302017211914,
          -36.00704574584961,
          15.834622383117676,
          31.571414947509766,
          58.79526901245117,
          18.229406356811523,
          -16.842905044555664,
          -48.328731536865234,
          14.238037109375,
          -19.164093017578125,
          11.446493148803711,
          16.863483428955078,
          19.917810440063477,
          11.003267288208008,
          -42.09144592285156,
          20.24321746826172,
          51.75279235839844,
          4.777058124542236,
          -14.849388122558594,
          27.15959358215332,
          -14.951445579528809,
          18.04292869567871,
          28.907949447631836,
          17.4448299407959,
          21.631879806518555,
          4.679121971130371,
          -34.93229293823242,
          -38.642147064208984,
          20.23719024658203,
          -59.402313232421875,
          -28.42949676513672,
          -4.825429439544678,
          11.802434921264648,
          -11.616925239562988,
          -8.949226379394531,
          11.90477466583252,
          10.489886283874512,
          24.803585052490234,
          10.40068531036377,
          -30.3198299407959,
          -10.538180351257324,
          -38.81215286254883,
          17.33145523071289,
          15.064818382263184,
          13.570821762084961,
          7.235422611236572,
          21.02923011779785,
          -42.69757843017578,
          14.740972518920898,
          -17.087661743164062,
          15.843781471252441,
          17.991037368774414,
          -57.590972900390625,
          -15.489235877990723,
          19.361005783081055,
          -45.12152099609375,
          -28.144670486450195,
          16.580556869506836,
          21.91341781616211,
          -32.66555404663086,
          -17.573938369750977,
          8.291512489318848,
          19.082426071166992,
          18.038671493530273,
          19.054590225219727,
          21.12674903869629,
          -61.34857177734375,
          -49.40727233886719,
          8.133939743041992,
          19.164138793945312,
          13.766650199890137,
          9.934659957885742,
          -59.119049072265625,
          -32.01081466674805,
          -5.872613906860352,
          13.880777359008789,
          9.963316917419434,
          -40.41044998168945,
          -37.60406494140625,
          -58.67087936401367,
          10.768233299255371,
          25.622770309448242,
          -31.475618362426758,
          -8.372961044311523
         ],
         "xaxis": "x",
         "y": [
          -42.05238723754883,
          -1.5159492492675781,
          -45.00214767456055,
          31.042835235595703,
          -44.27888107299805,
          32.475196838378906,
          -43.26179122924805,
          11.086037635803223,
          -41.334129333496094,
          -41.38296890258789,
          -41.3800048828125,
          12.156240463256836,
          10.512008666992188,
          -46.70348358154297,
          -14.480461120605469,
          -44.41301727294922,
          -14.627553939819336,
          9.718661308288574,
          -34.45138168334961,
          -42.83884048461914,
          19.77804183959961,
          -11.178755760192871,
          -7.7012763023376465,
          6.623871803283691,
          -7.19554328918457,
          -46.489479064941406,
          3.2964560985565186,
          -42.94624710083008,
          25.832197189331055,
          -46.526222229003906,
          -37.87261199951172,
          -39.31747055053711,
          12.203141212463379,
          -27.148540496826172,
          -42.987003326416016,
          -7.8350701332092285,
          3.658684253692627,
          -41.53602981567383,
          31.532798767089844,
          -25.059560775756836,
          -41.02083969116211,
          20.210113525390625,
          21.71687126159668,
          -39.90142822265625,
          19.82251739501953,
          24.214902877807617,
          -24.438220977783203,
          -24.425453186035156,
          16.214231491088867,
          -20.548892974853516,
          23.30535316467285,
          -21.880647659301758,
          -23.55693817138672,
          -39.4826774597168,
          30.71225929260254,
          8.883744239807129,
          -42.204952239990234,
          -38.81108093261719,
          -42.81364440917969,
          24.85041046142578,
          -43.31383514404297,
          12.315682411193848,
          -45.20943832397461,
          -37.90776443481445,
          -40.486167907714844,
          -47.43052291870117,
          -41.481468200683594,
          -5.361781120300293,
          17.76197624206543,
          -8.55618953704834,
          -13.052834510803223,
          -37.4310188293457,
          26.739761352539062,
          -35.075042724609375,
          -37.81502914428711,
          31.15531349182129,
          -44.82555389404297,
          -38.9398193359375,
          -44.70512008666992,
          -39.605491638183594,
          14.91291618347168,
          -10.094534873962402,
          -40.17571258544922,
          16.985187530517578,
          -26.77592658996582,
          -22.757036209106445,
          -43.92996597290039,
          -6.460918426513672,
          -31.316421508789062,
          -31.720966339111328,
          2.9878122806549072,
          19.78522300720215,
          -39.88504409790039,
          -23.108983993530273,
          -25.78731346130371,
          -22.525514602661133,
          -29.36709976196289,
          -35.22519302368164,
          18.241596221923828,
          16.034067153930664,
          -36.722049713134766,
          -42.690433502197266,
          26.3515567779541,
          15.378213882446289,
          -46.861854553222656,
          -19.749889373779297,
          -39.52556610107422,
          -23.791906356811523,
          -27.16131019592285,
          -43.040950775146484,
          -42.899776458740234,
          29.477506637573242,
          -3.506863594055176,
          -41.21650695800781,
          -37.36563491821289,
          23.215164184570312,
          1.7083393335342407,
          -13.02289867401123,
          -21.899456024169922,
          20.015352249145508,
          10.40632438659668,
          22.02082633972168,
          9.655097007751465,
          -1.450214147567749,
          12.529364585876465,
          8.178245544433594,
          -7.013875484466553,
          -10.957662582397461,
          -46.58800506591797,
          -42.8955078125,
          -40.87432098388672,
          -42.288639068603516,
          -35.14199447631836,
          -38.39678955078125,
          -22.944639205932617,
          -32.42937088012695,
          -26.655132293701172,
          -36.7572021484375,
          -42.76771545410156,
          27.51938819885254,
          -5.449058532714844,
          -35.8591194152832,
          -46.45936965942383,
          1.064765214920044,
          -41.40049743652344,
          -41.25630187988281,
          -20.647905349731445,
          -36.97914123535156,
          -41.27030563354492,
          8.847159385681152,
          33.896968841552734,
          -47.73411560058594,
          -20.135663986206055,
          -15.403726577758789,
          -31.452381134033203,
          -44.08827209472656,
          -42.95790100097656,
          18.20109748840332,
          -41.01280975341797,
          -38.15430450439453,
          -39.143394470214844,
          -32.66612243652344,
          22.157955169677734,
          -45.571720123291016,
          -27.361608505249023,
          23.19879150390625,
          3.6538994312286377,
          14.217070579528809,
          -39.94565963745117,
          -33.77183151245117,
          -43.63636016845703,
          -44.44791030883789,
          -36.03132247924805,
          -27.417999267578125,
          0.9591504335403442,
          2.096040725708008,
          -24.125539779663086,
          -31.50859260559082,
          17.131128311157227,
          6.7129130363464355,
          -43.37577438354492,
          -31.95214080810547,
          12.52025318145752,
          -31.681053161621094,
          -41.13985824584961,
          -23.563493728637695,
          -27.85369110107422,
          -40.3486213684082,
          17.656394958496094,
          -37.831504821777344,
          30.74117660522461,
          -38.351341247558594,
          -23.384130477905273,
          23.94737434387207,
          -38.323577880859375,
          15.07675838470459,
          -40.437686920166016,
          -41.29619216918945,
          0.7643594145774841,
          -43.15494918823242,
          17.62364959716797,
          16.687217712402344,
          -12.205840110778809,
          -21.940771102905273,
          -37.29511642456055,
          -38.104278564453125,
          -29.417537689208984,
          3.6666650772094727,
          2.715867280960083,
          -36.77339172363281,
          -31.482192993164062,
          -26.109289169311523,
          -34.861812591552734,
          22.237577438354492,
          5.306552886962891,
          18.300081253051758,
          -31.160507202148438,
          -21.81458282470703,
          -35.87663650512695,
          1.4450137615203857,
          -36.064395904541016,
          -44.516571044921875,
          -35.04081344604492,
          19.216238021850586,
          -31.443767547607422,
          -38.35482406616211,
          1.1327308416366577,
          -43.85118103027344,
          16.404478073120117,
          -46.784427642822266,
          -42.75532150268555,
          -38.386436462402344,
          22.24836540222168,
          -43.273345947265625,
          9.242082595825195,
          -19.90237808227539,
          4.007272720336914,
          -42.85324478149414,
          -32.443809509277344,
          -24.042816162109375,
          -37.94528579711914,
          21.192623138427734,
          -37.380615234375,
          -40.89681625366211,
          -34.266571044921875,
          -32.00121307373047,
          -43.594261169433594,
          -24.249038696289062,
          -27.08709144592285,
          -43.6014404296875,
          6.666521072387695,
          -39.40927505493164,
          -36.84510040283203,
          -41.60869598388672,
          -39.949249267578125,
          -42.07526779174805,
          1.1967599391937256,
          -36.20812225341797,
          -21.69026756286621,
          -38.99493408203125,
          -42.91219711303711,
          -41.88578414916992,
          -39.740333557128906,
          -30.253746032714844,
          -22.669292449951172,
          5.005672931671143,
          -32.31122589111328,
          -38.387420654296875,
          -44.55744171142578,
          -5.4894514083862305,
          -17.405546188354492,
          -31.516374588012695,
          -0.016104448586702347,
          -4.495992183685303,
          -40.9702033996582,
          -30.28035545349121,
          -42.38001251220703,
          -44.689117431640625,
          -42.165977478027344,
          -37.32141876220703,
          -29.5580997467041,
          -43.885520935058594,
          -38.58846664428711,
          -11.332762718200684,
          27.53114891052246,
          31.71615219116211,
          18.33196258544922,
          -40.97020721435547,
          -27.801198959350586,
          3.511075735092163,
          -44.508506774902344,
          -6.046175479888916,
          11.742273330688477,
          -39.51747131347656,
          -12.66317367553711,
          -34.37567138671875,
          -38.57755661010742,
          -45.73070526123047,
          -41.269718170166016,
          4.681072235107422,
          -42.44156265258789,
          7.3052802085876465,
          -31.014026641845703,
          7.5809807777404785,
          -26.97834014892578,
          -28.637439727783203,
          -40.1947135925293,
          -22.97633934020996,
          -39.57759094238281,
          -41.37403106689453,
          -30.783172607421875,
          23.281999588012695,
          32.72968673706055,
          -46.65824508666992,
          17.793336868286133,
          -11.788694381713867,
          -27.797901153564453,
          -33.138729095458984,
          6.634598731994629,
          11.85452651977539,
          -43.62247848510742,
          -25.94120216369629,
          -40.325626373291016,
          -38.38770294189453,
          -26.286123275756836,
          -23.51752281188965,
          3.097111940383911,
          -29.794540405273438,
          -43.36833572387695,
          -37.448707580566406,
          -25.855295181274414,
          -42.472198486328125,
          0.5630958676338196,
          -45.2601203918457,
          2.3220012187957764,
          -38.21256637573242,
          -42.954322814941406,
          15.531509399414062,
          -21.557397842407227,
          -30.64971923828125,
          0.4641989469528198,
          -12.585633277893066,
          -42.19161605834961,
          -44.8358154296875,
          14.636457443237305,
          3.7463810443878174,
          13.701728820800781,
          -43.10279083251953,
          -46.14691925048828,
          -40.5907096862793,
          -37.951847076416016,
          1.7586255073547363,
          30.037181854248047,
          -33.458221435546875,
          -30.73444175720215,
          -39.1580810546875,
          -40.732357025146484,
          17.718185424804688,
          22.042648315429688,
          -22.563880920410156,
          -31.32337188720703,
          -36.47818374633789,
          16.4761905670166,
          14.896167755126953,
          4.569108963012695,
          -42.96556091308594,
          -42.278564453125,
          6.407073020935059,
          -22.655536651611328
         ],
         "yaxis": "y"
        },
        {
         "hovertemplate": "language=Malayalam<br>tsne1=%{x}<br>tsne2=%{y}<extra></extra>",
         "legendgroup": "Malayalam",
         "marker": {
          "color": "#FF6692",
          "symbol": "circle"
         },
         "mode": "markers",
         "name": "Malayalam",
         "showlegend": true,
         "type": "scattergl",
         "x": [
          -17.834318161010742,
          -40.30204391479492,
          -35.5587158203125,
          -31.87748908996582,
          -46.754852294921875,
          -26.355499267578125,
          12.11796760559082,
          -47.664588928222656,
          -41.43064880371094,
          -36.661643981933594,
          -40.038639068603516,
          -5.842202186584473,
          -18.748676300048828,
          -43.56361770629883,
          -54.02033996582031,
          18.809049606323242,
          -33.64460754394531,
          -39.93675994873047,
          -38.5876579284668,
          8.77625560760498,
          -40.251434326171875,
          -57.079322814941406,
          -23.24276351928711,
          -51.996620178222656,
          -33.67710494995117,
          -21.333568572998047,
          48.09697341918945,
          -39.27986526489258,
          -42.09441375732422,
          -34.26640701293945,
          -5.855217933654785,
          -46.238319396972656,
          -34.456504821777344,
          -36.31940460205078,
          -36.92608642578125,
          -37.75343704223633,
          43.542442321777344,
          -36.725460052490234,
          -41.903228759765625,
          -37.8356819152832,
          -25.097122192382812,
          -26.60680389404297,
          -58.35310363769531,
          -50.188697814941406,
          6.290589809417725,
          -43.06333923339844,
          -22.79397201538086,
          -56.17589569091797,
          -47.63064956665039,
          -56.7323112487793,
          -41.80029296875,
          32.42240905761719,
          -37.394588470458984,
          -38.63697052001953,
          -30.15348243713379,
          -22.87980079650879,
          -47.1460075378418,
          -34.78839874267578,
          -60.15095138549805,
          -40.330570220947266,
          -32.816341400146484,
          -39.26873016357422,
          -20.85293960571289,
          -38.45979309082031,
          7.756528854370117,
          -40.463130950927734,
          -57.41389083862305,
          -44.69823455810547,
          -33.490997314453125,
          -33.55299377441406,
          -46.11517333984375,
          -34.830318450927734,
          -35.40986251831055,
          5.987368583679199,
          -45.63349151611328,
          -37.916175842285156,
          -37.73995590209961,
          -40.655879974365234,
          -39.707550048828125,
          -32.13205337524414,
          10.00721263885498,
          -44.29433822631836,
          -8.904644966125488,
          -19.32076072692871,
          -41.62834167480469,
          -60.895301818847656,
          -27.953622817993164,
          -30.921541213989258,
          -32.82271194458008,
          -21.00654411315918,
          -45.007484436035156,
          -59.00103759765625,
          -39.88840866088867,
          -46.72024154663086,
          -36.40446853637695,
          -15.728044509887695,
          -35.97538375854492,
          -55.72821044921875,
          -66.56648254394531,
          -38.38676452636719,
          -20.64436149597168,
          -54.763126373291016,
          -41.89323043823242,
          -37.01646423339844,
          -28.217294692993164,
          -46.78295135498047,
          -36.357357025146484,
          -43.09413146972656,
          -33.28017044067383,
          -44.79574203491211,
          -31.73861312866211,
          -36.841094970703125,
          -31.66073226928711,
          -36.57433319091797,
          -38.17350387573242,
          -34.79775619506836,
          17.49420166015625,
          -37.689239501953125,
          -33.76045227050781,
          -29.79117202758789,
          -37.1166877746582,
          -31.876230239868164,
          -33.52554702758789,
          -46.330406188964844,
          8.421817779541016,
          -18.240907669067383,
          -47.270748138427734,
          -31.84589385986328,
          -46.39255142211914,
          -61.03962326049805,
          -45.908538818359375,
          -37.811710357666016,
          -22.742462158203125,
          -47.254390716552734,
          6.856400966644287,
          -38.02195739746094,
          -38.88572692871094,
          -47.300106048583984,
          -25.730995178222656,
          -39.51912307739258,
          -43.44297790527344,
          -25.250272750854492,
          -30.35634422302246,
          -27.217575073242188,
          -45.42176055908203,
          -51.89944076538086,
          -33.07794952392578,
          -35.556461334228516,
          -38.870479583740234,
          -54.016353607177734,
          -42.77229309082031,
          -26.381107330322266,
          -45.56978988647461,
          -42.6317253112793,
          -45.23893356323242,
          -14.534734725952148,
          -32.73647689819336,
          -41.54304885864258,
          -25.06490135192871,
          -39.412254333496094,
          -41.813270568847656,
          -24.857118606567383,
          -38.46291732788086,
          -33.4467658996582,
          7.268545627593994,
          -37.92218017578125,
          -37.629920959472656,
          -21.81264877319336,
          -35.03232192993164,
          -38.43280029296875,
          -44.00445556640625,
          -39.67451095581055,
          -38.24285888671875,
          -43.53340530395508,
          8.30056095123291,
          -32.38911819458008,
          -43.839447021484375,
          -32.28619384765625,
          -24.063610076904297,
          -41.06208801269531,
          -38.27471160888672,
          -22.07347297668457,
          -35.76676940917969,
          -41.884708404541016,
          -15.95188045501709,
          -45.27140808105469,
          -42.71393966674805,
          -41.89675521850586,
          9.506366729736328,
          -39.39434051513672,
          -44.197383880615234,
          -27.94582748413086,
          -45.036964416503906,
          -49.36799240112305,
          -37.9540901184082,
          -53.427974700927734,
          -40.82438278198242,
          -45.90337371826172,
          13.513606071472168,
          -42.98622131347656,
          -33.79994201660156,
          -35.6528205871582,
          -44.022552490234375,
          -34.187252044677734,
          -47.178131103515625,
          -37.3077507019043,
          -30.39910316467285,
          -43.04372024536133,
          -41.43855667114258,
          -47.75319290161133,
          -15.09600830078125,
          -55.33245849609375,
          -37.693668365478516,
          -37.24400329589844,
          42.093746185302734,
          -44.66171646118164,
          -16.922828674316406,
          -44.89267349243164,
          -35.21821212768555,
          52.438873291015625,
          -37.22431182861328,
          -19.659570693969727,
          -41.04146194458008,
          -39.243186950683594,
          -36.80780029296875,
          -58.765724182128906,
          -16.429718017578125,
          -0.07959913462400436,
          -59.81227111816406,
          -45.616661071777344,
          -35.126827239990234,
          -34.6987419128418,
          -46.556156158447266,
          -23.21915054321289,
          -43.77839279174805,
          -6.037429332733154,
          -46.52880859375,
          -28.868947982788086,
          -47.7834358215332,
          -43.09452438354492,
          -22.26084327697754,
          -63.75065994262695,
          -29.801124572753906,
          -55.910255432128906,
          -17.15650749206543,
          -32.686622619628906,
          -34.57217025756836,
          -59.5727653503418,
          -34.21123123168945,
          -40.84514617919922,
          -32.228702545166016,
          -34.373531341552734,
          -42.061004638671875,
          -35.75526809692383,
          -40.63140869140625,
          -39.57558059692383,
          -36.30086898803711,
          -15.336442947387695,
          -58.81414794921875,
          -49.969242095947266,
          -18.174352645874023,
          -34.283477783203125,
          -20.185972213745117,
          3.5948030948638916,
          -34.408164978027344,
          -51.15458297729492,
          -41.3390998840332,
          -33.042484283447266,
          -27.132633209228516,
          -36.0172004699707,
          9.406571388244629,
          -30.741483688354492,
          -40.053932189941406,
          -36.956329345703125,
          -31.451168060302734,
          -39.067142486572266,
          -36.48293685913086,
          -40.80137634277344,
          -12.541631698608398,
          -39.50324630737305,
          -61.30210876464844,
          -43.4681282043457,
          19.157268524169922,
          -21.59489631652832,
          -39.149200439453125,
          -26.030315399169922,
          10.914660453796387,
          -59.46628952026367,
          -35.55601119995117,
          -42.21828842163086,
          -54.350521087646484,
          -28.760053634643555,
          -48.257415771484375,
          -33.21548843383789,
          -32.500335693359375,
          -33.631385803222656,
          -38.64854431152344,
          -41.405235290527344,
          -40.6837043762207,
          -55.84334182739258,
          -23.31969451904297,
          -44.42796325683594,
          -46.24842071533203,
          -34.04669952392578,
          -37.4894905090332,
          -30.396230697631836,
          -26.42597198486328,
          -34.90736770629883,
          -58.949302673339844,
          -35.15723419189453,
          -42.14793395996094,
          -38.5206298828125,
          -38.30202865600586,
          -39.75071334838867,
          -25.934816360473633,
          -34.678680419921875,
          -26.80042839050293,
          -45.763973236083984,
          -7.474968910217285,
          -51.835079193115234,
          -43.167240142822266,
          -60.138343811035156,
          -44.327789306640625,
          -36.742698669433594,
          -38.56956100463867,
          -44.4018440246582,
          -40.023189544677734,
          -17.20332908630371,
          -4.300676345825195,
          -39.22736358642578,
          -45.27365493774414,
          -42.97467803955078,
          -33.87427520751953,
          -37.299072265625,
          -35.281532287597656,
          -32.79405212402344,
          -20.776851654052734,
          -34.512569427490234,
          -61.04099655151367,
          -54.59206008911133,
          17.811063766479492,
          -39.24454879760742,
          -40.91975021362305,
          -38.48666000366211,
          -19.401899337768555,
          -23.57269287109375,
          -27.99726676940918,
          -51.914485931396484,
          -29.360292434692383,
          -40.49263000488281,
          -44.226036071777344,
          -32.174442291259766,
          -36.560943603515625,
          -7.101030349731445,
          -39.250946044921875,
          -33.089534759521484,
          -26.282089233398438,
          -38.85940933227539,
          -45.153934478759766,
          -36.80521774291992,
          -43.843868255615234,
          -58.51914596557617,
          -25.758054733276367,
          -37.53236389160156,
          -10.907800674438477,
          -32.55323028564453,
          -42.35165023803711,
          -34.50676345825195,
          -34.21657180786133,
          -19.702791213989258,
          -40.83395767211914,
          -42.307159423828125
         ],
         "xaxis": "x",
         "y": [
          -29.208799362182617,
          -31.46860694885254,
          -26.679441452026367,
          -31.089487075805664,
          13.112229347229004,
          -27.292261123657227,
          -15.697616577148438,
          5.279921054840088,
          -31.254179000854492,
          -31.196903228759766,
          -24.904726028442383,
          -19.708227157592773,
          11.191546440124512,
          -27.6619815826416,
          27.022855758666992,
          -27.33392333984375,
          -31.309036254882812,
          -29.168075561523438,
          32.064849853515625,
          -25.804798126220703,
          32.91960525512695,
          1.5798969268798828,
          -25.725099563598633,
          19.150300979614258,
          -31.95148468017578,
          -19.974573135375977,
          32.02882766723633,
          -34.71562194824219,
          -34.20626449584961,
          -24.320009231567383,
          -20.98240089416504,
          -34.7512092590332,
          -32.97455978393555,
          -23.028837203979492,
          -24.679811477661133,
          -25.694082260131836,
          32.733055114746094,
          -28.777048110961914,
          -28.24033546447754,
          -35.755672454833984,
          10.844175338745117,
          -35.527347564697266,
          4.213411331176758,
          19.024728775024414,
          -25.946550369262695,
          -24.862707138061523,
          -27.967538833618164,
          1.8784977197647095,
          -28.661195755004883,
          15.867571830749512,
          -27.505338668823242,
          30.386669158935547,
          29.443546295166016,
          -31.311996459960938,
          -24.464359283447266,
          -15.375922203063965,
          -31.376562118530273,
          -30.97707176208496,
          9.955326080322266,
          11.848904609680176,
          -25.31424903869629,
          27.089996337890625,
          -19.11328887939453,
          -29.056936264038086,
          -26.244333267211914,
          -33.491363525390625,
          26.906719207763672,
          14.367016792297363,
          -27.548383712768555,
          -21.8609561920166,
          -30.45444107055664,
          -29.71660614013672,
          -32.59981918334961,
          -24.873634338378906,
          -29.394447326660156,
          -20.968870162963867,
          -30.50568199157715,
          -31.15275001525879,
          -32.44898986816406,
          -38.842098236083984,
          -27.052658081054688,
          -30.16082763671875,
          7.826223850250244,
          1.5770527124404907,
          -25.968690872192383,
          2.0737006664276123,
          -26.74846649169922,
          -23.5512752532959,
          28.75929069519043,
          -12.30805778503418,
          -27.55755043029785,
          25.586563110351562,
          -27.325956344604492,
          -28.20547103881836,
          -29.555261611938477,
          -31.025373458862305,
          -40.99747085571289,
          2.4882826805114746,
          15.981400489807129,
          -25.05320167541504,
          -12.437424659729004,
          20.559837341308594,
          -34.8801383972168,
          -34.00148010253906,
          -28.53421401977539,
          -29.730363845825195,
          -31.039499282836914,
          -27.935731887817383,
          -33.65406036376953,
          0.10448478907346725,
          -27.503124237060547,
          -35.38064956665039,
          1.617825984954834,
          -24.978918075561523,
          22.516542434692383,
          -28.48789405822754,
          -30.933900833129883,
          -37.47652053833008,
          -30.014888763427734,
          -25.988494873046875,
          -6.07628870010376,
          -32.77052307128906,
          -28.541650772094727,
          10.17165470123291,
          -24.905364990234375,
          -23.669532775878906,
          -31.92435646057129,
          28.43124771118164,
          23.642730712890625,
          18.597381591796875,
          3.902364730834961,
          -32.63029861450195,
          -26.508939743041992,
          -31.06199836730957,
          17.077293395996094,
          -5.633724689483643,
          -29.526660919189453,
          -31.544719696044922,
          6.966829299926758,
          -31.034717559814453,
          21.11432647705078,
          -16.357385635375977,
          -28.44740104675293,
          -16.155170440673828,
          -25.437904357910156,
          21.238128662109375,
          10.028111457824707,
          -29.1649227142334,
          -27.406230926513672,
          27.526418685913086,
          -27.552352905273438,
          -1.703017234802246,
          -30.6088924407959,
          -28.455934524536133,
          -23.842695236206055,
          -11.282820701599121,
          -28.683921813964844,
          -34.330650329589844,
          -10.02205753326416,
          -32.38732147216797,
          -33.07543182373047,
          -10.141770362854004,
          31.704360961914062,
          -26.152782440185547,
          -22.992372512817383,
          -20.9737548828125,
          -26.95254898071289,
          -21.965879440307617,
          -28.19436264038086,
          -34.12173080444336,
          -31.517669677734375,
          -34.634910583496094,
          -6.652742862701416,
          -24.43401527404785,
          -25.127466201782227,
          -21.591297149658203,
          -28.65675926208496,
          -38.57167434692383,
          6.371105194091797,
          -30.248432159423828,
          15.51003360748291,
          -13.828064918518066,
          -33.796051025390625,
          14.538739204406738,
          8.981937408447266,
          -26.89943504333496,
          18.269298553466797,
          -35.61373519897461,
          -25.411985397338867,
          -29.429475784301758,
          -31.57607650756836,
          -22.841453552246094,
          -26.5493106842041,
          30.037437438964844,
          -32.7674560546875,
          22.22140121459961,
          -28.72551918029785,
          -30.868249893188477,
          -38.09174346923828,
          -27.77339744567871,
          -33.405494689941406,
          -33.667640686035156,
          -25.448009490966797,
          -31.950714111328125,
          -32.54667282104492,
          -35.00052261352539,
          -27.394548416137695,
          30.62948226928711,
          -32.68544006347656,
          -30.904382705688477,
          -13.998412132263184,
          24.89458465576172,
          -1.9493610858917236,
          -30.19827651977539,
          35.89767074584961,
          -30.374263763427734,
          12.345236778259277,
          -31.04570770263672,
          22.258275985717773,
          -10.626297950744629,
          -32.942718505859375,
          -9.598188400268555,
          3.7688450813293457,
          -27.89313507080078,
          -25.86223793029785,
          26.21164894104004,
          -6.5701494216918945,
          -22.637083053588867,
          7.0008769035339355,
          -28.34675407409668,
          -25.838838577270508,
          -30.529417037963867,
          -28.69985008239746,
          -20.273117065429688,
          -26.246868133544922,
          -27.111576080322266,
          -30.76430892944336,
          16.731550216674805,
          5.211043357849121,
          -29.544462203979492,
          -4.816101551055908,
          18.587482452392578,
          12.76755142211914,
          27.985715866088867,
          -13.146656036376953,
          -25.24820327758789,
          -27.25958251953125,
          7.203540802001953,
          4.981253147125244,
          -36.95901107788086,
          -40.66764450073242,
          -31.989229202270508,
          32.54636001586914,
          -28.77714729309082,
          -31.280996322631836,
          -36.4720573425293,
          -35.91699981689453,
          -30.53593635559082,
          25.713947296142578,
          2.560422420501709,
          -19.685991287231445,
          -28.031450271606445,
          -21.515695571899414,
          -30.08551788330078,
          -31.8877010345459,
          3.92236590385437,
          -34.251373291015625,
          -11.959127426147461,
          -27.961875915527344,
          -24.77788543701172,
          -25.675024032592773,
          -25.574668884277344,
          -30.3431339263916,
          29.090044021606445,
          -33.20097351074219,
          29.144268035888672,
          -36.41689682006836,
          -24.145660400390625,
          -1.5580083131790161,
          -30.57010269165039,
          14.129974365234375,
          28.835371017456055,
          -28.793228149414062,
          -26.67263412475586,
          16.654203414916992,
          -7.612203598022461,
          -23.891374588012695,
          25.93123435974121,
          -32.291473388671875,
          18.066884994506836,
          15.504273414611816,
          12.029526710510254,
          12.053119659423828,
          28.47640037536621,
          -24.043785095214844,
          18.08612060546875,
          -22.93216896057129,
          33.387142181396484,
          -24.249311447143555,
          29.4842586517334,
          -26.13263511657715,
          -27.369142532348633,
          -34.82500457763672,
          -25.30413818359375,
          -28.4180908203125,
          -27.069805145263672,
          -25.06918716430664,
          -27.932453155517578,
          26.32581901550293,
          -34.58052062988281,
          14.311516761779785,
          -34.82635498046875,
          -5.521028518676758,
          -37.083885192871094,
          0.02506803721189499,
          -34.01310348510742,
          11.16883659362793,
          -31.521198272705078,
          12.851719856262207,
          19.282066345214844,
          -26.44841766357422,
          21.04136848449707,
          -33.172401428222656,
          -26.948070526123047,
          -34.21195983886719,
          31.374065399169922,
          -1.5428025722503662,
          -9.198793411254883,
          -27.955577850341797,
          -36.280670166015625,
          -23.807498931884766,
          -29.370248794555664,
          -34.32368087768555,
          -35.306983947753906,
          -30.594959259033203,
          -32.62689971923828,
          -18.655786514282227,
          -23.394878387451172,
          1.3385121822357178,
          28.48560333251953,
          -27.173059463500977,
          -37.24667739868164,
          -27.176528930664062,
          -37.47665023803711,
          -12.387351036071777,
          -12.674437522888184,
          8.226573944091797,
          28.43757438659668,
          -4.525167942047119,
          -35.55401611328125,
          -26.16409683227539,
          -31.40056037902832,
          -36.59829330444336,
          -4.992786407470703,
          -33.45435333251953,
          -25.103256225585938,
          -7.597744941711426,
          -35.13250732421875,
          -29.71152114868164,
          -26.7626895904541,
          -25.406282424926758,
          4.142411708831787,
          -1.304663896560669,
          -30.164796829223633,
          -16.28254508972168,
          -33.35129928588867,
          -26.619354248046875,
          -33.220733642578125,
          -30.869548797607422,
          -32.20988845825195,
          31.473628997802734,
          -24.290889739990234
         ],
         "yaxis": "y"
        },
        {
         "hovertemplate": "language=Odia<br>tsne1=%{x}<br>tsne2=%{y}<extra></extra>",
         "legendgroup": "Odia",
         "marker": {
          "color": "#B6E880",
          "symbol": "circle"
         },
         "mode": "markers",
         "name": "Odia",
         "showlegend": true,
         "type": "scattergl",
         "x": [
          27.043180465698242,
          -30.06148910522461,
          -18.838085174560547,
          32.76169204711914,
          40.5488166809082,
          9.725356101989746,
          -1.6224232912063599,
          12.235821723937988,
          -59.70241165161133,
          50.884159088134766,
          44.74764633178711,
          -22.84260368347168,
          27.830204010009766,
          41.24334716796875,
          -30.886655807495117,
          -33.26953887939453,
          41.129886627197266,
          -54.1121940612793,
          33.64781951904297,
          16.319141387939453,
          -0.6407682299613953,
          -44.62593460083008,
          -53.15206527709961,
          -35.780330657958984,
          42.43772506713867,
          32.8497428894043,
          10.4227933883667,
          29.659038543701172,
          -14.688558578491211,
          -23.199729919433594,
          -47.168846130371094,
          44.94807052612305,
          26.296958923339844,
          40.20471954345703,
          -21.578113555908203,
          34.25863265991211,
          15.536197662353516,
          -60.28270721435547,
          -53.04604721069336,
          46.32710266113281,
          -58.140872955322266,
          1.6838886737823486,
          -48.96622848510742,
          -10.083501815795898,
          40.86604309082031,
          51.33458709716797,
          45.71088790893555,
          39.52065658569336,
          -14.163928985595703,
          11.535727500915527,
          23.104448318481445,
          15.501867294311523,
          -60.91232681274414,
          -20.588411331176758,
          50.960994720458984,
          -60.28466796875,
          10.4027099609375,
          47.10996627807617,
          -41.84639358520508,
          -21.35329818725586,
          -57.40248107910156,
          35.10578536987305,
          -13.792343139648438,
          47.646759033203125,
          -55.49619674682617,
          48.39937210083008,
          -12.50248908996582,
          54.68278121948242,
          -42.98655319213867,
          -31.588239669799805,
          34.21638107299805,
          9.367486000061035,
          4.947800636291504,
          -48.19558334350586,
          22.994625091552734,
          -41.45737075805664,
          3.5727756023406982,
          -59.49208068847656,
          25.242860794067383,
          14.671815872192383,
          -19.95978546142578,
          -6.957950115203857,
          39.789337158203125,
          -41.41222381591797,
          -16.65543556213379,
          -61.01552963256836,
          6.674722194671631,
          50.37187957763672,
          -21.95669937133789,
          49.67845153808594,
          38.45365524291992,
          -50.618751525878906,
          -60.54313278198242,
          -49.758399963378906,
          7.795054912567139,
          53.28717041015625,
          46.975303649902344,
          -28.292381286621094,
          40.106239318847656,
          -43.69992446899414,
          -53.06221008300781,
          6.705756187438965,
          -0.3454153835773468,
          4.771099090576172,
          49.35934066772461,
          53.418155670166016,
          -59.98029708862305,
          -43.82488250732422,
          -29.56593894958496,
          9.68395709991455,
          53.90055465698242,
          -14.851040840148926,
          7.816452503204346,
          49.54439163208008,
          44.938358306884766,
          -26.392545700073242,
          -40.94894790649414,
          46.51505661010742,
          26.433862686157227,
          -7.130698204040527,
          -45.50338363647461,
          39.32218933105469,
          47.97663116455078,
          -54.954620361328125,
          24.635868072509766,
          40.68239974975586,
          -33.84055709838867,
          30.605052947998047,
          40.58415222167969,
          -9.232008934020996,
          -34.87894058227539,
          4.623305320739746,
          16.510330200195312,
          19.89522933959961,
          40.22993850708008,
          -28.673795700073242,
          -47.206451416015625,
          6.318863391876221,
          9.807623863220215,
          13.935381889343262,
          -49.27365493774414,
          -6.534270763397217,
          0.3161156177520752,
          15.064774513244629,
          47.82350158691406,
          3.1762945652008057,
          23.490447998046875,
          4.297492980957031,
          -59.79545211791992,
          -55.168479919433594,
          -57.1285514831543,
          42.28590393066406,
          50.250709533691406,
          46.69914627075195,
          13.658746719360352,
          -59.23486328125,
          -40.816097259521484,
          -1.2191243171691895,
          17.457996368408203,
          9.781152725219727,
          49.46516036987305,
          -21.867408752441406,
          -11.374933242797852,
          -21.320646286010742,
          -34.84813690185547,
          45.46661376953125,
          47.687469482421875,
          -59.842002868652344,
          -19.01788330078125,
          10.502239227294922,
          -12.57590389251709,
          8.253035545349121,
          42.17892074584961,
          4.405139446258545,
          -38.52606964111328,
          12.92252254486084,
          32.72730255126953,
          11.870344161987305,
          -1.2716009616851807,
          46.091182708740234,
          -12.197704315185547,
          43.69976806640625,
          -27.630836486816406,
          6.65040397644043,
          -38.13451385498047,
          29.582767486572266,
          39.72585678100586,
          15.063701629638672,
          -67.124755859375,
          42.84238815307617,
          46.977352142333984,
          -8.010875701904297,
          23.14271354675293,
          -45.743858337402344,
          -31.429683685302734,
          -19.99047088623047,
          -18.23359489440918,
          -61.340049743652344,
          -65.45567321777344,
          41.22856521606445,
          15.75955867767334,
          -14.1802339553833,
          -47.29244613647461,
          14.18043327331543,
          -50.39847946166992,
          43.93290328979492,
          -52.8460807800293,
          -60.91210174560547,
          -55.5802001953125,
          52.227230072021484,
          -39.9681282043457,
          43.235023498535156,
          26.09665298461914,
          7.722644805908203,
          7.140510082244873,
          -43.201759338378906,
          40.78300857543945,
          55.65658187866211,
          -6.299899101257324,
          27.447036743164062,
          14.981841087341309,
          14.533658981323242,
          46.020938873291016,
          -15.803735733032227,
          -49.64979934692383,
          -14.562090873718262,
          -15.203969955444336,
          49.61958312988281,
          23.502580642700195,
          -7.861560344696045,
          -36.54609680175781,
          3.635507822036743,
          -48.397979736328125,
          -52.44322967529297,
          48.682979583740234,
          43.853031158447266,
          -28.595178604125977,
          9.01431941986084,
          48.435813903808594,
          46.61608123779297,
          49.47712326049805,
          51.8888053894043,
          27.525358200073242,
          17.7040958404541,
          -0.8508572578430176,
          41.7263298034668,
          51.47346115112305,
          -12.083172798156738,
          -43.051090240478516,
          -37.71465301513672,
          -6.252654552459717,
          47.89128494262695,
          41.188026428222656,
          -25.94748306274414,
          42.29020309448242,
          50.23938751220703,
          -60.13651657104492,
          -35.914955139160156,
          53.120445251464844,
          -8.579428672790527,
          -18.77402687072754,
          42.142616271972656,
          12.114917755126953,
          38.36091232299805,
          -28.652538299560547,
          -48.79514694213867,
          -50.039520263671875,
          -35.4117431640625,
          41.556697845458984,
          52.34978103637695,
          19.38499641418457,
          1.4585016965866089,
          -38.585147857666016,
          8.925544738769531,
          4.466987609863281,
          -65.24411010742188,
          57.72246170043945,
          -59.53667068481445,
          -26.991180419921875,
          18.91645050048828,
          45.56021499633789,
          15.977173805236816,
          10.96057415008545,
          -12.170844078063965,
          42.032386779785156,
          25.52045440673828,
          48.98429489135742,
          11.7987642288208,
          -42.25126266479492,
          -28.378746032714844,
          46.41149139404297,
          49.05499267578125,
          20.826465606689453,
          -65.6229476928711,
          34.799888610839844,
          16.699979782104492,
          47.74827575683594,
          2.9167964458465576,
          -41.81626892089844,
          -12.997366905212402,
          14.247891426086426,
          50.35753631591797,
          -63.792179107666016,
          11.974780082702637,
          19.900432586669922,
          -4.138584613800049,
          30.17776870727539,
          27.69565200805664,
          29.62246322631836,
          -39.21845626831055,
          -19.05750846862793,
          9.365374565124512,
          16.32663345336914,
          -55.44621276855469,
          2.29904842376709,
          7.402961254119873,
          19.01620864868164,
          -22.870861053466797,
          35.12663269042969,
          47.55994415283203,
          34.62904357910156,
          36.14262390136719,
          44.71748352050781,
          -5.579401016235352,
          18.276344299316406,
          15.585103034973145,
          -47.42295455932617,
          -15.21518325805664,
          -13.848247528076172,
          1.195188045501709,
          19.78347396850586,
          42.927398681640625,
          35.426151275634766,
          -40.59994888305664,
          44.68039321899414,
          47.94680404663086,
          21.956092834472656,
          -23.35248565673828,
          -19.786386489868164,
          -36.60440444946289,
          47.963138580322266,
          11.015844345092773,
          -55.37248229980469,
          -19.831546783447266,
          -40.08531188964844,
          48.65165710449219,
          -42.72112274169922,
          13.647261619567871,
          1.6102977991104126,
          33.53374099731445,
          14.55420207977295,
          8.265908241271973,
          -42.11294174194336,
          -41.10095977783203,
          47.00654602050781,
          19.356534957885742,
          32.56948471069336,
          2.7819082736968994,
          6.60389518737793,
          -2.5135600566864014,
          6.835074424743652,
          -33.55546188354492,
          41.57647705078125,
          -0.7052593231201172,
          9.91131591796875
         ],
         "xaxis": "x",
         "y": [
          -12.349703788757324,
          15.604632377624512,
          20.43869400024414,
          11.974517822265625,
          21.70918846130371,
          34.10852813720703,
          31.663944244384766,
          -25.761873245239258,
          6.489029407501221,
          -2.6018574237823486,
          -22.53009605407715,
          3.2532155513763428,
          -19.02605628967285,
          -14.097737312316895,
          10.173382759094238,
          12.653940200805664,
          -11.792919158935547,
          28.884235382080078,
          29.95636558532715,
          28.712818145751953,
          10.544427871704102,
          21.439773559570312,
          18.759986877441406,
          21.742652893066406,
          24.022396087646484,
          32.73580551147461,
          23.660823822021484,
          -24.5352840423584,
          17.435823440551758,
          4.711926460266113,
          19.444334030151367,
          17.865203857421875,
          -20.330211639404297,
          24.419965744018555,
          -1.777662754058838,
          24.364837646484375,
          -12.23758316040039,
          1.4401699304580688,
          18.77029800415039,
          25.843534469604492,
          16.570781707763672,
          25.670873641967773,
          30.022794723510742,
          15.024559020996094,
          -19.48273468017578,
          14.331457138061523,
          30.400634765625,
          -19.743818283081055,
          14.475944519042969,
          -23.754182815551758,
          10.251684188842773,
          26.860891342163086,
          2.077875852584839,
          -13.732795715332031,
          -18.69782257080078,
          1.4370653629302979,
          30.730093002319336,
          -17.695972442626953,
          34.21525955200195,
          -4.654012680053711,
          16.28327751159668,
          35.91261672973633,
          -21.41794204711914,
          28.386178970336914,
          20.872838973999023,
          28.526561737060547,
          -3.736055374145508,
          6.9638166427612305,
          0.8643862009048462,
          20.851585388183594,
          2.6821372509002686,
          -27.676748275756836,
          11.927396774291992,
          1.3353544473648071,
          -15.804400444030762,
          26.520244598388672,
          11.735817909240723,
          11.766532897949219,
          25.66046905517578,
          -26.626073837280273,
          -27.89470100402832,
          13.195840835571289,
          22.153072357177734,
          31.089784622192383,
          -9.643991470336914,
          8.149588584899902,
          25.853710174560547,
          -0.6025753617286682,
          17.77235984802246,
          12.895730972290039,
          25.60556983947754,
          2.1182258129119873,
          1.1839289665222168,
          18.819032669067383,
          26.33857536315918,
          16.180458068847656,
          8.008740425109863,
          12.13320255279541,
          -3.1282036304473877,
          1.8659230470657349,
          24.343788146972656,
          32.664085388183594,
          10.54073715209961,
          12.004898071289062,
          13.808534622192383,
          16.032033920288086,
          18.83195686340332,
          34.111968994140625,
          19.73194122314453,
          15.140398979187012,
          14.94286060333252,
          10.947623252868652,
          -30.270641326904297,
          0.9863438010215759,
          25.57346534729004,
          19.42037010192871,
          3.5831048488616943,
          13.550094604492188,
          -20.7900447845459,
          13.011178970336914,
          29.858718872070312,
          28.291622161865234,
          11.10032844543457,
          0.6393935084342957,
          -21.055849075317383,
          -14.307717323303223,
          3.6625754833221436,
          31.39072036743164,
          20.584169387817383,
          -28.02029800415039,
          16.383338928222656,
          11.561674118041992,
          27.138198852539062,
          22.321989059448242,
          21.853116989135742,
          6.752167224884033,
          24.09035873413086,
          27.615842819213867,
          21.44113540649414,
          -25.325284957885742,
          16.050933837890625,
          15.92015552520752,
          4.519350051879883,
          25.786958694458008,
          -9.012882232666016,
          27.412460327148438,
          28.86258316040039,
          25.578773498535156,
          23.756113052368164,
          2.644144296646118,
          20.092945098876953,
          -12.577519416809082,
          13.419269561767578,
          -1.1156628131866455,
          30.744213104248047,
          12.669885635375977,
          10.660243034362793,
          25.493408203125,
          28.186237335205078,
          33.93617248535156,
          -0.3867892622947693,
          2.9537436962127686,
          6.984346866607666,
          7.918787479400635,
          30.034812927246094,
          5.43811559677124,
          -3.0841898918151855,
          7.91184139251709,
          -11.873396873474121,
          23.943328857421875,
          -18.694368362426758,
          26.124494552612305,
          -13.81075382232666,
          17.32196617126465,
          24.973817825317383,
          26.707542419433594,
          12.030677795410156,
          29.797157287597656,
          18.37607192993164,
          28.75655746459961,
          -19.315494537353516,
          -6.57468843460083,
          -15.332966804504395,
          16.770248413085938,
          25.47239112854004,
          25.25010108947754,
          -14.5626220703125,
          34.2355842590332,
          18.407459259033203,
          22.6038818359375,
          -5.862394332885742,
          1.6188936233520508,
          20.171478271484375,
          19.12814712524414,
          9.019153594970703,
          12.875530242919922,
          -19.274293899536133,
          8.015746116638184,
          17.632646560668945,
          26.096933364868164,
          4.870306491851807,
          6.779811859130859,
          18.710792541503906,
          30.428091049194336,
          20.60015296936035,
          29.666486740112305,
          14.370976448059082,
          18.676708221435547,
          16.002676010131836,
          16.284404754638672,
          18.323711395263672,
          25.520816802978516,
          20.369539260864258,
          14.199841499328613,
          27.58854866027832,
          0.8570394515991211,
          29.071962356567383,
          7.089818954467773,
          10.094477653503418,
          22.590843200683594,
          -22.708267211914062,
          24.493995666503906,
          -0.6100073456764221,
          -24.65721321105957,
          16.904163360595703,
          -9.884016990661621,
          6.935184955596924,
          -1.5831748247146606,
          28.291290283203125,
          4.934598922729492,
          11.952436447143555,
          23.603487014770508,
          16.206220626831055,
          15.276947975158691,
          -1.4547650814056396,
          14.39809513092041,
          -10.797744750976562,
          22.759536743164062,
          7.431612491607666,
          13.082566261291504,
          6.747354507446289,
          -2.238878011703491,
          36.26637268066406,
          -22.04672622680664,
          -10.756608009338379,
          25.879045486450195,
          1.29373300075531,
          -21.7643985748291,
          9.541247367858887,
          14.418813705444336,
          -19.376007080078125,
          -14.242387771606445,
          22.611528396606445,
          19.061138153076172,
          21.836626052856445,
          -1.4295574426651,
          17.43632698059082,
          14.035667419433594,
          3.8266541957855225,
          -21.439184188842773,
          21.028650283813477,
          -6.031601428985596,
          20.140810012817383,
          26.683467864990234,
          13.380762100219727,
          18.451366424560547,
          2.632350206375122,
          29.515676498413086,
          -19.55880355834961,
          1.5150786638259888,
          29.25586700439453,
          12.113434791564941,
          27.265945434570312,
          -23.335773468017578,
          26.87474822998047,
          18.092069625854492,
          2.8621912002563477,
          16.90464210510254,
          13.003971099853516,
          28.429859161376953,
          32.50124740600586,
          26.966251373291016,
          26.702890396118164,
          -20.90960693359375,
          -13.855095863342285,
          -37.41666793823242,
          8.619841575622559,
          28.160808563232422,
          31.46091651916504,
          20.961782455444336,
          25.85368537902832,
          -5.516404151916504,
          -10.754472732543945,
          17.695911407470703,
          26.707103729248047,
          24.642864227294922,
          28.11446762084961,
          23.580482482910156,
          20.610828399658203,
          -6.174534320831299,
          30.36321449279785,
          5.017294883728027,
          17.79851531982422,
          31.01296615600586,
          21.11680793762207,
          -13.450695991516113,
          -21.128435134887695,
          -22.556291580200195,
          17.42243003845215,
          32.56131362915039,
          18.202943801879883,
          32.102386474609375,
          29.713550567626953,
          28.034866333007812,
          23.191884994506836,
          27.633773803710938,
          -11.364967346191406,
          -7.386475563049316,
          -25.826326370239258,
          8.46546745300293,
          26.480239868164062,
          35.15140914916992,
          24.950298309326172,
          -21.07476043701172,
          18.023195266723633,
          28.418766021728516,
          26.6854190826416,
          0.5118216276168823,
          7.66363000869751,
          16.602127075195312,
          -5.342826843261719,
          25.926307678222656,
          -19.805259704589844,
          29.442838668823242,
          22.382112503051758,
          11.487887382507324,
          23.825557708740234,
          -20.26569175720215,
          -4.51231050491333,
          15.292064666748047,
          29.870288848876953,
          25.584989547729492,
          1.0636754035949707,
          9.52304744720459,
          32.65018081665039,
          6.521893501281738,
          -0.8058436512947083,
          31.72679328918457,
          16.307954788208008,
          11.877138137817383,
          1.671330451965332,
          22.086854934692383,
          4.344627380371094,
          11.300971031188965,
          1.2874274253845215,
          -15.07048225402832,
          22.304616928100586,
          29.73258399963379,
          15.209349632263184,
          -13.414121627807617,
          22.76556968688965,
          16.25127410888672,
          21.088083267211914,
          29.090085983276367,
          34.246246337890625
         ],
         "yaxis": "y"
        },
        {
         "hovertemplate": "language=Punjabi<br>tsne1=%{x}<br>tsne2=%{y}<extra></extra>",
         "legendgroup": "Punjabi",
         "marker": {
          "color": "#FF97FF",
          "symbol": "circle"
         },
         "mode": "markers",
         "name": "Punjabi",
         "showlegend": true,
         "type": "scattergl",
         "x": [
          45.232364654541016,
          -57.00556945800781,
          15.661563873291016,
          31.991762161254883,
          24.398645401000977,
          29.213481903076172,
          37.81927490234375,
          59.83477020263672,
          -35.88066482543945,
          32.367828369140625,
          30.243980407714844,
          32.78178024291992,
          -44.63848876953125,
          -47.81607437133789,
          -42.026100158691406,
          31.878280639648438,
          42.04270935058594,
          30.670202255249023,
          -31.665847778320312,
          -42.996437072753906,
          34.333560943603516,
          -41.03768539428711,
          36.9818115234375,
          -65.52928924560547,
          30.488983154296875,
          52.12938690185547,
          -37.382057189941406,
          19.375967025756836,
          38.95783233642578,
          38.83760070800781,
          37.95179748535156,
          28.687116622924805,
          42.475555419921875,
          -34.03168869018555,
          34.53839874267578,
          18.58716583251953,
          40.1645622253418,
          44.92939758300781,
          35.80574417114258,
          13.815788269042969,
          42.12961959838867,
          -39.5511360168457,
          -26.4088077545166,
          28.34600067138672,
          1.021540880203247,
          -24.53765296936035,
          -12.182435035705566,
          36.07354736328125,
          36.84614181518555,
          42.011558532714844,
          37.660240173339844,
          34.073768615722656,
          45.76847839355469,
          16.1939697265625,
          35.86463165283203,
          55.475830078125,
          37.38525390625,
          57.99492263793945,
          33.73929977416992,
          -12.962386131286621,
          27.618999481201172,
          -66.45700073242188,
          37.94430160522461,
          -6.617400169372559,
          15.980795860290527,
          26.645357131958008,
          -18.641538619995117,
          -21.179283142089844,
          24.807785034179688,
          16.210851669311523,
          6.594431400299072,
          28.13948631286621,
          33.91108703613281,
          -40.972286224365234,
          -25.538490295410156,
          25.81676483154297,
          18.46411895751953,
          29.868755340576172,
          38.50764465332031,
          43.35200500488281,
          -46.15324020385742,
          11.730950355529785,
          -12.239847183227539,
          51.002479553222656,
          47.116615295410156,
          7.48622465133667,
          33.51252746582031,
          39.43861389160156,
          38.20716857910156,
          32.86764144897461,
          -34.05862808227539,
          27.75819969177246,
          4.290029048919678,
          35.9548454284668,
          31.148828506469727,
          51.38230514526367,
          43.702392578125,
          -32.565269470214844,
          -54.38618087768555,
          41.812477111816406,
          32.62199401855469,
          33.52695846557617,
          29.640392303466797,
          47.81953811645508,
          -17.652767181396484,
          11.15337085723877,
          52.256229400634766,
          29.34015655517578,
          36.442806243896484,
          27.40790367126465,
          40.255157470703125,
          32.09656524658203,
          -21.44858169555664,
          14.554975509643555,
          33.52465057373047,
          16.125946044921875,
          37.85247802734375,
          39.20830535888672,
          35.4365234375,
          42.298309326171875,
          31.52813720703125,
          23.990249633789062,
          44.958683013916016,
          -14.54038143157959,
          19.12603187561035,
          -24.231645584106445,
          0.40207189321517944,
          30.641687393188477,
          -49.88393783569336,
          20.50372886657715,
          30.61795425415039,
          49.35026550292969,
          37.27704620361328,
          28.934898376464844,
          40.22331619262695,
          33.15449905395508,
          33.07180404663086,
          36.49922180175781,
          32.62794494628906,
          30.04583740234375,
          42.11536407470703,
          38.96971893310547,
          -49.29365921020508,
          37.41997146606445,
          -13.121143341064453,
          42.842308044433594,
          -36.60333251953125,
          -39.36167526245117,
          -11.913450241088867,
          41.10013961791992,
          -58.01470184326172,
          26.29745864868164,
          41.3223762512207,
          32.4426155090332,
          40.5072135925293,
          45.107059478759766,
          38.35113525390625,
          34.033721923828125,
          28.274555206298828,
          16.874610900878906,
          32.12159729003906,
          39.27159118652344,
          29.24139404296875,
          42.15806198120117,
          33.05170822143555,
          18.12529182434082,
          -18.674604415893555,
          37.57902908325195,
          42.74224853515625,
          -47.33188247680664,
          -65.82588195800781,
          8.943948745727539,
          29.183502197265625,
          -12.0227689743042,
          -13.801421165466309,
          41.45745849609375,
          -23.461332321166992,
          26.094188690185547,
          -22.10546875,
          35.293521881103516,
          45.81142807006836,
          34.09711456298828,
          31.1804141998291,
          25.656898498535156,
          40.922142028808594,
          -48.25655746459961,
          29.575773239135742,
          43.62120819091797,
          -41.63399124145508,
          32.692169189453125,
          19.994319915771484,
          30.50432777404785,
          24.790660858154297,
          -25.158912658691406,
          43.6040153503418,
          34.48191452026367,
          21.949993133544922,
          34.05935287475586,
          -45.88475799560547,
          18.240327835083008,
          32.626705169677734,
          21.92925453186035,
          -44.014713287353516,
          36.1847038269043,
          32.36551284790039,
          35.43856430053711,
          -61.038333892822266,
          34.0562858581543,
          -18.571584701538086,
          -17.68902587890625,
          33.10042190551758,
          -55.444942474365234,
          -27.573389053344727,
          33.43537521362305,
          20.21218490600586,
          4.127126693725586,
          -11.644221305847168,
          31.036169052124023,
          30.738222122192383,
          22.811357498168945,
          32.973419189453125,
          -50.31562042236328,
          31.540428161621094,
          17.968605041503906,
          25.12359619140625,
          30.140888214111328,
          19.75240707397461,
          44.78377914428711,
          37.750083923339844,
          38.52484130859375,
          27.8175048828125,
          31.99065589904785,
          32.09363555908203,
          31.423458099365234,
          32.92118453979492,
          -21.64263343811035,
          38.481563568115234,
          31.265193939208984,
          30.743608474731445,
          -35.738948822021484,
          31.33338737487793,
          37.383056640625,
          44.77568817138672,
          -36.46187973022461,
          -44.31370544433594,
          20.573347091674805,
          -62.489593505859375,
          38.32284927368164,
          -12.609724998474121,
          35.038692474365234,
          41.44710159301758,
          40.162132263183594,
          30.880355834960938,
          27.732215881347656,
          30.921049118041992,
          39.94807052612305,
          -20.310226440429688,
          -8.441438674926758,
          42.45069122314453,
          25.50741195678711,
          35.011138916015625,
          31.29094696044922,
          29.372295379638672,
          41.7633171081543,
          38.87794494628906,
          46.400177001953125,
          39.77384567260742,
          -59.02105712890625,
          39.4957389831543,
          16.29386329650879,
          7.847532272338867,
          38.331275939941406,
          31.44045639038086,
          -10.46375846862793,
          18.593677520751953,
          28.750566482543945,
          35.4753532409668,
          31.260835647583008,
          29.11929702758789,
          35.65179443359375,
          33.134117126464844,
          42.65890884399414,
          29.83432960510254,
          -15.928789138793945,
          26.778085708618164,
          39.91691970825195,
          34.37081527709961,
          48.566463470458984,
          44.283355712890625,
          44.42683029174805,
          -46.58940124511719,
          -28.209476470947266,
          34.49543762207031,
          28.319915771484375,
          34.63658905029297,
          29.514833450317383,
          35.665870666503906,
          31.087345123291016,
          -14.352726936340332,
          35.522464752197266,
          33.96742630004883,
          30.95966339111328,
          33.4567756652832,
          21.20486831665039,
          29.3747501373291,
          11.194055557250977,
          29.291399002075195,
          34.64578628540039,
          13.319724082946777,
          -39.176063537597656,
          -57.29947280883789,
          34.764183044433594,
          19.824800491333008,
          -9.938620567321777,
          32.322357177734375,
          36.659881591796875,
          40.573585510253906,
          34.01530838012695,
          29.505691528320312,
          -9.813370704650879,
          51.56067657470703,
          -57.123199462890625,
          32.06464767456055,
          24.268192291259766,
          47.592857360839844,
          -49.278038024902344,
          32.74077606201172,
          -27.21257209777832,
          17.824254989624023,
          7.648190975189209,
          -47.457942962646484,
          47.46395492553711,
          -33.9485969543457,
          25.430702209472656,
          38.90193176269531,
          44.706939697265625,
          34.88810348510742,
          -24.14827537536621,
          30.92740821838379,
          42.383914947509766,
          5.023339748382568,
          -60.54313278198242,
          37.69944381713867,
          36.76091003417969,
          30.317611694335938,
          22.628664016723633,
          46.452571868896484,
          -37.62343215942383,
          -18.538040161132812,
          45.593082427978516,
          38.63046646118164,
          -10.555814743041992,
          35.15215301513672,
          -49.52912521362305,
          45.37961959838867,
          40.56748580932617,
          43.95219802856445,
          -2.43337345123291,
          -18.937198638916016,
          32.99072265625,
          -39.01105499267578,
          -66.30216217041016,
          38.47193908691406,
          34.663230895996094,
          36.358612060546875,
          31.487539291381836,
          40.13957214355469
         ],
         "xaxis": "x",
         "y": [
          19.978641510009766,
          8.910778999328613,
          -19.56673240661621,
          -9.420363426208496,
          -11.151225090026855,
          -0.6669292449951172,
          0.4445399045944214,
          -1.124040961265564,
          24.370302200317383,
          -20.933923721313477,
          6.875209808349609,
          3.168910026550293,
          21.368709564208984,
          21.998912811279297,
          11.252981185913086,
          7.230823993682861,
          0.03046884573996067,
          -3.9321188926696777,
          27.841402053833008,
          30.27909278869629,
          -16.972158432006836,
          25.023189544677734,
          -4.420991897583008,
          16.829578399658203,
          -1.6041920185089111,
          -7.33137321472168,
          17.757017135620117,
          -1.662855625152588,
          14.959638595581055,
          14.267959594726562,
          10.464122772216797,
          -12.057435035705566,
          15.703115463256836,
          -3.0551235675811768,
          -4.802739143371582,
          22.469478607177734,
          14.211604118347168,
          14.945180892944336,
          14.537708282470703,
          13.660935401916504,
          9.360316276550293,
          -0.9347614049911499,
          9.733213424682617,
          -8.061300277709961,
          14.635400772094727,
          4.067963600158691,
          -2.470885992050171,
          -2.883216381072998,
          1.3867707252502441,
          15.026290893554688,
          6.97051477432251,
          -8.737359046936035,
          28.252168655395508,
          4.378580093383789,
          3.0127758979797363,
          -9.145215034484863,
          -2.0022337436676025,
          -1.5603833198547363,
          -1.6072336435317993,
          -3.4462199211120605,
          -13.76918888092041,
          17.283100128173828,
          8.163994789123535,
          -13.470606803894043,
          -21.833072662353516,
          1.9144556522369385,
          5.485527992248535,
          -20.18512535095215,
          -13.354036331176758,
          11.645215034484863,
          -31.60333824157715,
          -14.283529281616211,
          -4.494471549987793,
          4.169665813446045,
          12.077853202819824,
          1.243338942527771,
          22.492412567138672,
          -13.80774974822998,
          11.62157917022705,
          13.958341598510742,
          18.341094970703125,
          -28.9279842376709,
          15.17916488647461,
          -6.893073558807373,
          16.70262908935547,
          -26.529577255249023,
          9.473981857299805,
          14.376190185546875,
          -4.733827590942383,
          9.774999618530273,
          12.689536094665527,
          38.6303825378418,
          11.6091890335083,
          -1.4220905303955078,
          -29.953275680541992,
          8.454530715942383,
          6.073646068572998,
          29.1835994720459,
          15.52331829071045,
          9.239235877990723,
          -4.9601006507873535,
          30.116762161254883,
          4.277580261230469,
          -14.454713821411133,
          0.4216916859149933,
          -28.637258529663086,
          -7.309182643890381,
          -12.15672779083252,
          7.24200963973999,
          4.154571533203125,
          -0.7455925941467285,
          -7.795894622802734,
          16.011756896972656,
          -14.727193832397461,
          -9.307578086853027,
          -19.502187728881836,
          -8.197511672973633,
          -8.237040519714355,
          -0.0345432311296463,
          14.814993858337402,
          -4.495596885681152,
          -29.173688888549805,
          16.26467514038086,
          23.743444442749023,
          -15.408443450927734,
          12.777168273925781,
          5.486416816711426,
          2.44913387298584,
          11.693305015563965,
          -12.977210998535156,
          -6.408868312835693,
          -7.56261682510376,
          -0.7231913805007935,
          -11.529601097106934,
          -10.238676071166992,
          -7.319870471954346,
          -0.7866902947425842,
          -15.550006866455078,
          16.73946189880371,
          -5.388779640197754,
          18.123302459716797,
          7.117305755615234,
          16.45680046081543,
          0.8816788196563721,
          -16.27260398864746,
          17.195646286010742,
          -28.05258560180664,
          10.573465347290039,
          -17.531208038330078,
          5.633333683013916,
          16.40410041809082,
          13.329862594604492,
          4.425461769104004,
          7.903969764709473,
          15.195438385009766,
          15.025813102722168,
          -10.371810913085938,
          -7.861485004425049,
          4.702949523925781,
          13.963101387023926,
          -15.452677726745605,
          2.3607256412506104,
          -0.6148408651351929,
          16.49010467529297,
          1.2055292129516602,
          18.11586570739746,
          20.459794998168945,
          9.826154708862305,
          15.273232460021973,
          24.70469093322754,
          17.157197952270508,
          -23.57821273803711,
          31.630159378051758,
          3.971346378326416,
          24.043458938598633,
          14.635459899902344,
          10.785965919494629,
          1.7836174964904785,
          -15.446012496948242,
          -2.586655378341675,
          19.59201431274414,
          -10.181015968322754,
          -1.7820401191711426,
          -14.407172203063965,
          -11.253931045532227,
          1.281189203262329,
          4.352827072143555,
          17.737342834472656,
          12.456006050109863,
          2.059652805328369,
          -13.382660865783691,
          2.9552788734436035,
          -13.042612075805664,
          -11.35936164855957,
          -21.34529685974121,
          -4.716946125030518,
          -9.455378532409668,
          -3.1619248390197754,
          28.799514770507812,
          -26.94963264465332,
          -6.311056613922119,
          13.292113304138184,
          33.1823616027832,
          7.721421241760254,
          33.891536712646484,
          -1.5245088338851929,
          1.3351619243621826,
          0.8518499732017517,
          18.635255813598633,
          8.946121215820312,
          -0.36654654145240784,
          1.2483513355255127,
          12.2823486328125,
          1.1675081253051758,
          18.626785278320312,
          -15.089090347290039,
          0.8247348666191101,
          -2.6650030612945557,
          -8.84068775177002,
          -15.575227737426758,
          -6.139988422393799,
          22.430252075195312,
          5.6121625900268555,
          -12.718517303466797,
          0.09538045525550842,
          2.931272268295288,
          -12.812461853027344,
          15.218889236450195,
          13.792082786560059,
          -1.7179715633392334,
          -16.938472747802734,
          -0.6592867970466614,
          0.14174728095531464,
          7.277041435241699,
          -5.152737140655518,
          -4.089112758636475,
          12.741988182067871,
          -6.410384654998779,
          -4.000701904296875,
          30.83994483947754,
          -6.086295127868652,
          -7.90721321105957,
          16.94086456298828,
          16.713397979736328,
          20.409503936767578,
          11.809792518615723,
          16.525423049926758,
          -16.758895874023438,
          -2.4542367458343506,
          -2.3036766052246094,
          16.52175521850586,
          15.274149894714355,
          -29.384033203125,
          11.366716384887695,
          -2.658104658126831,
          -0.841305136680603,
          -16.232133865356445,
          2.956331253051758,
          19.952539443969727,
          -0.41340652108192444,
          0.1220998540520668,
          -10.165568351745605,
          3.511284589767456,
          -0.6054202318191528,
          -1.4200290441513062,
          31.21826171875,
          31.073074340820312,
          11.479893684387207,
          7.939156532287598,
          10.9439697265625,
          -13.457466125488281,
          -10.407594680786133,
          -12.313230514526367,
          -0.2276509404182434,
          -19.44513511657715,
          1.699143648147583,
          -3.645859956741333,
          6.962435245513916,
          2.785123825073242,
          -5.163559436798096,
          -2.175090789794922,
          24.119464874267578,
          -10.960960388183594,
          8.953391075134277,
          1.9683606624603271,
          3.143125057220459,
          -7.808332920074463,
          -7.258553981781006,
          23.510860443115234,
          7.145021915435791,
          21.31476402282715,
          10.71221923828125,
          -8.359749794006348,
          -10.834320068359375,
          7.655384063720703,
          -3.256751298904419,
          8.019255638122559,
          8.064075469970703,
          24.040616989135742,
          -5.9645094871521,
          -6.3467698097229,
          -8.607951164245605,
          0.06728445738554001,
          -14.808439254760742,
          16.90757942199707,
          -28.65296745300293,
          4.556425094604492,
          -1.252648949623108,
          13.689117431640625,
          21.214513778686523,
          1.510292410850525,
          -2.5513148307800293,
          15.227893829345703,
          5.995827674865723,
          -7.3666582107543945,
          -4.205336093902588,
          -10.730286598205566,
          -3.0739645957946777,
          5.298435211181641,
          -16.536380767822266,
          10.687500953674316,
          27.142309188842773,
          -9.71520709991455,
          -13.174858093261719,
          28.230972290039062,
          14.518160820007324,
          8.05660629272461,
          -22.98057746887207,
          -14.143754959106445,
          5.651138782501221,
          0.09919071942567825,
          15.075359344482422,
          15.824721336364746,
          -14.265111923217773,
          3.2940821647644043,
          8.06511116027832,
          -9.053921699523926,
          0.009432569146156311,
          -15.119776725769043,
          -9.086628913879395,
          -2.0206429958343506,
          1.1839289665222168,
          1.4156513214111328,
          0.1374528706073761,
          7.212803363800049,
          -14.031009674072266,
          -12.066913604736328,
          16.126008987426758,
          11.049633026123047,
          9.277582168579102,
          7.986855983734131,
          14.181097984313965,
          -15.75740909576416,
          21.867040634155273,
          15.640944480895996,
          15.518129348754883,
          3.2007901668548584,
          -17.92926025390625,
          5.872901916503906,
          -3.977269172668457,
          32.00699234008789,
          17.691530227661133,
          12.090048789978027,
          -7.365638256072998,
          2.4966514110565186,
          -24.98677635192871,
          16.128753662109375
         ],
         "yaxis": "y"
        },
        {
         "hovertemplate": "language=Tamil<br>tsne1=%{x}<br>tsne2=%{y}<extra></extra>",
         "legendgroup": "Tamil",
         "marker": {
          "color": "#FECB52",
          "symbol": "circle"
         },
         "mode": "markers",
         "name": "Tamil",
         "showlegend": true,
         "type": "scattergl",
         "x": [
          -27.81031608581543,
          -23.117788314819336,
          -24.726640701293945,
          -24.460132598876953,
          -27.809268951416016,
          -29.18253517150879,
          -20.27358055114746,
          -15.553922653198242,
          -9.84426498413086,
          -26.55220603942871,
          -29.93560028076172,
          -42.34524154663086,
          5.587376594543457,
          -8.309534072875977,
          -23.87908935546875,
          -18.803409576416016,
          -24.663028717041016,
          -22.217803955078125,
          -21.72330665588379,
          -27.85794448852539,
          -17.334239959716797,
          -26.299043655395508,
          -22.428226470947266,
          -49.3950309753418,
          -20.254657745361328,
          -32.77639389038086,
          -16.949079513549805,
          -66.14190673828125,
          -22.36855125427246,
          -31.895822525024414,
          -21.038921356201172,
          -23.252424240112305,
          -19.263456344604492,
          -24.717111587524414,
          -43.64372634887695,
          -29.710121154785156,
          -17.979990005493164,
          -49.35238265991211,
          -23.270503997802734,
          -51.55271530151367,
          -55.49542999267578,
          -25.98423957824707,
          29.883581161499023,
          46.78730010986328,
          -50.394535064697266,
          -28.944766998291016,
          -31.600706100463867,
          -27.058368682861328,
          -29.058177947998047,
          -20.904726028442383,
          -40.79035949707031,
          -17.600753784179688,
          -19.543716430664062,
          -26.25633430480957,
          -58.202354431152344,
          -22.133501052856445,
          -22.735353469848633,
          -41.6031608581543,
          -20.48982048034668,
          -27.120004653930664,
          -43.82680892944336,
          -23.028169631958008,
          -25.00786590576172,
          -16.911819458007812,
          -32.322906494140625,
          -13.340209007263184,
          -39.096885681152344,
          -23.553377151489258,
          -24.79862403869629,
          -24.79982566833496,
          -46.1994743347168,
          -61.39826202392578,
          -24.325498580932617,
          -22.796226501464844,
          -22.18456268310547,
          -24.472412109375,
          -20.61549949645996,
          -20.650562286376953,
          -17.44468116760254,
          -19.948089599609375,
          -28.618330001831055,
          -20.92305564880371,
          -28.65036964416504,
          -19.13756561279297,
          -20.926864624023438,
          -32.07868957519531,
          -22.314855575561523,
          -27.237049102783203,
          -27.73993682861328,
          -17.189725875854492,
          -38.6270866394043,
          -62.903072357177734,
          -64.636474609375,
          -18.195165634155273,
          -21.947128295898438,
          -29.587888717651367,
          -43.71749496459961,
          -21.673845291137695,
          21.354394912719727,
          -23.57651138305664,
          -27.83967399597168,
          -24.95416831970215,
          -56.365657806396484,
          -20.310976028442383,
          -27.820735931396484,
          -11.549853324890137,
          -47.4008903503418,
          -26.857120513916016,
          -20.780776977539062,
          -39.29757308959961,
          -9.7875394821167,
          -22.428617477416992,
          6.825825214385986,
          -44.81108093261719,
          -33.746089935302734,
          -26.605485916137695,
          -23.08324432373047,
          -24.773847579956055,
          45.092132568359375,
          -18.87821388244629,
          -26.983999252319336,
          -32.98388671875,
          -25.34722328186035,
          -32.00921630859375,
          -33.619171142578125,
          -22.195241928100586,
          -39.32910919189453,
          -27.791946411132812,
          -21.06517219543457,
          -30.999671936035156,
          -22.896873474121094,
          -31.41648292541504,
          -16.779142379760742,
          -54.87788391113281,
          -26.513273239135742,
          6.622364044189453,
          -24.64600372314453,
          -21.75926971435547,
          -39.714900970458984,
          -46.731910705566406,
          -19.964466094970703,
          -55.12356948852539,
          -41.31766891479492,
          -9.090727806091309,
          -28.824628829956055,
          -32.53309631347656,
          -21.589519500732422,
          5.000324726104736,
          -23.407377243041992,
          -18.62851905822754,
          -61.78966522216797,
          -36.02611541748047,
          -24.31810760498047,
          -56.84790802001953,
          -22.765018463134766,
          -21.887008666992188,
          -34.12752914428711,
          -40.15312576293945,
          -24.812414169311523,
          -20.11775779724121,
          -21.446863174438477,
          -19.1390438079834,
          -26.59842300415039,
          -0.6935686469078064,
          -21.723756790161133,
          -47.88921356201172,
          -58.627037048339844,
          -24.342405319213867,
          -21.92742347717285,
          -23.979581832885742,
          -24.423545837402344,
          -27.09276008605957,
          -27.74424934387207,
          -22.54676055908203,
          -20.734102249145508,
          -23.350927352905273,
          -17.047847747802734,
          -24.141029357910156,
          -51.60913848876953,
          -22.587539672851562,
          -42.994102478027344,
          -27.810585021972656,
          -26.250335693359375,
          -23.94997787475586,
          -57.61788558959961,
          -17.714075088500977,
          -44.37805938720703,
          -47.801239013671875,
          -22.025144577026367,
          -26.647972106933594,
          -33.98874282836914,
          -11.17618179321289,
          -21.926090240478516,
          -24.187231063842773,
          -20.402259826660156,
          -11.01012897491455,
          -22.181180953979492,
          -26.23944091796875,
          -25.938087463378906,
          -5.290573596954346,
          -43.53800582885742,
          -10.0324068069458,
          -19.695453643798828,
          -15.706416130065918,
          -30.649351119995117,
          -22.224597930908203,
          -30.744709014892578,
          -19.3273868560791,
          -23.471595764160156,
          -23.474756240844727,
          -56.50571060180664,
          -13.326080322265625,
          -31.522045135498047,
          -21.62675666809082,
          -25.535377502441406,
          -25.418481826782227,
          -12.125085830688477,
          -19.109893798828125,
          -22.28500747680664,
          -20.079463958740234,
          -29.450420379638672,
          -46.00390625,
          -20.37247657775879,
          -13.731224060058594,
          -25.742033004760742,
          -33.431819915771484,
          -21.49411964416504,
          -45.46430206298828,
          -21.40326690673828,
          10.436412811279297,
          -24.576854705810547,
          -23.96320915222168,
          -17.539304733276367,
          -15.955950736999512,
          -41.172550201416016,
          -38.41255187988281,
          5.651002883911133,
          -23.934894561767578,
          -50.83020782470703,
          13.843986511230469,
          -25.92879867553711,
          -20.821109771728516,
          -30.949281692504883,
          -27.312801361083984,
          -20.916027069091797,
          -22.86295509338379,
          -65.00745391845703,
          -28.48537254333496,
          -53.18757247924805,
          -21.87415313720703,
          -24.90961265563965,
          -23.471189498901367,
          -20.56747055053711,
          -23.414289474487305,
          -22.467191696166992,
          -55.288734436035156,
          -20.145153045654297,
          -36.722808837890625,
          -18.732698440551758,
          -11.419877052307129,
          -19.217086791992188,
          -23.440052032470703,
          -33.482078552246094,
          -15.407376289367676,
          -21.482830047607422,
          -29.398588180541992,
          -9.465885162353516,
          -29.941852569580078,
          32.18116760253906,
          -47.56636428833008,
          -47.405921936035156,
          -19.593852996826172,
          -60.90753936767578,
          -27.92011260986328,
          -31.836898803710938,
          -18.3342342376709,
          -31.310426712036133,
          -28.490304946899414,
          -23.05094337463379,
          -13.625391006469727,
          -19.40104866027832,
          -20.479642868041992,
          -21.2772216796875,
          -19.32425308227539,
          -34.396690368652344,
          -45.71174240112305,
          -19.288471221923828,
          -23.700468063354492,
          -39.96255111694336,
          -29.060138702392578,
          -28.674203872680664,
          -54.33772277832031,
          -52.62980651855469,
          -22.81932830810547,
          -46.376686096191406,
          -19.848445892333984,
          -21.04513168334961,
          -55.58432388305664,
          -18.406139373779297,
          -38.420265197753906,
          -11.054204940795898,
          -27.671079635620117,
          -39.89738845825195,
          -61.10798645019531,
          -25.787410736083984,
          -29.85749053955078,
          -39.63960647583008,
          -19.976701736450195,
          -16.409147262573242,
          -30.669342041015625,
          -58.35076141357422,
          -23.783235549926758,
          -18.467147827148438,
          -52.037044525146484,
          -25.17398452758789,
          -29.939653396606445,
          -26.88507652282715,
          -30.529401779174805,
          -24.370161056518555,
          -28.0480899810791,
          -23.05220603942871,
          -14.15417194366455,
          -27.030277252197266,
          -25.1169376373291,
          -22.488832473754883,
          -21.612911224365234,
          -40.10661315917969,
          -25.015361785888672,
          -24.361392974853516,
          -19.119831085205078,
          -24.020620346069336,
          -24.90109634399414,
          -31.200361251831055,
          -45.140296936035156,
          -10.857739448547363,
          -26.238895416259766,
          -17.203140258789062,
          -26.239789962768555,
          -24.703182220458984,
          -12.64535140991211,
          -30.13300132751465,
          -1.257594347000122,
          -28.74786376953125,
          -22.8245792388916,
          -27.881813049316406,
          -30.52806282043457,
          -7.692472457885742,
          -24.083818435668945,
          -30.39543914794922,
          -23.603986740112305,
          -43.16716384887695,
          -21.84208869934082,
          -24.711782455444336,
          -46.966007232666016,
          41.999568939208984,
          -26.32284927368164,
          -28.80630874633789,
          -18.6141357421875,
          -27.097396850585938,
          -18.955718994140625,
          5.5535430908203125,
          46.03981018066406,
          -57.79269027709961,
          -53.13729476928711,
          -27.55452537536621,
          -21.96803855895996,
          -29.697935104370117,
          -19.151655197143555,
          -23.30245018005371,
          -44.274173736572266,
          12.897708892822266
         ],
         "xaxis": "x",
         "y": [
          -43.64046096801758,
          -36.74470520019531,
          -36.06691360473633,
          -35.834964752197266,
          -41.822689056396484,
          -36.08348083496094,
          -38.13272476196289,
          -28.155786514282227,
          5.516610145568848,
          -44.465126037597656,
          -43.1737174987793,
          15.240286827087402,
          -28.556272506713867,
          -22.34311866760254,
          6.356191635131836,
          -6.971714973449707,
          -28.20227813720703,
          -44.93558883666992,
          -44.37311553955078,
          -45.587684631347656,
          -32.21487808227539,
          -44.84495544433594,
          -39.26409912109375,
          19.665695190429688,
          -44.42486572265625,
          -12.30108642578125,
          -27.794857025146484,
          17.330549240112305,
          -16.7429256439209,
          -40.69862747192383,
          -14.607988357543945,
          -31.423839569091797,
          -41.80116271972656,
          -30.541593551635742,
          20.925403594970703,
          -47.71369934082031,
          -35.298702239990234,
          13.001564025878906,
          -46.6962890625,
          18.092403411865234,
          19.621278762817383,
          -44.04484558105469,
          -24.655345916748047,
          33.33438491821289,
          17.374916076660156,
          -45.411338806152344,
          -45.792747497558594,
          -31.294336318969727,
          -40.141178131103516,
          -39.35111999511719,
          10.406495094299316,
          -41.12831115722656,
          -29.581226348876953,
          -36.86915969848633,
          3.379838228225708,
          -25.37685775756836,
          -44.91788101196289,
          26.485536575317383,
          -13.822203636169434,
          -40.771888732910156,
          15.033349990844727,
          -40.859527587890625,
          -30.548477172851562,
          -32.35869216918945,
          29.377532958984375,
          -32.20246124267578,
          27.350643157958984,
          -31.789642333984375,
          -48.493125915527344,
          -28.68857765197754,
          3.4163975715637207,
          7.56399393081665,
          -45.73769760131836,
          -41.40040588378906,
          -35.26288986206055,
          -28.782922744750977,
          -43.40144348144531,
          -14.944461822509766,
          -32.41385269165039,
          -37.512516021728516,
          -29.148122787475586,
          -34.38478088378906,
          -36.39971160888672,
          -43.813575744628906,
          -45.433712005615234,
          28.80303192138672,
          -46.06040954589844,
          -36.23299026489258,
          -43.59083557128906,
          -29.0986328125,
          21.662649154663086,
          18.513919830322266,
          18.029220581054688,
          -32.34429168701172,
          -42.965362548828125,
          -39.20463943481445,
          33.43281936645508,
          -32.910369873046875,
          -29.564014434814453,
          -42.94293212890625,
          -47.07643127441406,
          -45.108795166015625,
          15.49442195892334,
          -40.48826217651367,
          9.95201301574707,
          12.150694847106934,
          5.866515159606934,
          -41.762271881103516,
          12.997587203979492,
          3.4365992546081543,
          -26.506229400634766,
          -39.500831604003906,
          -23.215688705444336,
          28.347026824951172,
          -21.245595932006836,
          -42.455535888671875,
          -11.294973373413086,
          -47.368465423583984,
          34.23482131958008,
          -34.77336502075195,
          -31.787561416625977,
          -12.247025489807129,
          -48.465267181396484,
          -12.521787643432617,
          5.938627243041992,
          -25.83942222595215,
          16.675539016723633,
          -31.149051666259766,
          -47.478763580322266,
          -30.02817726135254,
          -48.188846588134766,
          24.921443939208984,
          -27.577627182006836,
          28.255796432495117,
          -29.859834671020508,
          -23.21337890625,
          -30.758447647094727,
          -30.463647842407227,
          22.990800857543945,
          25.46150779724121,
          -1.1960062980651855,
          20.89029884338379,
          0.3025459945201874,
          -16.84365463256836,
          -46.554996490478516,
          28.31629180908203,
          -36.96680450439453,
          -30.099510192871094,
          -33.1794548034668,
          -36.42598342895508,
          18.0483341217041,
          30.103614807128906,
          -18.01753807067871,
          2.054622173309326,
          -43.66530990600586,
          -28.877809524536133,
          30.34287452697754,
          30.986793518066406,
          -44.59326934814453,
          -39.94407272338867,
          -33.42448806762695,
          -43.49781036376953,
          -42.208065032958984,
          -21.69552230834961,
          -34.605926513671875,
          31.981578826904297,
          16.944074630737305,
          -42.03115463256836,
          -45.77129364013672,
          -25.64971923828125,
          -46.084590911865234,
          -31.16334342956543,
          -44.94795608520508,
          -41.9337158203125,
          -38.98136520385742,
          -38.65532302856445,
          -24.787076950073242,
          -38.80106735229492,
          2.1476693153381348,
          -1.6231746673583984,
          11.533584594726562,
          -46.89307403564453,
          -43.685367584228516,
          -46.32619857788086,
          2.9798336029052734,
          -25.215404510498047,
          22.805288314819336,
          10.460844039916992,
          -44.26542663574219,
          -42.80424499511719,
          -13.413975715637207,
          -23.732120513916016,
          -28.589632034301758,
          -42.917667388916016,
          -29.96913719177246,
          -1.7617768049240112,
          -47.16170883178711,
          -29.034358978271484,
          -48.30646896362305,
          -27.991832733154297,
          25.932411193847656,
          -25.510257720947266,
          -41.4644775390625,
          -26.574356079101562,
          -41.169490814208984,
          -16.423627853393555,
          -39.99144744873047,
          -46.62916946411133,
          -30.624849319458008,
          -30.97054672241211,
          1.7055922746658325,
          -28.094440460205078,
          -39.46341323852539,
          -46.71775436401367,
          -32.67572784423828,
          -27.318801879882812,
          -23.2318115234375,
          -42.90213394165039,
          -33.32926559448242,
          -29.934385299682617,
          -47.278812408447266,
          11.20318603515625,
          -32.206233978271484,
          -29.563398361206055,
          -41.935646057128906,
          12.584977149963379,
          -41.56745147705078,
          9.75082778930664,
          -2.0349085330963135,
          -32.47200012207031,
          -36.033512115478516,
          -39.374725341796875,
          -41.108619689941406,
          7.358599662780762,
          33.82316589355469,
          -6.992885589599609,
          -28.656116485595703,
          -41.13069534301758,
          20.764223098754883,
          -30.463539123535156,
          -16.35186767578125,
          -42.505741119384766,
          -44.98300552368164,
          14.039680480957031,
          -30.63849449157715,
          -28.712867736816406,
          17.06729507446289,
          -47.646209716796875,
          17.725078582763672,
          10.111343383789062,
          -25.690202713012695,
          -0.26263299584388733,
          -45.007511138916016,
          11.715757369995117,
          -42.307437896728516,
          14.600249290466309,
          -33.20153045654297,
          19.670495986938477,
          -34.5426139831543,
          -24.961149215698242,
          -46.38644790649414,
          -3.2212560176849365,
          14.473026275634766,
          24.130207061767578,
          -45.0064811706543,
          -36.49322509765625,
          -20.730966567993164,
          -44.21422576904297,
          29.34831428527832,
          2.7179555892944336,
          26.818857192993164,
          -40.01556396484375,
          18.853139877319336,
          3.4129722118377686,
          22.158485412597656,
          3.9649245738983154,
          -44.70852279663086,
          21.311607360839844,
          -42.70671844482422,
          11.607965469360352,
          7.370778560638428,
          -31.439096450805664,
          -45.80927276611328,
          -41.94473648071289,
          6.381725311279297,
          22.546024322509766,
          -40.966522216796875,
          -33.21541976928711,
          20.6517276763916,
          -46.96867370605469,
          -46.110816955566406,
          23.304250717163086,
          21.205419540405273,
          -45.69317626953125,
          31.326826095581055,
          -45.789100646972656,
          -30.521852493286133,
          14.664223670959473,
          -32.48377990722656,
          -6.695136070251465,
          -16.15488624572754,
          -47.35539627075195,
          18.99631690979004,
          18.170820236206055,
          -45.029014587402344,
          -37.3819580078125,
          -4.9256696701049805,
          -47.33641052246094,
          -28.990100860595703,
          -41.26345443725586,
          15.97714614868164,
          -45.02141571044922,
          -31.126596450805664,
          12.805392265319824,
          -27.785812377929688,
          12.745098114013672,
          -46.516971588134766,
          -45.190181732177734,
          -22.25570297241211,
          -41.224822998046875,
          -44.625484466552734,
          -32.19487762451172,
          9.919755935668945,
          -43.600982666015625,
          -36.07585906982422,
          -42.6163215637207,
          14.60518741607666,
          -26.963720321655273,
          -0.26733827590942383,
          -32.200225830078125,
          -38.976585388183594,
          -45.711761474609375,
          -45.499061584472656,
          2.9797871112823486,
          -14.977009773254395,
          -10.545666694641113,
          -31.194808959960938,
          -39.64067840576172,
          -42.85166549682617,
          12.07481861114502,
          -44.3791389465332,
          -22.57724380493164,
          -28.917116165161133,
          -34.2793083190918,
          -46.500770568847656,
          -47.377323150634766,
          -24.042890548706055,
          -21.126941680908203,
          -41.8397331237793,
          -43.58939743041992,
          12.052124977111816,
          -34.41732406616211,
          -41.876888275146484,
          30.981027603149414,
          35.76433181762695,
          -31.73702049255371,
          -37.1874885559082,
          -45.611328125,
          -46.78062057495117,
          -39.33074951171875,
          -26.7962589263916,
          29.328989028930664,
          14.817571640014648,
          17.53419303894043,
          -33.04745101928711,
          -29.86588478088379,
          -37.381046295166016,
          -44.82559585571289,
          -40.636383056640625,
          29.996482849121094,
          -39.38413619995117
         ],
         "yaxis": "y"
        }
       ],
       "layout": {
        "legend": {
         "title": {
          "text": "language"
         },
         "tracegroupgap": 0
        },
        "margin": {
         "t": 60
        },
        "template": {
         "data": {
          "bar": [
           {
            "error_x": {
             "color": "#2a3f5f"
            },
            "error_y": {
             "color": "#2a3f5f"
            },
            "marker": {
             "line": {
              "color": "#E5ECF6",
              "width": 0.5
             },
             "pattern": {
              "fillmode": "overlay",
              "size": 10,
              "solidity": 0.2
             }
            },
            "type": "bar"
           }
          ],
          "barpolar": [
           {
            "marker": {
             "line": {
              "color": "#E5ECF6",
              "width": 0.5
             },
             "pattern": {
              "fillmode": "overlay",
              "size": 10,
              "solidity": 0.2
             }
            },
            "type": "barpolar"
           }
          ],
          "carpet": [
           {
            "aaxis": {
             "endlinecolor": "#2a3f5f",
             "gridcolor": "white",
             "linecolor": "white",
             "minorgridcolor": "white",
             "startlinecolor": "#2a3f5f"
            },
            "baxis": {
             "endlinecolor": "#2a3f5f",
             "gridcolor": "white",
             "linecolor": "white",
             "minorgridcolor": "white",
             "startlinecolor": "#2a3f5f"
            },
            "type": "carpet"
           }
          ],
          "choropleth": [
           {
            "colorbar": {
             "outlinewidth": 0,
             "ticks": ""
            },
            "type": "choropleth"
           }
          ],
          "contour": [
           {
            "colorbar": {
             "outlinewidth": 0,
             "ticks": ""
            },
            "colorscale": [
             [
              0,
              "#0d0887"
             ],
             [
              0.1111111111111111,
              "#46039f"
             ],
             [
              0.2222222222222222,
              "#7201a8"
             ],
             [
              0.3333333333333333,
              "#9c179e"
             ],
             [
              0.4444444444444444,
              "#bd3786"
             ],
             [
              0.5555555555555556,
              "#d8576b"
             ],
             [
              0.6666666666666666,
              "#ed7953"
             ],
             [
              0.7777777777777778,
              "#fb9f3a"
             ],
             [
              0.8888888888888888,
              "#fdca26"
             ],
             [
              1,
              "#f0f921"
             ]
            ],
            "type": "contour"
           }
          ],
          "contourcarpet": [
           {
            "colorbar": {
             "outlinewidth": 0,
             "ticks": ""
            },
            "type": "contourcarpet"
           }
          ],
          "heatmap": [
           {
            "colorbar": {
             "outlinewidth": 0,
             "ticks": ""
            },
            "colorscale": [
             [
              0,
              "#0d0887"
             ],
             [
              0.1111111111111111,
              "#46039f"
             ],
             [
              0.2222222222222222,
              "#7201a8"
             ],
             [
              0.3333333333333333,
              "#9c179e"
             ],
             [
              0.4444444444444444,
              "#bd3786"
             ],
             [
              0.5555555555555556,
              "#d8576b"
             ],
             [
              0.6666666666666666,
              "#ed7953"
             ],
             [
              0.7777777777777778,
              "#fb9f3a"
             ],
             [
              0.8888888888888888,
              "#fdca26"
             ],
             [
              1,
              "#f0f921"
             ]
            ],
            "type": "heatmap"
           }
          ],
          "heatmapgl": [
           {
            "colorbar": {
             "outlinewidth": 0,
             "ticks": ""
            },
            "colorscale": [
             [
              0,
              "#0d0887"
             ],
             [
              0.1111111111111111,
              "#46039f"
             ],
             [
              0.2222222222222222,
              "#7201a8"
             ],
             [
              0.3333333333333333,
              "#9c179e"
             ],
             [
              0.4444444444444444,
              "#bd3786"
             ],
             [
              0.5555555555555556,
              "#d8576b"
             ],
             [
              0.6666666666666666,
              "#ed7953"
             ],
             [
              0.7777777777777778,
              "#fb9f3a"
             ],
             [
              0.8888888888888888,
              "#fdca26"
             ],
             [
              1,
              "#f0f921"
             ]
            ],
            "type": "heatmapgl"
           }
          ],
          "histogram": [
           {
            "marker": {
             "pattern": {
              "fillmode": "overlay",
              "size": 10,
              "solidity": 0.2
             }
            },
            "type": "histogram"
           }
          ],
          "histogram2d": [
           {
            "colorbar": {
             "outlinewidth": 0,
             "ticks": ""
            },
            "colorscale": [
             [
              0,
              "#0d0887"
             ],
             [
              0.1111111111111111,
              "#46039f"
             ],
             [
              0.2222222222222222,
              "#7201a8"
             ],
             [
              0.3333333333333333,
              "#9c179e"
             ],
             [
              0.4444444444444444,
              "#bd3786"
             ],
             [
              0.5555555555555556,
              "#d8576b"
             ],
             [
              0.6666666666666666,
              "#ed7953"
             ],
             [
              0.7777777777777778,
              "#fb9f3a"
             ],
             [
              0.8888888888888888,
              "#fdca26"
             ],
             [
              1,
              "#f0f921"
             ]
            ],
            "type": "histogram2d"
           }
          ],
          "histogram2dcontour": [
           {
            "colorbar": {
             "outlinewidth": 0,
             "ticks": ""
            },
            "colorscale": [
             [
              0,
              "#0d0887"
             ],
             [
              0.1111111111111111,
              "#46039f"
             ],
             [
              0.2222222222222222,
              "#7201a8"
             ],
             [
              0.3333333333333333,
              "#9c179e"
             ],
             [
              0.4444444444444444,
              "#bd3786"
             ],
             [
              0.5555555555555556,
              "#d8576b"
             ],
             [
              0.6666666666666666,
              "#ed7953"
             ],
             [
              0.7777777777777778,
              "#fb9f3a"
             ],
             [
              0.8888888888888888,
              "#fdca26"
             ],
             [
              1,
              "#f0f921"
             ]
            ],
            "type": "histogram2dcontour"
           }
          ],
          "mesh3d": [
           {
            "colorbar": {
             "outlinewidth": 0,
             "ticks": ""
            },
            "type": "mesh3d"
           }
          ],
          "parcoords": [
           {
            "line": {
             "colorbar": {
              "outlinewidth": 0,
              "ticks": ""
             }
            },
            "type": "parcoords"
           }
          ],
          "pie": [
           {
            "automargin": true,
            "type": "pie"
           }
          ],
          "scatter": [
           {
            "fillpattern": {
             "fillmode": "overlay",
             "size": 10,
             "solidity": 0.2
            },
            "type": "scatter"
           }
          ],
          "scatter3d": [
           {
            "line": {
             "colorbar": {
              "outlinewidth": 0,
              "ticks": ""
             }
            },
            "marker": {
             "colorbar": {
              "outlinewidth": 0,
              "ticks": ""
             }
            },
            "type": "scatter3d"
           }
          ],
          "scattercarpet": [
           {
            "marker": {
             "colorbar": {
              "outlinewidth": 0,
              "ticks": ""
             }
            },
            "type": "scattercarpet"
           }
          ],
          "scattergeo": [
           {
            "marker": {
             "colorbar": {
              "outlinewidth": 0,
              "ticks": ""
             }
            },
            "type": "scattergeo"
           }
          ],
          "scattergl": [
           {
            "marker": {
             "colorbar": {
              "outlinewidth": 0,
              "ticks": ""
             }
            },
            "type": "scattergl"
           }
          ],
          "scattermapbox": [
           {
            "marker": {
             "colorbar": {
              "outlinewidth": 0,
              "ticks": ""
             }
            },
            "type": "scattermapbox"
           }
          ],
          "scatterpolar": [
           {
            "marker": {
             "colorbar": {
              "outlinewidth": 0,
              "ticks": ""
             }
            },
            "type": "scatterpolar"
           }
          ],
          "scatterpolargl": [
           {
            "marker": {
             "colorbar": {
              "outlinewidth": 0,
              "ticks": ""
             }
            },
            "type": "scatterpolargl"
           }
          ],
          "scatterternary": [
           {
            "marker": {
             "colorbar": {
              "outlinewidth": 0,
              "ticks": ""
             }
            },
            "type": "scatterternary"
           }
          ],
          "surface": [
           {
            "colorbar": {
             "outlinewidth": 0,
             "ticks": ""
            },
            "colorscale": [
             [
              0,
              "#0d0887"
             ],
             [
              0.1111111111111111,
              "#46039f"
             ],
             [
              0.2222222222222222,
              "#7201a8"
             ],
             [
              0.3333333333333333,
              "#9c179e"
             ],
             [
              0.4444444444444444,
              "#bd3786"
             ],
             [
              0.5555555555555556,
              "#d8576b"
             ],
             [
              0.6666666666666666,
              "#ed7953"
             ],
             [
              0.7777777777777778,
              "#fb9f3a"
             ],
             [
              0.8888888888888888,
              "#fdca26"
             ],
             [
              1,
              "#f0f921"
             ]
            ],
            "type": "surface"
           }
          ],
          "table": [
           {
            "cells": {
             "fill": {
              "color": "#EBF0F8"
             },
             "line": {
              "color": "white"
             }
            },
            "header": {
             "fill": {
              "color": "#C8D4E3"
             },
             "line": {
              "color": "white"
             }
            },
            "type": "table"
           }
          ]
         },
         "layout": {
          "annotationdefaults": {
           "arrowcolor": "#2a3f5f",
           "arrowhead": 0,
           "arrowwidth": 1
          },
          "autotypenumbers": "strict",
          "coloraxis": {
           "colorbar": {
            "outlinewidth": 0,
            "ticks": ""
           }
          },
          "colorscale": {
           "diverging": [
            [
             0,
             "#8e0152"
            ],
            [
             0.1,
             "#c51b7d"
            ],
            [
             0.2,
             "#de77ae"
            ],
            [
             0.3,
             "#f1b6da"
            ],
            [
             0.4,
             "#fde0ef"
            ],
            [
             0.5,
             "#f7f7f7"
            ],
            [
             0.6,
             "#e6f5d0"
            ],
            [
             0.7,
             "#b8e186"
            ],
            [
             0.8,
             "#7fbc41"
            ],
            [
             0.9,
             "#4d9221"
            ],
            [
             1,
             "#276419"
            ]
           ],
           "sequential": [
            [
             0,
             "#0d0887"
            ],
            [
             0.1111111111111111,
             "#46039f"
            ],
            [
             0.2222222222222222,
             "#7201a8"
            ],
            [
             0.3333333333333333,
             "#9c179e"
            ],
            [
             0.4444444444444444,
             "#bd3786"
            ],
            [
             0.5555555555555556,
             "#d8576b"
            ],
            [
             0.6666666666666666,
             "#ed7953"
            ],
            [
             0.7777777777777778,
             "#fb9f3a"
            ],
            [
             0.8888888888888888,
             "#fdca26"
            ],
            [
             1,
             "#f0f921"
            ]
           ],
           "sequentialminus": [
            [
             0,
             "#0d0887"
            ],
            [
             0.1111111111111111,
             "#46039f"
            ],
            [
             0.2222222222222222,
             "#7201a8"
            ],
            [
             0.3333333333333333,
             "#9c179e"
            ],
            [
             0.4444444444444444,
             "#bd3786"
            ],
            [
             0.5555555555555556,
             "#d8576b"
            ],
            [
             0.6666666666666666,
             "#ed7953"
            ],
            [
             0.7777777777777778,
             "#fb9f3a"
            ],
            [
             0.8888888888888888,
             "#fdca26"
            ],
            [
             1,
             "#f0f921"
            ]
           ]
          },
          "colorway": [
           "#636efa",
           "#EF553B",
           "#00cc96",
           "#ab63fa",
           "#FFA15A",
           "#19d3f3",
           "#FF6692",
           "#B6E880",
           "#FF97FF",
           "#FECB52"
          ],
          "font": {
           "color": "#2a3f5f"
          },
          "geo": {
           "bgcolor": "white",
           "lakecolor": "white",
           "landcolor": "#E5ECF6",
           "showlakes": true,
           "showland": true,
           "subunitcolor": "white"
          },
          "hoverlabel": {
           "align": "left"
          },
          "hovermode": "closest",
          "mapbox": {
           "style": "light"
          },
          "paper_bgcolor": "white",
          "plot_bgcolor": "#E5ECF6",
          "polar": {
           "angularaxis": {
            "gridcolor": "white",
            "linecolor": "white",
            "ticks": ""
           },
           "bgcolor": "#E5ECF6",
           "radialaxis": {
            "gridcolor": "white",
            "linecolor": "white",
            "ticks": ""
           }
          },
          "scene": {
           "xaxis": {
            "backgroundcolor": "#E5ECF6",
            "gridcolor": "white",
            "gridwidth": 2,
            "linecolor": "white",
            "showbackground": true,
            "ticks": "",
            "zerolinecolor": "white"
           },
           "yaxis": {
            "backgroundcolor": "#E5ECF6",
            "gridcolor": "white",
            "gridwidth": 2,
            "linecolor": "white",
            "showbackground": true,
            "ticks": "",
            "zerolinecolor": "white"
           },
           "zaxis": {
            "backgroundcolor": "#E5ECF6",
            "gridcolor": "white",
            "gridwidth": 2,
            "linecolor": "white",
            "showbackground": true,
            "ticks": "",
            "zerolinecolor": "white"
           }
          },
          "shapedefaults": {
           "line": {
            "color": "#2a3f5f"
           }
          },
          "ternary": {
           "aaxis": {
            "gridcolor": "white",
            "linecolor": "white",
            "ticks": ""
           },
           "baxis": {
            "gridcolor": "white",
            "linecolor": "white",
            "ticks": ""
           },
           "bgcolor": "#E5ECF6",
           "caxis": {
            "gridcolor": "white",
            "linecolor": "white",
            "ticks": ""
           }
          },
          "title": {
           "x": 0.05
          },
          "xaxis": {
           "automargin": true,
           "gridcolor": "white",
           "linecolor": "white",
           "ticks": "",
           "title": {
            "standoff": 15
           },
           "zerolinecolor": "white",
           "zerolinewidth": 2
          },
          "yaxis": {
           "automargin": true,
           "gridcolor": "white",
           "linecolor": "white",
           "ticks": "",
           "title": {
            "standoff": 15
           },
           "zerolinecolor": "white",
           "zerolinewidth": 2
          }
         }
        },
        "xaxis": {
         "anchor": "y",
         "domain": [
          0,
          1
         ],
         "title": {
          "text": "tsne1"
         }
        },
        "yaxis": {
         "anchor": "x",
         "domain": [
          0,
          1
         ],
         "title": {
          "text": "tsne2"
         }
        }
       }
      }
     },
     "metadata": {},
     "output_type": "display_data"
    }
   ],
   "source": [
    "fig = px.scatter(df, x='tsne1', y='tsne2', color='language',\n",
    "                 title='')\n",
    "fig.show()\n",
    "pio.write_image(fig, \"./plots/wav2vec-l2-tSNE-feats.pdf\")"
   ]
  },
  {
   "cell_type": "markdown",
   "metadata": {},
   "source": [
    "---"
   ]
  }
 ],
 "metadata": {
  "kernelspec": {
   "display_name": "Python 3",
   "language": "python",
   "name": "python3"
  },
  "language_info": {
   "codemirror_mode": {
    "name": "ipython",
    "version": 3
   },
   "file_extension": ".py",
   "mimetype": "text/x-python",
   "name": "python",
   "nbconvert_exporter": "python",
   "pygments_lexer": "ipython3",
   "version": "3.11.10"
  }
 },
 "nbformat": 4,
 "nbformat_minor": 2
}
